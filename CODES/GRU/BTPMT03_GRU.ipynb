{
  "cells": [
    {
      "cell_type": "code",
      "execution_count": 3,
      "metadata": {
        "colab": {
          "base_uri": "https://localhost:8080/"
        },
        "id": "nbIWqt6n2llQ",
        "outputId": "89696bbc-2ddf-4f58-f193-f3e83953dd8b"
      },
      "outputs": [
        {
          "name": "stdout",
          "output_type": "stream",
          "text": [
            "Requirement already satisfied: metpy in c:\\users\\vishn\\appdata\\local\\programs\\python\\python310\\lib\\site-packages (1.4.1)\n",
            "Requirement already satisfied: scipy>=1.4.0 in c:\\users\\vishn\\appdata\\local\\programs\\python\\python310\\lib\\site-packages (from metpy) (1.10.1)\n",
            "Requirement already satisfied: pyproj>=2.6.1 in c:\\users\\vishn\\appdata\\local\\programs\\python\\python310\\lib\\site-packages (from metpy) (3.5.0)\n",
            "Requirement already satisfied: pandas>=1.0.0 in c:\\users\\vishn\\appdata\\local\\programs\\python\\python310\\lib\\site-packages (from metpy) (1.5.3)\n",
            "Requirement already satisfied: xarray>=0.18.0 in c:\\users\\vishn\\appdata\\local\\programs\\python\\python310\\lib\\site-packages (from metpy) (2023.3.0)\n",
            "Requirement already satisfied: traitlets>=5.0.5 in c:\\users\\vishn\\appdata\\local\\programs\\python\\python310\\lib\\site-packages (from metpy) (5.9.0)\n",
            "Requirement already satisfied: numpy>=1.18.0 in c:\\users\\vishn\\appdata\\local\\programs\\python\\python310\\lib\\site-packages (from metpy) (1.24.2)\n",
            "Requirement already satisfied: matplotlib>=3.3.0 in c:\\users\\vishn\\appdata\\local\\programs\\python\\python310\\lib\\site-packages (from metpy) (3.7.0)\n",
            "Requirement already satisfied: pooch>=1.2.0 in c:\\users\\vishn\\appdata\\local\\programs\\python\\python310\\lib\\site-packages (from metpy) (1.7.0)\n",
            "Requirement already satisfied: pint>=0.15 in c:\\users\\vishn\\appdata\\local\\programs\\python\\python310\\lib\\site-packages (from metpy) (0.21)\n",
            "Requirement already satisfied: pillow>=6.2.0 in c:\\users\\vishn\\appdata\\local\\programs\\python\\python310\\lib\\site-packages (from matplotlib>=3.3.0->metpy) (9.4.0)\n",
            "Requirement already satisfied: pyparsing>=2.3.1 in c:\\users\\vishn\\appdata\\local\\programs\\python\\python310\\lib\\site-packages (from matplotlib>=3.3.0->metpy) (3.0.9)\n",
            "Requirement already satisfied: packaging>=20.0 in c:\\users\\vishn\\appdata\\local\\programs\\python\\python310\\lib\\site-packages (from matplotlib>=3.3.0->metpy) (21.3)\n",
            "Requirement already satisfied: contourpy>=1.0.1 in c:\\users\\vishn\\appdata\\local\\programs\\python\\python310\\lib\\site-packages (from matplotlib>=3.3.0->metpy) (1.0.7)\n",
            "Requirement already satisfied: python-dateutil>=2.7 in c:\\users\\vishn\\appdata\\local\\programs\\python\\python310\\lib\\site-packages (from matplotlib>=3.3.0->metpy) (2.8.2)\n",
            "Requirement already satisfied: kiwisolver>=1.0.1 in c:\\users\\vishn\\appdata\\local\\programs\\python\\python310\\lib\\site-packages (from matplotlib>=3.3.0->metpy) (1.4.4)\n",
            "Requirement already satisfied: cycler>=0.10 in c:\\users\\vishn\\appdata\\local\\programs\\python\\python310\\lib\\site-packages (from matplotlib>=3.3.0->metpy) (0.11.0)\n",
            "Requirement already satisfied: fonttools>=4.22.0 in c:\\users\\vishn\\appdata\\local\\programs\\python\\python310\\lib\\site-packages (from matplotlib>=3.3.0->metpy) (4.38.0)\n",
            "Requirement already satisfied: pytz>=2020.1 in c:\\users\\vishn\\appdata\\local\\programs\\python\\python310\\lib\\site-packages (from pandas>=1.0.0->metpy) (2022.7.1)\n",
            "Requirement already satisfied: requests>=2.19.0 in c:\\users\\vishn\\appdata\\local\\programs\\python\\python310\\lib\\site-packages (from pooch>=1.2.0->metpy) (2.28.2)\n",
            "Requirement already satisfied: platformdirs>=2.5.0 in c:\\users\\vishn\\appdata\\local\\programs\\python\\python310\\lib\\site-packages (from pooch>=1.2.0->metpy) (3.2.0)\n",
            "Requirement already satisfied: certifi in c:\\users\\vishn\\appdata\\local\\programs\\python\\python310\\lib\\site-packages (from pyproj>=2.6.1->metpy) (2022.12.7)\n",
            "Requirement already satisfied: six>=1.5 in c:\\users\\vishn\\appdata\\local\\programs\\python\\python310\\lib\\site-packages (from python-dateutil>=2.7->matplotlib>=3.3.0->metpy) (1.16.0)\n",
            "Requirement already satisfied: idna<4,>=2.5 in c:\\users\\vishn\\appdata\\local\\programs\\python\\python310\\lib\\site-packages (from requests>=2.19.0->pooch>=1.2.0->metpy) (3.4)\n",
            "Requirement already satisfied: charset-normalizer<4,>=2 in c:\\users\\vishn\\appdata\\local\\programs\\python\\python310\\lib\\site-packages (from requests>=2.19.0->pooch>=1.2.0->metpy) (3.1.0)\n",
            "Requirement already satisfied: urllib3<1.27,>=1.21.1 in c:\\users\\vishn\\appdata\\local\\programs\\python\\python310\\lib\\site-packages (from requests>=2.19.0->pooch>=1.2.0->metpy) (1.26.15)\n"
          ]
        },
        {
          "name": "stderr",
          "output_type": "stream",
          "text": [
            "WARNING: You are using pip version 21.2.4; however, version 23.1.2 is available.\n",
            "You should consider upgrading via the 'C:\\Users\\vishn\\AppData\\Local\\Programs\\Python\\Python310\\python.exe -m pip install --upgrade pip' command.\n"
          ]
        },
        {
          "name": "stdout",
          "output_type": "stream",
          "text": [
            "Requirement already satisfied: xarray in c:\\users\\vishn\\appdata\\local\\programs\\python\\python310\\lib\\site-packages (2023.3.0)"
          ]
        },
        {
          "name": "stderr",
          "output_type": "stream",
          "text": [
            "WARNING: You are using pip version 21.2.4; however, version 23.1.2 is available.\n",
            "You should consider upgrading via the 'C:\\Users\\vishn\\AppData\\Local\\Programs\\Python\\Python310\\python.exe -m pip install --upgrade pip' command.\n"
          ]
        },
        {
          "name": "stdout",
          "output_type": "stream",
          "text": [
            "\n",
            "Requirement already satisfied: numpy>=1.21 in c:\\users\\vishn\\appdata\\local\\programs\\python\\python310\\lib\\site-packages (from xarray) (1.24.2)\n",
            "Requirement already satisfied: packaging>=21.3 in c:\\users\\vishn\\appdata\\local\\programs\\python\\python310\\lib\\site-packages (from xarray) (21.3)\n",
            "Requirement already satisfied: pandas<2,>=1.4 in c:\\users\\vishn\\appdata\\local\\programs\\python\\python310\\lib\\site-packages (from xarray) (1.5.3)\n",
            "Requirement already satisfied: pyparsing!=3.0.5,>=2.0.2 in c:\\users\\vishn\\appdata\\local\\programs\\python\\python310\\lib\\site-packages (from packaging>=21.3->xarray) (3.0.9)\n",
            "Requirement already satisfied: python-dateutil>=2.8.1 in c:\\users\\vishn\\appdata\\local\\programs\\python\\python310\\lib\\site-packages (from pandas<2,>=1.4->xarray) (2.8.2)\n",
            "Requirement already satisfied: pytz>=2020.1 in c:\\users\\vishn\\appdata\\local\\programs\\python\\python310\\lib\\site-packages (from pandas<2,>=1.4->xarray) (2022.7.1)\n",
            "Requirement already satisfied: six>=1.5 in c:\\users\\vishn\\appdata\\local\\programs\\python\\python310\\lib\\site-packages (from python-dateutil>=2.8.1->pandas<2,>=1.4->xarray) (1.16.0)\n",
            "Requirement already satisfied: arrow in c:\\users\\vishn\\appdata\\local\\programs\\python\\python310\\lib\\site-packages (1.2.3)\n",
            "Requirement already satisfied: python-dateutil>=2.7.0 in c:\\users\\vishn\\appdata\\local\\programs\\python\\python310\\lib\\site-packages (from arrow) (2.8.2)\n",
            "Requirement already satisfied: six>=1.5 in c:\\users\\vishn\\appdata\\local\\programs\\python\\python310\\lib\\site-packages (from python-dateutil>=2.7.0->arrow) (1.16.0)\n"
          ]
        },
        {
          "name": "stderr",
          "output_type": "stream",
          "text": [
            "WARNING: You are using pip version 21.2.4; however, version 23.1.2 is available.\n",
            "You should consider upgrading via the 'C:\\Users\\vishn\\AppData\\Local\\Programs\\Python\\Python310\\python.exe -m pip install --upgrade pip' command.\n"
          ]
        },
        {
          "name": "stdout",
          "output_type": "stream",
          "text": [
            "Requirement already satisfied: metpy in c:\\users\\vishn\\appdata\\local\\programs\\python\\python310\\lib\\site-packages (1.4.1)\n",
            "Requirement already satisfied: numpy>=1.18.0 in c:\\users\\vishn\\appdata\\local\\programs\\python\\python310\\lib\\site-packages (from metpy) (1.24.2)\n",
            "Requirement already satisfied: scipy>=1.4.0 in c:\\users\\vishn\\appdata\\local\\programs\\python\\python310\\lib\\site-packages (from metpy) (1.10.1)\n",
            "Requirement already satisfied: pandas>=1.0.0 in c:\\users\\vishn\\appdata\\local\\programs\\python\\python310\\lib\\site-packages (from metpy) (1.5.3)\n",
            "Requirement already satisfied: pyproj>=2.6.1 in c:\\users\\vishn\\appdata\\local\\programs\\python\\python310\\lib\\site-packages (from metpy) (3.5.0)\n",
            "Requirement already satisfied: traitlets>=5.0.5 in c:\\users\\vishn\\appdata\\local\\programs\\python\\python310\\lib\\site-packages (from metpy) (5.9.0)\n",
            "Requirement already satisfied: pooch>=1.2.0 in c:\\users\\vishn\\appdata\\local\\programs\\python\\python310\\lib\\site-packages (from metpy) (1.7.0)\n",
            "Requirement already satisfied: xarray>=0.18.0 in c:\\users\\vishn\\appdata\\local\\programs\\python\\python310\\lib\\site-packages (from metpy) (2023.3.0)\n",
            "Requirement already satisfied: pint>=0.15 in c:\\users\\vishn\\appdata\\local\\programs\\python\\python310\\lib\\site-packages (from metpy) (0.21)\n",
            "Requirement already satisfied: matplotlib>=3.3.0 in c:\\users\\vishn\\appdata\\local\\programs\\python\\python310\\lib\\site-packages (from metpy) (3.7.0)\n",
            "Requirement already satisfied: cycler>=0.10 in c:\\users\\vishn\\appdata\\local\\programs\\python\\python310\\lib\\site-packages (from matplotlib>=3.3.0->metpy) (0.11.0)\n",
            "Requirement already satisfied: kiwisolver>=1.0.1 in c:\\users\\vishn\\appdata\\local\\programs\\python\\python310\\lib\\site-packages (from matplotlib>=3.3.0->metpy) (1.4.4)\n",
            "Requirement already satisfied: pyparsing>=2.3.1 in c:\\users\\vishn\\appdata\\local\\programs\\python\\python310\\lib\\site-packages (from matplotlib>=3.3.0->metpy) (3.0.9)\n",
            "Requirement already satisfied: contourpy>=1.0.1 in c:\\users\\vishn\\appdata\\local\\programs\\python\\python310\\lib\\site-packages (from matplotlib>=3.3.0->metpy) (1.0.7)\n",
            "Requirement already satisfied: fonttools>=4.22.0 in c:\\users\\vishn\\appdata\\local\\programs\\python\\python310\\lib\\site-packages (from matplotlib>=3.3.0->metpy) (4.38.0)\n",
            "Requirement already satisfied: packaging>=20.0 in c:\\users\\vishn\\appdata\\local\\programs\\python\\python310\\lib\\site-packages (from matplotlib>=3.3.0->metpy) (21.3)\n",
            "Requirement already satisfied: pillow>=6.2.0 in c:\\users\\vishn\\appdata\\local\\programs\\python\\python310\\lib\\site-packages (from matplotlib>=3.3.0->metpy) (9.4.0)\n",
            "Requirement already satisfied: python-dateutil>=2.7 in c:\\users\\vishn\\appdata\\local\\programs\\python\\python310\\lib\\site-packages (from matplotlib>=3.3.0->metpy) (2.8.2)\n",
            "Requirement already satisfied: pytz>=2020.1 in c:\\users\\vishn\\appdata\\local\\programs\\python\\python310\\lib\\site-packages (from pandas>=1.0.0->metpy) (2022.7.1)\n",
            "Requirement already satisfied: platformdirs>=2.5.0 in c:\\users\\vishn\\appdata\\local\\programs\\python\\python310\\lib\\site-packages (from pooch>=1.2.0->metpy) (3.2.0)\n",
            "Requirement already satisfied: requests>=2.19.0 in c:\\users\\vishn\\appdata\\local\\programs\\python\\python310\\lib\\site-packages (from pooch>=1.2.0->metpy) (2.28.2)\n",
            "Requirement already satisfied: certifi in c:\\users\\vishn\\appdata\\local\\programs\\python\\python310\\lib\\site-packages (from pyproj>=2.6.1->metpy) (2022.12.7)\n",
            "Requirement already satisfied: six>=1.5 in c:\\users\\vishn\\appdata\\local\\programs\\python\\python310\\lib\\site-packages (from python-dateutil>=2.7->matplotlib>=3.3.0->metpy) (1.16.0)\n",
            "Requirement already satisfied: urllib3<1.27,>=1.21.1 in c:\\users\\vishn\\appdata\\local\\programs\\python\\python310\\lib\\site-packages (from requests>=2.19.0->pooch>=1.2.0->metpy) (1.26.15)\n",
            "Requirement already satisfied: charset-normalizer<4,>=2 in c:\\users\\vishn\\appdata\\local\\programs\\python\\python310\\lib\\site-packages (from requests>=2.19.0->pooch>=1.2.0->metpy) (3.1.0)\n",
            "Requirement already satisfied: idna<4,>=2.5 in c:\\users\\vishn\\appdata\\local\\programs\\python\\python310\\lib\\site-packages (from requests>=2.19.0->pooch>=1.2.0->metpy) (3.4)\n"
          ]
        },
        {
          "name": "stderr",
          "output_type": "stream",
          "text": [
            "WARNING: You are using pip version 21.2.4; however, version 23.1.2 is available.\n",
            "You should consider upgrading via the 'C:\\Users\\vishn\\AppData\\Local\\Programs\\Python\\Python310\\python.exe -m pip install --upgrade pip' command.\n"
          ]
        },
        {
          "name": "stdout",
          "output_type": "stream",
          "text": [
            "Requirement already satisfied: torch in c:\\users\\vishn\\appdata\\local\\programs\\python\\python310\\lib\\site-packages (2.0.1)\n",
            "Requirement already satisfied: jinja2 in c:\\users\\vishn\\appdata\\local\\programs\\python\\python310\\lib\\site-packages (from torch) (3.1.2)\n",
            "Requirement already satisfied: networkx in c:\\users\\vishn\\appdata\\local\\programs\\python\\python310\\lib\\site-packages (from torch) (3.1)\n",
            "Requirement already satisfied: filelock in c:\\users\\vishn\\appdata\\local\\programs\\python\\python310\\lib\\site-packages (from torch) (3.12.0)\n",
            "Requirement already satisfied: sympy in c:\\users\\vishn\\appdata\\local\\programs\\python\\python310\\lib\\site-packages (from torch) (1.11.1)\n",
            "Requirement already satisfied: typing-extensions in c:\\users\\vishn\\appdata\\local\\programs\\python\\python310\\lib\\site-packages (from torch) (4.5.0)\n",
            "Requirement already satisfied: MarkupSafe>=2.0 in c:\\users\\vishn\\appdata\\local\\programs\\python\\python310\\lib\\site-packages (from jinja2->torch) (2.1.2)\n",
            "Requirement already satisfied: mpmath>=0.19 in c:\\users\\vishn\\appdata\\local\\programs\\python\\python310\\lib\\site-packages (from sympy->torch) (1.3.0)\n"
          ]
        },
        {
          "name": "stderr",
          "output_type": "stream",
          "text": [
            "WARNING: You are using pip version 21.2.4; however, version 23.1.2 is available.\n",
            "You should consider upgrading via the 'C:\\Users\\vishn\\AppData\\Local\\Programs\\Python\\Python310\\python.exe -m pip install --upgrade pip' command.\n"
          ]
        },
        {
          "name": "stdout",
          "output_type": "stream",
          "text": [
            "Requirement already satisfied: setuptools-scm in c:\\users\\vishn\\appdata\\local\\programs\\python\\python310\\lib\\site-packages (7.1.0)\n",
            "Requirement already satisfied: tomli>=1.0.0 in c:\\users\\vishn\\appdata\\local\\programs\\python\\python310\\lib\\site-packages (from setuptools-scm) (2.0.1)\n",
            "Requirement already satisfied: packaging>=20.0 in c:\\users\\vishn\\appdata\\local\\programs\\python\\python310\\lib\\site-packages (from setuptools-scm) (21.3)\n",
            "Requirement already satisfied: typing-extensions in c:\\users\\vishn\\appdata\\local\\programs\\python\\python310\\lib\\site-packages (from setuptools-scm) (4.5.0)\n",
            "Requirement already satisfied: setuptools in c:\\users\\vishn\\appdata\\local\\programs\\python\\python310\\lib\\site-packages (from setuptools-scm) (58.1.0)\n",
            "Requirement already satisfied: pyparsing!=3.0.5,>=2.0.2 in c:\\users\\vishn\\appdata\\local\\programs\\python\\python310\\lib\\site-packages (from packaging>=20.0->setuptools-scm) (3.0.9)\n"
          ]
        },
        {
          "name": "stderr",
          "output_type": "stream",
          "text": [
            "WARNING: You are using pip version 21.2.4; however, version 23.1.2 is available.\n",
            "You should consider upgrading via the 'C:\\Users\\vishn\\AppData\\Local\\Programs\\Python\\Python310\\python.exe -m pip install --upgrade pip' command.\n"
          ]
        },
        {
          "name": "stdout",
          "output_type": "stream",
          "text": [
            "Requirement already satisfied: bresenham in c:\\users\\vishn\\appdata\\local\\programs\\python\\python310\\lib\\site-packages (0.2.1)\n"
          ]
        },
        {
          "name": "stderr",
          "output_type": "stream",
          "text": [
            "WARNING: You are using pip version 21.2.4; however, version 23.1.2 is available.\n",
            "You should consider upgrading via the 'C:\\Users\\vishn\\AppData\\Local\\Programs\\Python\\Python310\\python.exe -m pip install --upgrade pip' command.\n"
          ]
        },
        {
          "name": "stdout",
          "output_type": "stream",
          "text": [
            "Looking in links: https://pytorch-geometric.com/whl/torch-{TORCH}+{CUDA}.html"
          ]
        },
        {
          "name": "stderr",
          "output_type": "stream",
          "text": [
            "    ERROR: Command errored out with exit status 1:\n",
            "     command: 'C:\\Users\\vishn\\AppData\\Local\\Programs\\Python\\Python310\\python.exe' -u -c 'import io, os, sys, setuptools, tokenize; sys.argv[0] = '\"'\"'C:\\\\Users\\\\vishn\\\\AppData\\\\Local\\\\Temp\\\\pip-install-s_qocgy2\\\\torch-scatter_82ba4c789c254c12bb25032909a38048\\\\setup.py'\"'\"'; __file__='\"'\"'C:\\\\Users\\\\vishn\\\\AppData\\\\Local\\\\Temp\\\\pip-install-s_qocgy2\\\\torch-scatter_82ba4c789c254c12bb25032909a38048\\\\setup.py'\"'\"';f = getattr(tokenize, '\"'\"'open'\"'\"', open)(__file__) if os.path.exists(__file__) else io.StringIO('\"'\"'from setuptools import setup; setup()'\"'\"');code = f.read().replace('\"'\"'\\r\\n'\"'\"', '\"'\"'\\n'\"'\"');f.close();exec(compile(code, __file__, '\"'\"'exec'\"'\"'))' install --record 'C:\\Users\\vishn\\AppData\\Local\\Temp\\pip-record-mquextbz\\install-record.txt' --single-version-externally-managed --compile --install-headers 'C:\\Users\\vishn\\AppData\\Local\\Programs\\Python\\Python310\\Include\\torch-scatter'\n",
            "         cwd: C:\\Users\\vishn\\AppData\\Local\\Temp\\pip-install-s_qocgy2\\torch-scatter_82ba4c789c254c12bb25032909a38048\\\n",
            "    Complete output (33 lines):\n",
            "    running install\n",
            "    running build\n",
            "    running build_py\n",
            "    creating build\n",
            "    creating build\\lib.win-amd64-3.10\n",
            "    creating build\\lib.win-amd64-3.10\\torch_scatter\n",
            "    copying torch_scatter\\placeholder.py -> build\\lib.win-amd64-3.10\\torch_scatter\n",
            "    copying torch_scatter\\scatter.py -> build\\lib.win-amd64-3.10\\torch_scatter\n",
            "    copying torch_scatter\\segment_coo.py -> build\\lib.win-amd64-3.10\\torch_scatter\n",
            "    copying torch_scatter\\segment_csr.py -> build\\lib.win-amd64-3.10\\torch_scatter\n",
            "    copying torch_scatter\\testing.py -> build\\lib.win-amd64-3.10\\torch_scatter\n",
            "    copying torch_scatter\\utils.py -> build\\lib.win-amd64-3.10\\torch_scatter\n",
            "    copying torch_scatter\\__init__.py -> build\\lib.win-amd64-3.10\\torch_scatter\n",
            "    creating build\\lib.win-amd64-3.10\\torch_scatter\\composite\n",
            "    copying torch_scatter\\composite\\logsumexp.py -> build\\lib.win-amd64-3.10\\torch_scatter\\composite\n",
            "    copying torch_scatter\\composite\\softmax.py -> build\\lib.win-amd64-3.10\\torch_scatter\\composite\n",
            "    copying torch_scatter\\composite\\std.py -> build\\lib.win-amd64-3.10\\torch_scatter\\composite\n",
            "    copying torch_scatter\\composite\\__init__.py -> build\\lib.win-amd64-3.10\\torch_scatter\\composite\n",
            "    running egg_info\n",
            "    writing torch_scatter.egg-info\\PKG-INFO\n",
            "    writing dependency_links to torch_scatter.egg-info\\dependency_links.txt\n",
            "    writing requirements to torch_scatter.egg-info\\requires.txt\n",
            "    writing top-level names to torch_scatter.egg-info\\top_level.txt\n",
            "    reading manifest file 'torch_scatter.egg-info\\SOURCES.txt'\n",
            "    reading manifest template 'MANIFEST.in'\n",
            "    warning: no previously-included files matching '*' found under directory 'test'\n",
            "    adding license file 'LICENSE'\n",
            "    writing manifest file 'torch_scatter.egg-info\\SOURCES.txt'\n",
            "    running build_ext\n",
            "    C:\\Users\\vishn\\AppData\\Local\\Programs\\Python\\Python310\\lib\\site-packages\\torch\\utils\\cpp_extension.py:359: UserWarning: Error checking compiler version for cl: [WinError 2] The system cannot find the file specified\n",
            "      warnings.warn(f'Error checking compiler version for {compiler}: {error}')\n",
            "    building 'torch_scatter._scatter_cpu' extension\n",
            "    error: Microsoft Visual C++ 14.0 or greater is required. Get it with \"Microsoft C++ Build Tools\": https://visualstudio.microsoft.com/visual-cpp-build-tools/\n",
            "    ----------------------------------------\n",
            "ERROR: Command errored out with exit status 1: 'C:\\Users\\vishn\\AppData\\Local\\Programs\\Python\\Python310\\python.exe' -u -c 'import io, os, sys, setuptools, tokenize; sys.argv[0] = '\"'\"'C:\\\\Users\\\\vishn\\\\AppData\\\\Local\\\\Temp\\\\pip-install-s_qocgy2\\\\torch-scatter_82ba4c789c254c12bb25032909a38048\\\\setup.py'\"'\"'; __file__='\"'\"'C:\\\\Users\\\\vishn\\\\AppData\\\\Local\\\\Temp\\\\pip-install-s_qocgy2\\\\torch-scatter_82ba4c789c254c12bb25032909a38048\\\\setup.py'\"'\"';f = getattr(tokenize, '\"'\"'open'\"'\"', open)(__file__) if os.path.exists(__file__) else io.StringIO('\"'\"'from setuptools import setup; setup()'\"'\"');code = f.read().replace('\"'\"'\\r\\n'\"'\"', '\"'\"'\\n'\"'\"');f.close();exec(compile(code, __file__, '\"'\"'exec'\"'\"'))' install --record 'C:\\Users\\vishn\\AppData\\Local\\Temp\\pip-record-mquextbz\\install-record.txt' --single-version-externally-managed --compile --install-headers 'C:\\Users\\vishn\\AppData\\Local\\Programs\\Python\\Python310\\Include\\torch-scatter' Check the logs for full command output.\n",
            "WARNING: You are using pip version 21.2.4; however, version 23.1.2 is available.\n",
            "You should consider upgrading via the 'C:\\Users\\vishn\\AppData\\Local\\Programs\\Python\\Python310\\python.exe -m pip install --upgrade pip' command.\n"
          ]
        },
        {
          "name": "stdout",
          "output_type": "stream",
          "text": [
            "\n",
            "Collecting torch-scatter\n",
            "  Downloading torch_scatter-2.1.1.tar.gz (107 kB)\n",
            "Using legacy 'setup.py install' for torch-scatter, since package 'wheel' is not installed.\n",
            "Installing collected packages: torch-scatter\n",
            "    Running setup.py install for torch-scatter: started\n",
            "    Running setup.py install for torch-scatter: finished with status 'error'\n",
            "Looking in links: https://pytorch-geometric.com/whl/torch-{TORCH}+{CUDA}.html\n",
            "Collecting torch-sparse\n",
            "  Downloading torch_sparse-0.6.17.tar.gz (209 kB)\n",
            "Requirement already satisfied: scipy in c:\\users\\vishn\\appdata\\local\\programs\\python\\python310\\lib\\site-packages (from torch-sparse) (1.10.1)\n",
            "Requirement already satisfied: numpy<1.27.0,>=1.19.5 in c:\\users\\vishn\\appdata\\local\\programs\\python\\python310\\lib\\site-packages (from scipy->torch-sparse) (1.24.2)\n",
            "Using legacy 'setup.py install' for torch-sparse, since package 'wheel' is not installed.\n",
            "Installing collected packages: torch-sparse\n",
            "    Running setup.py install for torch-sparse: started\n",
            "    Running setup.py install for torch-sparse: finished with status 'error'\n"
          ]
        },
        {
          "name": "stderr",
          "output_type": "stream",
          "text": [
            "    ERROR: Command errored out with exit status 1:\n",
            "     command: 'C:\\Users\\vishn\\AppData\\Local\\Programs\\Python\\Python310\\python.exe' -u -c 'import io, os, sys, setuptools, tokenize; sys.argv[0] = '\"'\"'C:\\\\Users\\\\vishn\\\\AppData\\\\Local\\\\Temp\\\\pip-install-plmwoysa\\\\torch-sparse_035821398b9c4f6dbb60647eb4b1ce50\\\\setup.py'\"'\"'; __file__='\"'\"'C:\\\\Users\\\\vishn\\\\AppData\\\\Local\\\\Temp\\\\pip-install-plmwoysa\\\\torch-sparse_035821398b9c4f6dbb60647eb4b1ce50\\\\setup.py'\"'\"';f = getattr(tokenize, '\"'\"'open'\"'\"', open)(__file__) if os.path.exists(__file__) else io.StringIO('\"'\"'from setuptools import setup; setup()'\"'\"');code = f.read().replace('\"'\"'\\r\\n'\"'\"', '\"'\"'\\n'\"'\"');f.close();exec(compile(code, __file__, '\"'\"'exec'\"'\"'))' install --record 'C:\\Users\\vishn\\AppData\\Local\\Temp\\pip-record-1kfw3kz7\\install-record.txt' --single-version-externally-managed --compile --install-headers 'C:\\Users\\vishn\\AppData\\Local\\Programs\\Python\\Python310\\Include\\torch-sparse'\n",
            "         cwd: C:\\Users\\vishn\\AppData\\Local\\Temp\\pip-install-plmwoysa\\torch-sparse_035821398b9c4f6dbb60647eb4b1ce50\\\n",
            "    Complete output (56 lines):\n",
            "    running install\n",
            "    running build\n",
            "    running build_py\n",
            "    creating build\n",
            "    creating build\\lib.win-amd64-3.10\n",
            "    creating build\\lib.win-amd64-3.10\\torch_sparse\n",
            "    copying torch_sparse\\add.py -> build\\lib.win-amd64-3.10\\torch_sparse\n",
            "    copying torch_sparse\\bandwidth.py -> build\\lib.win-amd64-3.10\\torch_sparse\n",
            "    copying torch_sparse\\cat.py -> build\\lib.win-amd64-3.10\\torch_sparse\n",
            "    copying torch_sparse\\coalesce.py -> build\\lib.win-amd64-3.10\\torch_sparse\n",
            "    copying torch_sparse\\convert.py -> build\\lib.win-amd64-3.10\\torch_sparse\n",
            "    copying torch_sparse\\diag.py -> build\\lib.win-amd64-3.10\\torch_sparse\n",
            "    copying torch_sparse\\eye.py -> build\\lib.win-amd64-3.10\\torch_sparse\n",
            "    copying torch_sparse\\index_select.py -> build\\lib.win-amd64-3.10\\torch_sparse\n",
            "    copying torch_sparse\\masked_select.py -> build\\lib.win-amd64-3.10\\torch_sparse\n",
            "    copying torch_sparse\\matmul.py -> build\\lib.win-amd64-3.10\\torch_sparse\n",
            "    copying torch_sparse\\metis.py -> build\\lib.win-amd64-3.10\\torch_sparse\n",
            "    copying torch_sparse\\mul.py -> build\\lib.win-amd64-3.10\\torch_sparse\n",
            "    copying torch_sparse\\narrow.py -> build\\lib.win-amd64-3.10\\torch_sparse\n",
            "    copying torch_sparse\\permute.py -> build\\lib.win-amd64-3.10\\torch_sparse\n",
            "    copying torch_sparse\\reduce.py -> build\\lib.win-amd64-3.10\\torch_sparse\n",
            "    copying torch_sparse\\rw.py -> build\\lib.win-amd64-3.10\\torch_sparse\n",
            "    copying torch_sparse\\saint.py -> build\\lib.win-amd64-3.10\\torch_sparse\n",
            "    copying torch_sparse\\sample.py -> build\\lib.win-amd64-3.10\\torch_sparse\n",
            "    copying torch_sparse\\select.py -> build\\lib.win-amd64-3.10\\torch_sparse\n",
            "    copying torch_sparse\\spadd.py -> build\\lib.win-amd64-3.10\\torch_sparse\n",
            "    copying torch_sparse\\spmm.py -> build\\lib.win-amd64-3.10\\torch_sparse\n",
            "    copying torch_sparse\\spspmm.py -> build\\lib.win-amd64-3.10\\torch_sparse\n",
            "    copying torch_sparse\\storage.py -> build\\lib.win-amd64-3.10\\torch_sparse\n",
            "    copying torch_sparse\\tensor.py -> build\\lib.win-amd64-3.10\\torch_sparse\n",
            "    copying torch_sparse\\testing.py -> build\\lib.win-amd64-3.10\\torch_sparse\n",
            "    copying torch_sparse\\transpose.py -> build\\lib.win-amd64-3.10\\torch_sparse\n",
            "    copying torch_sparse\\typing.py -> build\\lib.win-amd64-3.10\\torch_sparse\n",
            "    copying torch_sparse\\utils.py -> build\\lib.win-amd64-3.10\\torch_sparse\n",
            "    copying torch_sparse\\__init__.py -> build\\lib.win-amd64-3.10\\torch_sparse\n",
            "    running egg_info\n",
            "    writing torch_sparse.egg-info\\PKG-INFO\n",
            "    writing dependency_links to torch_sparse.egg-info\\dependency_links.txt\n",
            "    writing requirements to torch_sparse.egg-info\\requires.txt\n",
            "    writing top-level names to torch_sparse.egg-info\\top_level.txt\n",
            "    reading manifest file 'torch_sparse.egg-info\\SOURCES.txt'\n",
            "    reading manifest template 'MANIFEST.in'\n",
            "    warning: no previously-included files matching '*' found under directory 'third_party\\parallel-hashmap\\css'\n",
            "    warning: no previously-included files matching '*' found under directory 'third_party\\parallel-hashmap\\html'\n",
            "    warning: no previously-included files matching '*' found under directory 'third_party\\parallel-hashmap\\tests'\n",
            "    warning: no previously-included files matching '*' found under directory 'third_party\\parallel-hashmap\\examples'\n",
            "    warning: no previously-included files matching '*' found under directory 'third_party\\parallel-hashmap\\benchmark'\n",
            "    warning: no previously-included files matching '*' found under directory 'test'\n",
            "    warning: no previously-included files matching '*' found under directory 'benchmark'\n",
            "    adding license file 'LICENSE'\n",
            "    writing manifest file 'torch_sparse.egg-info\\SOURCES.txt'\n",
            "    running build_ext\n",
            "    C:\\Users\\vishn\\AppData\\Local\\Programs\\Python\\Python310\\lib\\site-packages\\torch\\utils\\cpp_extension.py:359: UserWarning: Error checking compiler version for cl: [WinError 2] The system cannot find the file specified\n",
            "      warnings.warn(f'Error checking compiler version for {compiler}: {error}')\n",
            "    building 'torch_sparse._convert_cpu' extension\n",
            "    error: Microsoft Visual C++ 14.0 or greater is required. Get it with \"Microsoft C++ Build Tools\": https://visualstudio.microsoft.com/visual-cpp-build-tools/\n",
            "    ----------------------------------------\n",
            "ERROR: Command errored out with exit status 1: 'C:\\Users\\vishn\\AppData\\Local\\Programs\\Python\\Python310\\python.exe' -u -c 'import io, os, sys, setuptools, tokenize; sys.argv[0] = '\"'\"'C:\\\\Users\\\\vishn\\\\AppData\\\\Local\\\\Temp\\\\pip-install-plmwoysa\\\\torch-sparse_035821398b9c4f6dbb60647eb4b1ce50\\\\setup.py'\"'\"'; __file__='\"'\"'C:\\\\Users\\\\vishn\\\\AppData\\\\Local\\\\Temp\\\\pip-install-plmwoysa\\\\torch-sparse_035821398b9c4f6dbb60647eb4b1ce50\\\\setup.py'\"'\"';f = getattr(tokenize, '\"'\"'open'\"'\"', open)(__file__) if os.path.exists(__file__) else io.StringIO('\"'\"'from setuptools import setup; setup()'\"'\"');code = f.read().replace('\"'\"'\\r\\n'\"'\"', '\"'\"'\\n'\"'\"');f.close();exec(compile(code, __file__, '\"'\"'exec'\"'\"'))' install --record 'C:\\Users\\vishn\\AppData\\Local\\Temp\\pip-record-1kfw3kz7\\install-record.txt' --single-version-externally-managed --compile --install-headers 'C:\\Users\\vishn\\AppData\\Local\\Programs\\Python\\Python310\\Include\\torch-sparse' Check the logs for full command output.\n",
            "WARNING: You are using pip version 21.2.4; however, version 23.1.2 is available.\n",
            "You should consider upgrading via the 'C:\\Users\\vishn\\AppData\\Local\\Programs\\Python\\Python310\\python.exe -m pip install --upgrade pip' command.\n"
          ]
        },
        {
          "name": "stdout",
          "output_type": "stream",
          "text": [
            "Looking in links: https://pytorch-geometric.com/whl/torch-{TORCH}+{CUDA}.html\n",
            "Collecting torch-cluster\n",
            "  Downloading torch_cluster-1.6.1.tar.gz (53 kB)\n",
            "Requirement already satisfied: scipy in c:\\users\\vishn\\appdata\\local\\programs\\python\\python310\\lib\\site-packages (from torch-cluster) (1.10.1)\n",
            "Requirement already satisfied: numpy<1.27.0,>=1.19.5 in c:\\users\\vishn\\appdata\\local\\programs\\python\\python310\\lib\\site-packages (from scipy->torch-cluster) (1.24.2)\n",
            "Using legacy 'setup.py install' for torch-cluster, since package 'wheel' is not installed.\n",
            "Installing collected packages: torch-cluster\n",
            "    Running setup.py install for torch-cluster: started\n",
            "    Running setup.py install for torch-cluster: finished with status 'error'\n"
          ]
        },
        {
          "name": "stderr",
          "output_type": "stream",
          "text": [
            "    ERROR: Command errored out with exit status 1:\n",
            "     command: 'C:\\Users\\vishn\\AppData\\Local\\Programs\\Python\\Python310\\python.exe' -u -c 'import io, os, sys, setuptools, tokenize; sys.argv[0] = '\"'\"'C:\\\\Users\\\\vishn\\\\AppData\\\\Local\\\\Temp\\\\pip-install-abd836si\\\\torch-cluster_ad8d4e1b33a749a49568d24feed2cfc7\\\\setup.py'\"'\"'; __file__='\"'\"'C:\\\\Users\\\\vishn\\\\AppData\\\\Local\\\\Temp\\\\pip-install-abd836si\\\\torch-cluster_ad8d4e1b33a749a49568d24feed2cfc7\\\\setup.py'\"'\"';f = getattr(tokenize, '\"'\"'open'\"'\"', open)(__file__) if os.path.exists(__file__) else io.StringIO('\"'\"'from setuptools import setup; setup()'\"'\"');code = f.read().replace('\"'\"'\\r\\n'\"'\"', '\"'\"'\\n'\"'\"');f.close();exec(compile(code, __file__, '\"'\"'exec'\"'\"'))' install --record 'C:\\Users\\vishn\\AppData\\Local\\Temp\\pip-record-0nybc17d\\install-record.txt' --single-version-externally-managed --compile --install-headers 'C:\\Users\\vishn\\AppData\\Local\\Programs\\Python\\Python310\\Include\\torch-cluster'\n",
            "         cwd: C:\\Users\\vishn\\AppData\\Local\\Temp\\pip-install-abd836si\\torch-cluster_ad8d4e1b33a749a49568d24feed2cfc7\\\n",
            "    Complete output (31 lines):\n",
            "    running install\n",
            "    running build\n",
            "    running build_py\n",
            "    creating build\n",
            "    creating build\\lib.win-amd64-3.10\n",
            "    creating build\\lib.win-amd64-3.10\\torch_cluster\n",
            "    copying torch_cluster\\fps.py -> build\\lib.win-amd64-3.10\\torch_cluster\n",
            "    copying torch_cluster\\graclus.py -> build\\lib.win-amd64-3.10\\torch_cluster\n",
            "    copying torch_cluster\\grid.py -> build\\lib.win-amd64-3.10\\torch_cluster\n",
            "    copying torch_cluster\\knn.py -> build\\lib.win-amd64-3.10\\torch_cluster\n",
            "    copying torch_cluster\\nearest.py -> build\\lib.win-amd64-3.10\\torch_cluster\n",
            "    copying torch_cluster\\radius.py -> build\\lib.win-amd64-3.10\\torch_cluster\n",
            "    copying torch_cluster\\rw.py -> build\\lib.win-amd64-3.10\\torch_cluster\n",
            "    copying torch_cluster\\sampler.py -> build\\lib.win-amd64-3.10\\torch_cluster\n",
            "    copying torch_cluster\\testing.py -> build\\lib.win-amd64-3.10\\torch_cluster\n",
            "    copying torch_cluster\\__init__.py -> build\\lib.win-amd64-3.10\\torch_cluster\n",
            "    running egg_info\n",
            "    writing torch_cluster.egg-info\\PKG-INFO\n",
            "    writing dependency_links to torch_cluster.egg-info\\dependency_links.txt\n",
            "    writing requirements to torch_cluster.egg-info\\requires.txt\n",
            "    writing top-level names to torch_cluster.egg-info\\top_level.txt\n",
            "    reading manifest file 'torch_cluster.egg-info\\SOURCES.txt'\n",
            "    reading manifest template 'MANIFEST.in'\n",
            "    warning: no previously-included files matching '*' found under directory 'test'\n",
            "    adding license file 'LICENSE'\n",
            "    writing manifest file 'torch_cluster.egg-info\\SOURCES.txt'\n",
            "    running build_ext\n",
            "    C:\\Users\\vishn\\AppData\\Local\\Programs\\Python\\Python310\\lib\\site-packages\\torch\\utils\\cpp_extension.py:359: UserWarning: Error checking compiler version for cl: [WinError 2] The system cannot find the file specified\n",
            "      warnings.warn(f'Error checking compiler version for {compiler}: {error}')\n",
            "    building 'torch_cluster._fps_cpu' extension\n",
            "    error: Microsoft Visual C++ 14.0 or greater is required. Get it with \"Microsoft C++ Build Tools\": https://visualstudio.microsoft.com/visual-cpp-build-tools/\n",
            "    ----------------------------------------\n",
            "ERROR: Command errored out with exit status 1: 'C:\\Users\\vishn\\AppData\\Local\\Programs\\Python\\Python310\\python.exe' -u -c 'import io, os, sys, setuptools, tokenize; sys.argv[0] = '\"'\"'C:\\\\Users\\\\vishn\\\\AppData\\\\Local\\\\Temp\\\\pip-install-abd836si\\\\torch-cluster_ad8d4e1b33a749a49568d24feed2cfc7\\\\setup.py'\"'\"'; __file__='\"'\"'C:\\\\Users\\\\vishn\\\\AppData\\\\Local\\\\Temp\\\\pip-install-abd836si\\\\torch-cluster_ad8d4e1b33a749a49568d24feed2cfc7\\\\setup.py'\"'\"';f = getattr(tokenize, '\"'\"'open'\"'\"', open)(__file__) if os.path.exists(__file__) else io.StringIO('\"'\"'from setuptools import setup; setup()'\"'\"');code = f.read().replace('\"'\"'\\r\\n'\"'\"', '\"'\"'\\n'\"'\"');f.close();exec(compile(code, __file__, '\"'\"'exec'\"'\"'))' install --record 'C:\\Users\\vishn\\AppData\\Local\\Temp\\pip-record-0nybc17d\\install-record.txt' --single-version-externally-managed --compile --install-headers 'C:\\Users\\vishn\\AppData\\Local\\Programs\\Python\\Python310\\Include\\torch-cluster' Check the logs for full command output.\n",
            "WARNING: You are using pip version 21.2.4; however, version 23.1.2 is available.\n",
            "You should consider upgrading via the 'C:\\Users\\vishn\\AppData\\Local\\Programs\\Python\\Python310\\python.exe -m pip install --upgrade pip' command.\n"
          ]
        },
        {
          "name": "stdout",
          "output_type": "stream",
          "text": [
            "Looking in links: https://pytorch-geometric.com/whl/torch-{TORCH}+{CUDA}.html\n",
            "Collecting torch-spline-conv\n",
            "  Downloading torch_spline_conv-1.2.2.tar.gz (25 kB)\n",
            "Using legacy 'setup.py install' for torch-spline-conv, since package 'wheel' is not installed.\n",
            "Installing collected packages: torch-spline-conv\n",
            "    Running setup.py install for torch-spline-conv: started\n",
            "    Running setup.py install for torch-spline-conv: finished with status 'error'\n"
          ]
        },
        {
          "name": "stderr",
          "output_type": "stream",
          "text": [
            "    ERROR: Command errored out with exit status 1:\n",
            "     command: 'C:\\Users\\vishn\\AppData\\Local\\Programs\\Python\\Python310\\python.exe' -u -c 'import io, os, sys, setuptools, tokenize; sys.argv[0] = '\"'\"'C:\\\\Users\\\\vishn\\\\AppData\\\\Local\\\\Temp\\\\pip-install-15v6elxp\\\\torch-spline-conv_59416bef31524b95b91559b0a03f9e74\\\\setup.py'\"'\"'; __file__='\"'\"'C:\\\\Users\\\\vishn\\\\AppData\\\\Local\\\\Temp\\\\pip-install-15v6elxp\\\\torch-spline-conv_59416bef31524b95b91559b0a03f9e74\\\\setup.py'\"'\"';f = getattr(tokenize, '\"'\"'open'\"'\"', open)(__file__) if os.path.exists(__file__) else io.StringIO('\"'\"'from setuptools import setup; setup()'\"'\"');code = f.read().replace('\"'\"'\\r\\n'\"'\"', '\"'\"'\\n'\"'\"');f.close();exec(compile(code, __file__, '\"'\"'exec'\"'\"'))' install --record 'C:\\Users\\vishn\\AppData\\Local\\Temp\\pip-record-gohq9kla\\install-record.txt' --single-version-externally-managed --compile --install-headers 'C:\\Users\\vishn\\AppData\\Local\\Programs\\Python\\Python310\\Include\\torch-spline-conv'\n",
            "         cwd: C:\\Users\\vishn\\AppData\\Local\\Temp\\pip-install-15v6elxp\\torch-spline-conv_59416bef31524b95b91559b0a03f9e74\\\n",
            "    Complete output (26 lines):\n",
            "    running install\n",
            "    running build\n",
            "    running build_py\n",
            "    creating build\n",
            "    creating build\\lib.win-amd64-3.10\n",
            "    creating build\\lib.win-amd64-3.10\\torch_spline_conv\n",
            "    copying torch_spline_conv\\basis.py -> build\\lib.win-amd64-3.10\\torch_spline_conv\n",
            "    copying torch_spline_conv\\conv.py -> build\\lib.win-amd64-3.10\\torch_spline_conv\n",
            "    copying torch_spline_conv\\testing.py -> build\\lib.win-amd64-3.10\\torch_spline_conv\n",
            "    copying torch_spline_conv\\weighting.py -> build\\lib.win-amd64-3.10\\torch_spline_conv\n",
            "    copying torch_spline_conv\\__init__.py -> build\\lib.win-amd64-3.10\\torch_spline_conv\n",
            "    running egg_info\n",
            "    writing torch_spline_conv.egg-info\\PKG-INFO\n",
            "    writing dependency_links to torch_spline_conv.egg-info\\dependency_links.txt\n",
            "    writing requirements to torch_spline_conv.egg-info\\requires.txt\n",
            "    writing top-level names to torch_spline_conv.egg-info\\top_level.txt\n",
            "    reading manifest file 'torch_spline_conv.egg-info\\SOURCES.txt'\n",
            "    reading manifest template 'MANIFEST.in'\n",
            "    warning: no previously-included files matching '*' found under directory 'test'\n",
            "    adding license file 'LICENSE'\n",
            "    writing manifest file 'torch_spline_conv.egg-info\\SOURCES.txt'\n",
            "    running build_ext\n",
            "    C:\\Users\\vishn\\AppData\\Local\\Programs\\Python\\Python310\\lib\\site-packages\\torch\\utils\\cpp_extension.py:359: UserWarning: Error checking compiler version for cl: [WinError 2] The system cannot find the file specified\n",
            "      warnings.warn(f'Error checking compiler version for {compiler}: {error}')\n",
            "    building 'torch_spline_conv._basis_cpu' extension\n",
            "    error: Microsoft Visual C++ 14.0 or greater is required. Get it with \"Microsoft C++ Build Tools\": https://visualstudio.microsoft.com/visual-cpp-build-tools/\n",
            "    ----------------------------------------\n",
            "ERROR: Command errored out with exit status 1: 'C:\\Users\\vishn\\AppData\\Local\\Programs\\Python\\Python310\\python.exe' -u -c 'import io, os, sys, setuptools, tokenize; sys.argv[0] = '\"'\"'C:\\\\Users\\\\vishn\\\\AppData\\\\Local\\\\Temp\\\\pip-install-15v6elxp\\\\torch-spline-conv_59416bef31524b95b91559b0a03f9e74\\\\setup.py'\"'\"'; __file__='\"'\"'C:\\\\Users\\\\vishn\\\\AppData\\\\Local\\\\Temp\\\\pip-install-15v6elxp\\\\torch-spline-conv_59416bef31524b95b91559b0a03f9e74\\\\setup.py'\"'\"';f = getattr(tokenize, '\"'\"'open'\"'\"', open)(__file__) if os.path.exists(__file__) else io.StringIO('\"'\"'from setuptools import setup; setup()'\"'\"');code = f.read().replace('\"'\"'\\r\\n'\"'\"', '\"'\"'\\n'\"'\"');f.close();exec(compile(code, __file__, '\"'\"'exec'\"'\"'))' install --record 'C:\\Users\\vishn\\AppData\\Local\\Temp\\pip-record-gohq9kla\\install-record.txt' --single-version-externally-managed --compile --install-headers 'C:\\Users\\vishn\\AppData\\Local\\Programs\\Python\\Python310\\Include\\torch-spline-conv' Check the logs for full command output.\n",
            "WARNING: You are using pip version 21.2.4; however, version 23.1.2 is available.\n",
            "You should consider upgrading via the 'C:\\Users\\vishn\\AppData\\Local\\Programs\\Python\\Python310\\python.exe -m pip install --upgrade pip' command.\n"
          ]
        },
        {
          "name": "stdout",
          "output_type": "stream",
          "text": [
            "Collecting torch-geometric\n",
            "  Downloading torch_geometric-2.3.1.tar.gz (661 kB)\n",
            "  Installing build dependencies: started\n",
            "  Installing build dependencies: finished with status 'done'\n",
            "  Getting requirements to build wheel: started\n",
            "  Getting requirements to build wheel: finished with status 'done'\n",
            "    Preparing wheel metadata: started\n",
            "    Preparing wheel metadata: finished with status 'done'\n",
            "Requirement already satisfied: scipy in c:\\users\\vishn\\appdata\\local\\programs\\python\\python310\\lib\\site-packages (from torch-geometric) (1.10.1)\n",
            "Requirement already satisfied: jinja2 in c:\\users\\vishn\\appdata\\local\\programs\\python\\python310\\lib\\site-packages (from torch-geometric) (3.1.2)\n",
            "Requirement already satisfied: pyparsing in c:\\users\\vishn\\appdata\\local\\programs\\python\\python310\\lib\\site-packages (from torch-geometric) (3.0.9)\n",
            "Requirement already satisfied: requests in c:\\users\\vishn\\appdata\\local\\programs\\python\\python310\\lib\\site-packages (from torch-geometric) (2.28.2)\n",
            "Requirement already satisfied: numpy in c:\\users\\vishn\\appdata\\local\\programs\\python\\python310\\lib\\site-packages (from torch-geometric) (1.24.2)\n",
            "Requirement already satisfied: psutil>=5.8.0 in c:\\users\\vishn\\appdata\\local\\programs\\python\\python310\\lib\\site-packages (from torch-geometric) (5.9.1)\n",
            "Requirement already satisfied: tqdm in c:\\users\\vishn\\appdata\\local\\programs\\python\\python310\\lib\\site-packages (from torch-geometric) (4.65.0)\n",
            "Requirement already satisfied: scikit-learn in c:\\users\\vishn\\appdata\\local\\programs\\python\\python310\\lib\\site-packages (from torch-geometric) (1.2.2)\n",
            "Requirement already satisfied: MarkupSafe>=2.0 in c:\\users\\vishn\\appdata\\local\\programs\\python\\python310\\lib\\site-packages (from jinja2->torch-geometric) (2.1.2)\n",
            "Requirement already satisfied: certifi>=2017.4.17 in c:\\users\\vishn\\appdata\\local\\programs\\python\\python310\\lib\\site-packages (from requests->torch-geometric) (2022.12.7)\n",
            "Requirement already satisfied: idna<4,>=2.5 in c:\\users\\vishn\\appdata\\local\\programs\\python\\python310\\lib\\site-packages (from requests->torch-geometric) (3.4)\n",
            "Requirement already satisfied: urllib3<1.27,>=1.21.1 in c:\\users\\vishn\\appdata\\local\\programs\\python\\python310\\lib\\site-packages (from requests->torch-geometric) (1.26.15)\n",
            "Requirement already satisfied: charset-normalizer<4,>=2 in c:\\users\\vishn\\appdata\\local\\programs\\python\\python310\\lib\\site-packages (from requests->torch-geometric) (3.1.0)\n",
            "Requirement already satisfied: threadpoolctl>=2.0.0 in c:\\users\\vishn\\appdata\\local\\programs\\python\\python310\\lib\\site-packages (from scikit-learn->torch-geometric) (3.1.0)\n",
            "Requirement already satisfied: joblib>=1.1.1 in c:\\users\\vishn\\appdata\\local\\programs\\python\\python310\\lib\\site-packages (from scikit-learn->torch-geometric) (1.2.0)\n",
            "Requirement already satisfied: colorama in c:\\users\\vishn\\appdata\\local\\programs\\python\\python310\\lib\\site-packages (from tqdm->torch-geometric) (0.4.5)\n",
            "Building wheels for collected packages: torch-geometric\n",
            "  Building wheel for torch-geometric (PEP 517): started\n",
            "  Building wheel for torch-geometric (PEP 517): finished with status 'done'\n",
            "  Created wheel for torch-geometric: filename=torch_geometric-2.3.1-py3-none-any.whl size=910500 sha256=4f053bc20fab82ed4c2337996100b1224e6c55c9eccf14a201c66b0fdb99f4dd\n",
            "  Stored in directory: c:\\users\\vishn\\appdata\\local\\pip\\cache\\wheels\\ac\\dc\\30\\e2874821ff308ee67dcd7a66dbde912411e19e35a1addda028\n",
            "Successfully built torch-geometric\n",
            "Installing collected packages: torch-geometric\n",
            "Successfully installed torch-geometric-2.3.1\n"
          ]
        },
        {
          "name": "stderr",
          "output_type": "stream",
          "text": [
            "WARNING: You are using pip version 21.2.4; however, version 23.1.2 is available.\n",
            "You should consider upgrading via the 'C:\\Users\\vishn\\AppData\\Local\\Programs\\Python\\Python310\\python.exe -m pip install --upgrade pip' command.\n"
          ]
        },
        {
          "ename": "AttributeError",
          "evalue": "'NoneType' object has no attribute 'replace'",
          "output_type": "error",
          "traceback": [
            "\u001b[1;31m---------------------------------------------------------------------------\u001b[0m",
            "\u001b[1;31mAttributeError\u001b[0m                            Traceback (most recent call last)",
            "\u001b[1;32mc:\\Users\\vishn\\OneDrive\\Documents\\BTP\\CODES\\GRU\\BTPMT03_GRU.ipynb Cell 1\u001b[0m in \u001b[0;36m<cell line: 26>\u001b[1;34m()\u001b[0m\n\u001b[0;32m     <a href='vscode-notebook-cell:/c%3A/Users/vishn/OneDrive/Documents/BTP/CODES/GRU/BTPMT03_GRU.ipynb#W0sZmlsZQ%3D%3D?line=22'>23</a>\u001b[0m   \u001b[39mreturn\u001b[39;00m \u001b[39m'\u001b[39m\u001b[39mcu\u001b[39m\u001b[39m'\u001b[39m \u001b[39m+\u001b[39m version\u001b[39m.\u001b[39mreplace(\u001b[39m'\u001b[39m\u001b[39m.\u001b[39m\u001b[39m'\u001b[39m, \u001b[39m'\u001b[39m\u001b[39m'\u001b[39m)\n\u001b[0;32m     <a href='vscode-notebook-cell:/c%3A/Users/vishn/OneDrive/Documents/BTP/CODES/GRU/BTPMT03_GRU.ipynb#W0sZmlsZQ%3D%3D?line=24'>25</a>\u001b[0m CUDA_version \u001b[39m=\u001b[39m torch\u001b[39m.\u001b[39mversion\u001b[39m.\u001b[39mcuda\n\u001b[1;32m---> <a href='vscode-notebook-cell:/c%3A/Users/vishn/OneDrive/Documents/BTP/CODES/GRU/BTPMT03_GRU.ipynb#W0sZmlsZQ%3D%3D?line=25'>26</a>\u001b[0m CUDA \u001b[39m=\u001b[39m format_cuda_version(CUDA_version)\n",
            "\u001b[1;32mc:\\Users\\vishn\\OneDrive\\Documents\\BTP\\CODES\\GRU\\BTPMT03_GRU.ipynb Cell 1\u001b[0m in \u001b[0;36mformat_cuda_version\u001b[1;34m(version)\u001b[0m\n\u001b[0;32m     <a href='vscode-notebook-cell:/c%3A/Users/vishn/OneDrive/Documents/BTP/CODES/GRU/BTPMT03_GRU.ipynb#W0sZmlsZQ%3D%3D?line=21'>22</a>\u001b[0m \u001b[39mdef\u001b[39;00m \u001b[39mformat_cuda_version\u001b[39m(version):\n\u001b[1;32m---> <a href='vscode-notebook-cell:/c%3A/Users/vishn/OneDrive/Documents/BTP/CODES/GRU/BTPMT03_GRU.ipynb#W0sZmlsZQ%3D%3D?line=22'>23</a>\u001b[0m   \u001b[39mreturn\u001b[39;00m \u001b[39m'\u001b[39m\u001b[39mcu\u001b[39m\u001b[39m'\u001b[39m \u001b[39m+\u001b[39m version\u001b[39m.\u001b[39;49mreplace(\u001b[39m'\u001b[39m\u001b[39m.\u001b[39m\u001b[39m'\u001b[39m, \u001b[39m'\u001b[39m\u001b[39m'\u001b[39m)\n",
            "\u001b[1;31mAttributeError\u001b[0m: 'NoneType' object has no attribute 'replace'"
          ]
        }
      ],
      "source": [
        "#@title Packages\n",
        "Packages = \"Packages\" #@param {type:\"string\"}\n",
        "!pip install metpy\n",
        "!pip install xarray\n",
        "!pip install arrow\n",
        "!pip install metpy\n",
        "!pip install torch\n",
        "!pip install setuptools-scm\n",
        "!pip install bresenham\n",
        "!pip install torch-scatter     -f https://pytorch-geometric.com/whl/torch-{TORCH}+{CUDA}.html\n",
        "!pip install torch-sparse      -f https://pytorch-geometric.com/whl/torch-{TORCH}+{CUDA}.html\n",
        "!pip install torch-cluster     -f https://pytorch-geometric.com/whl/torch-{TORCH}+{CUDA}.html\n",
        "!pip install torch-spline-conv -f https://pytorch-geometric.com/whl/torch-{TORCH}+{CUDA}.html\n",
        "!pip install torch-geometric\n",
        "import torch\n",
        "def format_pytorch_version(version):\n",
        "  return version.split('+')[0]\n",
        " \n",
        "TORCH_version = torch.__version__\n",
        "TORCH = format_pytorch_version(TORCH_version)\n",
        " \n",
        "def format_cuda_version(version):\n",
        "  return 'cu' + version.replace('.', '')\n",
        " \n",
        "CUDA_version = torch.version.cuda\n",
        "CUDA = format_cuda_version(CUDA_version)\n"
      ]
    },
    {
      "cell_type": "code",
      "execution_count": 2,
      "metadata": {
        "id": "YExegzdv2rvI"
      },
      "outputs": [
        {
          "ename": "ModuleNotFoundError",
          "evalue": "No module named 'torch_geometric'",
          "output_type": "error",
          "traceback": [
            "\u001b[1;31m---------------------------------------------------------------------------\u001b[0m",
            "\u001b[1;31mModuleNotFoundError\u001b[0m                       Traceback (most recent call last)",
            "\u001b[1;32mc:\\Users\\vishn\\OneDrive\\Documents\\BTP\\CODES\\GRU\\BTPMT03_GRU.ipynb Cell 2\u001b[0m in \u001b[0;36m<cell line: 7>\u001b[1;34m()\u001b[0m\n\u001b[0;32m      <a href='vscode-notebook-cell:/c%3A/Users/vishn/OneDrive/Documents/BTP/CODES/GRU/BTPMT03_GRU.ipynb#W1sZmlsZQ%3D%3D?line=4'>5</a>\u001b[0m \u001b[39mfrom\u001b[39;00m \u001b[39mcollections\u001b[39;00m \u001b[39mimport\u001b[39;00m OrderedDict\n\u001b[0;32m      <a href='vscode-notebook-cell:/c%3A/Users/vishn/OneDrive/Documents/BTP/CODES/GRU/BTPMT03_GRU.ipynb#W1sZmlsZQ%3D%3D?line=5'>6</a>\u001b[0m \u001b[39mfrom\u001b[39;00m \u001b[39mscipy\u001b[39;00m\u001b[39m.\u001b[39;00m\u001b[39mspatial\u001b[39;00m \u001b[39mimport\u001b[39;00m distance\n\u001b[1;32m----> <a href='vscode-notebook-cell:/c%3A/Users/vishn/OneDrive/Documents/BTP/CODES/GRU/BTPMT03_GRU.ipynb#W1sZmlsZQ%3D%3D?line=6'>7</a>\u001b[0m \u001b[39mfrom\u001b[39;00m \u001b[39mtorch_geometric\u001b[39;00m\u001b[39m.\u001b[39;00m\u001b[39mutils\u001b[39;00m \u001b[39mimport\u001b[39;00m dense_to_sparse, to_dense_adj\n\u001b[0;32m      <a href='vscode-notebook-cell:/c%3A/Users/vishn/OneDrive/Documents/BTP/CODES/GRU/BTPMT03_GRU.ipynb#W1sZmlsZQ%3D%3D?line=7'>8</a>\u001b[0m \u001b[39mfrom\u001b[39;00m \u001b[39mgeopy\u001b[39;00m\u001b[39m.\u001b[39;00m\u001b[39mdistance\u001b[39;00m \u001b[39mimport\u001b[39;00m geodesic\n\u001b[0;32m      <a href='vscode-notebook-cell:/c%3A/Users/vishn/OneDrive/Documents/BTP/CODES/GRU/BTPMT03_GRU.ipynb#W1sZmlsZQ%3D%3D?line=8'>9</a>\u001b[0m \u001b[39mfrom\u001b[39;00m \u001b[39mmetpy\u001b[39;00m\u001b[39m.\u001b[39;00m\u001b[39munits\u001b[39;00m \u001b[39mimport\u001b[39;00m units\n",
            "\u001b[1;31mModuleNotFoundError\u001b[0m: No module named 'torch_geometric'"
          ]
        }
      ],
      "source": [
        "#@title Import Packages\n",
        "import os\n",
        "import sys\n",
        "import torch\n",
        "from collections import OrderedDict\n",
        "from scipy.spatial import distance\n",
        "from torch_geometric.utils import dense_to_sparse, to_dense_adj\n",
        "from geopy.distance import geodesic\n",
        "from metpy.units import units\n",
        "import metpy.calc as mpcalc\n",
        "from bresenham import bresenham\n",
        "import yaml\n",
        "# import util\n",
        "# from util import config\n",
        "import numpy as np\n",
        "from datetime import datetime\n",
        "import arrow\n",
        "import metpy.calc as mpcalc\n",
        "from metpy.units import units\n",
        "from torch.utils import data\n",
        "from torch.utils.data import Dataset\n",
        "import os\n",
        "import sys\n",
        "proj_dir = os.path.dirname(os.path.abspath('/content/drive/MyDrive/Delhi Lockdown/GNNDelhi'))\n",
        "sys.path.append(proj_dir)\n",
        "from torch.cuda.amp import GradScaler, autocast\n",
        "from sklearn.metrics import r2_score\n",
        "import matplotlib.pyplot as plt\n",
        "import arrow\n",
        "import torch\n",
        "from torch import nn\n",
        "from tqdm import tqdm\n",
        "import numpy as np\n",
        "import pickle\n",
        "import glob\n",
        "import shutil\n",
        "from prettytable import PrettyTable\n",
        "# from model.cells import GRUCell\n",
        "from torch.nn import Sequential, Linear, Sigmoid\n",
        "from torch_scatter import scatter_add#, scatter_sub  # no scatter sub in lastest PyG\n",
        "from torch.nn import functional as F\n",
        "from torch.nn import Parameter\n",
        "from torch_geometric.nn import GATConv\n"
      ]
    },
    {
      "cell_type": "code",
      "execution_count": null,
      "metadata": {
        "colab": {
          "base_uri": "https://localhost:8080/"
        },
        "id": "QQUMKnJs28Bq",
        "outputId": "87a946a3-1720-46c7-dc7b-7557adef92b9"
      },
      "outputs": [
        {
          "name": "stdout",
          "output_type": "stream",
          "text": [
            "Mounted at /content/drive\n"
          ]
        }
      ],
      "source": [
        "from google.colab import drive\n",
        "drive.mount('/content/drive')"
      ]
    },
    {
      "cell_type": "code",
      "execution_count": null,
      "metadata": {
        "id": "xpTL4BXC2u8o"
      },
      "outputs": [],
      "source": [
        "#@title Dataset_load\n",
        "Hour_3_sample=np.load(\"/content/drive/MyDrive/Dataset.npy\")\n",
        "Hour_3_sample=np.float32(Hour_3_sample)"
      ]
    },
    {
      "cell_type": "code",
      "execution_count": null,
      "metadata": {
        "colab": {
          "base_uri": "https://localhost:8080/"
        },
        "id": "oRLwJtEL42VD",
        "outputId": "64e7cfe7-5de9-4e55-f10e-d928024da9e2"
      },
      "outputs": [
        {
          "data": {
            "text/plain": [
              "(8767, 266, 9)"
            ]
          },
          "execution_count": 14,
          "metadata": {},
          "output_type": "execute_result"
        }
      ],
      "source": [
        "Hour_3_sample.shape"
      ]
    },
    {
      "cell_type": "code",
      "execution_count": null,
      "metadata": {
        "id": "4fKi6ahQ46Pr"
      },
      "outputs": [],
      "source": [
        "#@title Dataset_object\n",
        "class HazeData(data.Dataset):\n",
        "    def __init__(self,\n",
        "                       hist_len=16,\n",
        "                       pred_len=8,\n",
        "                       dataset_num=1,\n",
        "                       flag='T'):\n",
        " \n",
        "        if flag == 'Train':\n",
        "            start_time_str = [[2022, 1, 1], 'GMT']\n",
        "            end_time_str = [[2022, 10, 23], 'GMT']\n",
        "        elif flag == 'Val':\n",
        "            start_time_str = [[2020, 6, 2], 'GMT']\n",
        "            end_time_str = [[2022, 8, 6], 'GMT']\n",
        "        elif flag == 'Test':\n",
        "            start_time_str = [[2022, 10,24], 'GMT']\n",
        "            end_time_str = [[2022,12,31], 'GMT']\n",
        "        else:\n",
        "            raise Exception('Wrong Flag!')\n",
        "        self.start_time = self._get_time(start_time_str)\n",
        "        self.end_time = self._get_time(end_time_str)\n",
        "        self.data_start = self._get_time([[2022, 1, 1, 0, 0], 'GMT'])\n",
        "        #config['dataset']['data_start']\n",
        "        #config['dataset']['data_end']\n",
        "        self.data_end = self._get_time([[2022, 12, 31, 11, 0], 'GMT'])\n",
        "        # file_dir = config['filepath']\n",
        "        # self.knowair_fp = file_dir\n",
        "        # print(self.knowair_fp)\n",
        "        #self.graph = graph\n",
        "        self._load_npy()\n",
        "        self._gen_time_arr()\n",
        "        self._process_time()\n",
        "        #self._process_feature2()\n",
        "        self.feature = np.float32(self.feature)\n",
        "        self.pm25 = np.float32(self.pm25)\n",
        "       \n",
        "        seq_len = hist_len + pred_len\n",
        "        # print(seq_len)\n",
        "        self._add_time_dim(seq_len)\n",
        "        self._calc_mean_std()\n",
        "        # self._norm()\n",
        "        # self._get_time()\n",
        " \n",
        "    def _norm(self):\n",
        "        # print(np.isnan(self.feature))\n",
        "        self.feature = (self.feature - self.feature_mean) / self.feature_std\n",
        "        # print(np.isnan(self.feature))\n",
        "        self.pm25 = (self.pm25 - self.pm25_mean) / self.pm25_std\n",
        "        # print(self.pm25.shape)\n",
        " \n",
        " \n",
        "    def _add_time_dim(self, seq_len):\n",
        " \n",
        "        def _add_t(arr, seq_len):\n",
        "            t_len = arr.shape[0]\n",
        "            #print(t_len)\n",
        "            #print(seq_len)\n",
        "            assert t_len > seq_len\n",
        "            arr_ts = []\n",
        "            for i in range(seq_len, t_len):\n",
        "                arr_t = arr[i-seq_len:i]\n",
        "                arr_ts.append(arr_t)\n",
        "            arr_ts = np.stack(arr_ts, axis=0)\n",
        "            return arr_ts\n",
        "        \n",
        "        self.pm25 = _add_t(self.pm25, seq_len)\n",
        "        # print(self.pm25.shape)\n",
        "        self.feature = _add_t(self.feature, seq_len)\n",
        "        self.time_arr = _add_t(self.time_arr, seq_len)\n",
        "        # print(\"time se panga\",self.time_arr.shape)\n",
        " \n",
        "    def _calc_mean_std(self):\n",
        "        self.featmean = self.feature.mean(axis=(0,1,2))\n",
        "        # print(\"featmean\",self.featmean.shape)\n",
        "        self.featstd = self.feature.std(axis=(0,1,2))\n",
        "        # print(\"featstd\",self.featstd)\n",
        "        # self.wind_mean = self.featmean[-2:]\n",
        "        # self.wind_std = self.featstd[-2:]\n",
        "        self.pm25_mean = self.pm25.mean()\n",
        "        self.pm25_std = self.pm25.std()\n",
        "        self.feature_mean = self.featmean\n",
        "        self.feature_std = self.featstd\n",
        "        # self.wind_mean = self.featmean[-2:]\n",
        "        # self.wind_std = self.featstd[-2:]\n",
        "        # self.pm25_mean = PM_mean\n",
        "        # self.pm25_std = PM_std\n",
        " \n",
        "    def _process_feature1(self):\n",
        "        # metero_var = config['data']['metero_var']\n",
        "        # # print(metero_var)\n",
        "        # metero_use = config['experiments']['metero_use']\n",
        "        # metero_idx = [metero_var.index(var) for var in metero_use]\n",
        "        # # print(metero_idx)\n",
        "        # self.feature = self.feature[:,:,metero_idx]\n",
        "        print(self.feature.shape)\n",
        "        # u = self.feature[:, :, -2] * units.meter / units.second\n",
        "        # v = self.feature[:, :, -1] * units.meter / units.second\n",
        "        # speed = 3.6 * mpcalc.wind_speed(u, v)._magnitude\n",
        "        # direc = mpcalc.wind_direction(u, v)._magnitude\n",
        "        # print(speed.shape)\n",
        "        # speed =self.feature[:,:,2]\n",
        "        # direc=self.feature[:,:,1]\n",
        "        h_arr = []\n",
        "        # print(\"fygj\",h_arr)\n",
        "        w_arr = []\n",
        "        count1=0\n",
        "        for i in self.time_arrow:\n",
        "            # print(\"fygj\",i)\n",
        "            # count1=count1+1\n",
        "            # print(count1)\n",
        "            h_arr.append(i.hour)\n",
        "            w_arr.append(i.isoweekday())\n",
        "        h_arr = np.stack(h_arr, axis=-1)\n",
        "        w_arr = np.stack(w_arr, axis=-1)\n",
        "        h_cos=np.cos(2 * np.pi * h_arr/23.0)\n",
        "        h_sin=np.sin(2 * np.pi * h_arr/23.0)\n",
        "        w_cos=np.cos(2 * np.pi * w_arr/6.0)\n",
        "        w_sin=np.sin(2 * np.pi * w_arr/6.0)\n",
        "        # print(\"Age h_arr\",w_arr.shape)\n",
        "        #h_cos = np.repeat(h_cos[:, None], self.graph.node_num, axis=1)\n",
        "        #w_cos = np.repeat(w_cos[:, None], self.graph.node_num, axis=1)\n",
        "        #h_sin = np.repeat(h_sin[:, None], self.graph.node_num, axis=1)\n",
        "        #w_sin = np.repeat(w_sin[:, None], self.graph.node_num, axis=1)\n",
        "        # print(\"Pore h_arr\",h_arr.shape)\n",
        "        # print(\"warr\",w_arr.shape)\n",
        "        # print(\"featdim\",self.feature.shape)\n",
        "        self.feature = np.concatenate([self.feature, h_cos[:, :, None], w_cos[:, :, None], h_sin[:, :, None], w_sin[:, :, None]], axis=-1)\n",
        "        # print(\"feature_clubbed\",self.feature.shape)\n",
        "    def _process_feature2(self):   \n",
        "        h_arr = []\n",
        "        w_arr = []\n",
        "        count1=0\n",
        "        for i in self.time_arrow:\n",
        "            h_arr.append(i.hour)\n",
        "            w_arr.append(i.isoweekday())     \n",
        "        h_arr = np.stack(h_arr, axis=-1)\n",
        "        w_arr = np.stack(w_arr, axis=-1)\n",
        "        #h_arr = np.repeat(h_arr[:, None], self.graph.node_num, axis=1)\n",
        "        #w_arr = np.repeat(w_arr[:, None], self.graph.node_num, axis=1)\n",
        "        self.feature = np.concatenate([self.feature,h_arr[:,:,None],w_arr[:,:,None]],axis=-1)\n",
        "    def _process_time(self):\n",
        "        start_idx = self._get_idx(self.start_time)\n",
        "        # print( \"start\",start_idx)\n",
        "        end_idx = self._get_idx(self.end_time)\n",
        "        # print(\"end\",end_idx)\n",
        "        self.pm25 = self.pm25[start_idx: end_idx+1, :]\n",
        "        self.feature = self.feature[start_idx: end_idx+1, :]\n",
        "        # print(\"feat_today\",self.feature.shape)\n",
        "        # print(np.isnan(self.feature))\n",
        "        self.time_arr = self.time_arr[start_idx: end_idx+1]\n",
        "        self.time_arrow = self.time_arrow[start_idx: end_idx + 1]\n",
        "        # print(time_arrow.shape)\n",
        " \n",
        "    def _gen_time_arr(self):\n",
        "        self.time_arrow = []\n",
        "        self.time_arr = []\n",
        "        count=0\n",
        "        for time_arrow in arrow.Arrow.interval('hours', self.data_start, self.data_end.shift(hours=+3), 3):\n",
        "            # print(time_arrow.int_timestamp)\n",
        "            # print(1)\n",
        "            # count +=1\n",
        "            # print(\"time_arr\", count)\n",
        "            self.time_arrow.append(time_arrow[0])\n",
        "            self.time_arr.append(time_arrow[0].int_timestamp)\n",
        "        self.time_arr = np.stack(self.time_arr, axis=-1)\n",
        "        # print(\"time_arrow\",self.time_arrow)\n",
        "        # print(\"load\",self.time_arr.shape)\n",
        "    def _load_npy(self):\n",
        "        # print(\"load\",self.knowair_fp)\n",
        "        # self.knowair = Hour_3_sample\n",
        "        self.feature = np.delete(Hour_3_sample,3,2)\n",
        "        # print(\"feattter\",self.feature.shape)\n",
        "        self.pm25 = Hour_3_sample[:,:,3]\n",
        "        # print(\"self\", self.pm25.type)\n",
        "    def _get_idx(self, t):\n",
        "        t0 = self.data_start\n",
        "        return int((t.timestamp() - t0.timestamp()) / (60*60*3))\n",
        " \n",
        "    def _get_time(self, time_yaml):\n",
        "        arrow_time = arrow.get(datetime(*time_yaml[0]), time_yaml[1])\n",
        "        return arrow_time\n",
        "    def __len__(self):\n",
        "        return len(self.pm25)\n",
        " \n",
        "    def __getitem__(self, index):\n",
        "        return self.pm25[index], self.feature[index], self.time_arr[index]\n",
        "        # torch.tensor(list(self.pm25[index]),dtype=torch.float32) , torch.tensor(list(self.feature[index]),dtype=torch.float32), torch.tensor(list(self.time_arr[index]),dtype=torch.float32)\n",
        "    \n",
        " \n",
        "if __name__ == '__main__':\n",
        "    # from graph import Graph\n",
        "    #graph = Graph()\n",
        "    train_data = HazeData(flag='Train')\n",
        "    #val_data = HazeData(flag='Val')\n",
        "    test_data = HazeData(flag='Test')"
      ]
    },
    {
      "cell_type": "code",
      "execution_count": null,
      "metadata": {
        "id": "E4A-c4CX660M"
      },
      "outputs": [],
      "source": [
        "#@title Data_Normalization\n",
        "train_data.feature=(train_data.feature-train_data.feature_mean)/train_data.feature_std\n",
        "train_data.pm25=(train_data.pm25-train_data.pm25_mean)/train_data.pm25_std\n",
        "test_data.feature=(test_data.feature-train_data.feature_mean)/train_data.feature_std\n",
        "test_data.pm25=(test_data.pm25-train_data.pm25_mean)/train_data.pm25_std"
      ]
    },
    {
      "cell_type": "code",
      "execution_count": null,
      "metadata": {
        "id": "0V7m2B-l69uc"
      },
      "outputs": [],
      "source": [
        "#@title GRU-Cell\n",
        "GRUCell = \"\" #@param {type:\"string\"}\n",
        "class GRUCell(nn.Module):\n",
        "\n",
        "    def __init__(self, input_size, hidden_size, bias=True):\n",
        "        super(GRUCell, self).__init__()\n",
        "        self.input_size = input_size\n",
        "        self.hidden_size = hidden_size\n",
        "        self.bias = bias\n",
        "        self.x2h = nn.Linear(input_size, 3 * hidden_size, bias=bias)\n",
        "        self.h2h = nn.Linear(hidden_size, 3 * hidden_size, bias=bias)\n",
        "        self.reset_parameters()\n",
        "\n",
        "    def reset_parameters(self):\n",
        "        std = 1.0 / np.sqrt(self.hidden_size)\n",
        "        for w in self.parameters():\n",
        "            w.data.uniform_(-std, std)\n",
        "\n",
        "    def forward(self, x, hidden):\n",
        "        x = x.view(-1, x.size(-1))\n",
        "        #print(\"aa\",x.size(-1))\n",
        "        gate_x = self.x2h(x)\n",
        "        gate_h = self.h2h(hidden)\n",
        "        # print(\"grugateh\",gate_h.shape)\n",
        "        gate_x = gate_x.squeeze()\n",
        "        gate_h = gate_h.squeeze()\n",
        "\n",
        "        i_r, i_i, i_n = gate_x.chunk(3, 1)\n",
        "        h_r, h_i, h_n = gate_h.chunk(3, 1)\n",
        "        \n",
        "        resetgate = torch.sigmoid(i_r + h_r)\n",
        "        inputgate = torch.sigmoid(i_i + h_i)\n",
        "        newgate = torch.tanh(i_n + (resetgate * h_n))\n",
        "\n",
        "        hy = newgate + inputgate * (hidden - newgate)\n",
        "\n",
        "        return hy"
      ]
    },
    {
      "cell_type": "code",
      "execution_count": null,
      "metadata": {
        "id": "VmlXSqD27MkW"
      },
      "outputs": [],
      "source": [
        "class GRU(nn.Module):\n",
        "    def __init__(self, hist_len, pred_len, in_dim, city_num, batch_size, device):\n",
        "        super(GRU, self).__init__()\n",
        "        self.device = device\n",
        "        self.hist_len = hist_len\n",
        "        self.pred_len = pred_len\n",
        "        self.city_num = city_num\n",
        "        self.batch_size = batch_size\n",
        "        self.in_dim = in_dim\n",
        "        self.hid_dim = 32\n",
        "        self.out_dim = 1\n",
        "        self.fc_in = nn.Linear(self.in_dim, self.hid_dim)\n",
        "        self.fc_out = nn.Linear(self.hid_dim, self.out_dim)\n",
        "        self.gru_cell = GRUCell(self.hid_dim, self.hid_dim)\n",
        "\n",
        "    def forward(self, pm25_hist, feature):\n",
        "        pm25_pred = []\n",
        "        h0 = torch.zeros(self.batch_size * self.city_num, self.hid_dim).to(self.device)\n",
        "        hn = h0\n",
        "        #xn = pm25_hist[:, -1]\n",
        "        for i in range(self.hist_len):\n",
        "            # print(torch.unsqueeze(xn,-1).shape)\n",
        "            # print(feature[:, self.hist_len+i].shape)\n",
        "            x = torch.cat((torch.unsqueeze(pm25_hist[:,i],-1), feature[:, i]), dim=-1)\n",
        "            # print(x.shape)\n",
        "            x = self.fc_in(x)\n",
        "            hn = self.gru_cell(x, hn)\n",
        "            xn = hn.view(self.batch_size, self.city_num, self.hid_dim)\n",
        "            xn = self.fc_out(xn)\n",
        "  \n",
        "        for i in range(self.pred_len):\n",
        "            x = torch.cat((xn, feature[:, self.hist_len+i]), dim=-1)\n",
        "            x = self.fc_in(x)\n",
        "            hn = self.gru_cell(x, hn)\n",
        "            xn = hn.view(self.batch_size, self.city_num, self.hid_dim)\n",
        "            xn = self.fc_out(xn)\n",
        "            pm25_pred.append(xn)\n",
        "        pm25_pred = torch.stack(pm25_pred, dim=1)\n",
        "        pm25_pred = torch.squeeze(pm25_pred)\n",
        "        return pm25_pred"
      ]
    },
    {
      "cell_type": "code",
      "execution_count": null,
      "metadata": {
        "colab": {
          "base_uri": "https://localhost:8080/"
        },
        "id": "d6_AH1-w7o4u",
        "outputId": "b04485b7-4257-442d-8d49-799b40176d1c"
      },
      "outputs": [
        {
          "name": "stderr",
          "output_type": "stream",
          "text": [
            "/usr/local/lib/python3.9/dist-packages/torch/cuda/amp/grad_scaler.py:120: UserWarning: torch.cuda.amp.GradScaler is enabled, but CUDA is not available.  Disabling.\n",
            "  warnings.warn(\"torch.cuda.amp.GradScaler is enabled, but CUDA is not available.  Disabling.\")\n"
          ]
        },
        {
          "name": "stdout",
          "output_type": "stream",
          "text": [
            "\n",
            "No. 0 experiment ~~~\n",
            "GRU(\n",
            "  (fc_in): Linear(in_features=9, out_features=32, bias=True)\n",
            "  (fc_out): Linear(in_features=32, out_features=1, bias=True)\n",
            "  (gru_cell): GRUCell(\n",
            "    (x2h): Linear(in_features=32, out_features=96, bias=True)\n",
            "    (h2h): Linear(in_features=32, out_features=96, bias=True)\n",
            "  )\n",
            ")\n",
            "+---------------------+------------+\n",
            "|       Modules       | Parameters |\n",
            "+---------------------+------------+\n",
            "|     fc_in.weight    |    288     |\n",
            "|      fc_in.bias     |     32     |\n",
            "|    fc_out.weight    |     32     |\n",
            "|     fc_out.bias     |     1      |\n",
            "| gru_cell.x2h.weight |    3072    |\n",
            "|  gru_cell.x2h.bias  |     96     |\n",
            "| gru_cell.h2h.weight |    3072    |\n",
            "|  gru_cell.h2h.bias  |     96     |\n",
            "+---------------------+------------+\n",
            "Total Trainable Params: 6689\n",
            "\n",
            "Train epoch 0:\n"
          ]
        },
        {
          "name": "stderr",
          "output_type": "stream",
          "text": [
            "73it [00:43,  1.66it/s]\n"
          ]
        },
        {
          "name": "stdout",
          "output_type": "stream",
          "text": [
            "train_loss: 0.2389\n"
          ]
        },
        {
          "name": "stderr",
          "output_type": "stream",
          "text": [
            "<ipython-input-25-dfe4ccc45710>:78: RuntimeWarning: invalid value encountered in long_scalars\n",
            "  csi = hit / (hit + falsealarm + miss)\n",
            "<ipython-input-25-dfe4ccc45710>:79: RuntimeWarning: invalid value encountered in long_scalars\n",
            "  pod = hit / (hit + miss)\n",
            "<ipython-input-25-dfe4ccc45710>:80: RuntimeWarning: invalid value encountered in long_scalars\n",
            "  far = falsealarm / (hit + falsealarm)\n",
            "04/26 08:35:16 PM | Epoch: 0/0.239---Train,0.003----Test,RMSE1.017,NRMSE0.0621,MAE0.921,R2-0.132,CSInan,PODnan,FARnan\n",
            "\n",
            "04/26 08:35:16 PM | Epoch: 0/0.239---Train,0.003----Test,RMSE1.017,NRMSE0.0621,MAE0.921,R2-0.132,CSInan,PODnan,FARnan\n",
            "\n",
            "04/26 08:35:16 PM | Epoch: 0/0.239---Train,0.003----Test,RMSE1.017,NRMSE0.0621,MAE0.921,R2-0.132,CSInan,PODnan,FARnan\n",
            "\n",
            "04/26 08:35:16 PM | Epoch: 0/0.239---Train,0.003----Test,RMSE1.017,NRMSE0.0621,MAE0.921,R2-0.132,CSInan,PODnan,FARnan\n",
            "\n",
            "04/26 08:35:16 PM | Epoch: 0/0.239---Train,0.003----Test,RMSE1.017,NRMSE0.0621,MAE0.921,R2-0.132,CSInan,PODnan,FARnan\n",
            "\n",
            "04/26 08:35:16 PM | Epoch: 0/0.239---Train,0.003----Test,RMSE1.017,NRMSE0.0621,MAE0.921,R2-0.132,CSInan,PODnan,FARnan\n",
            "\n",
            "04/26 08:35:16 PM | Epoch: 0/0.239---Train,0.003----Test,RMSE1.017,NRMSE0.0621,MAE0.921,R2-0.132,CSInan,PODnan,FARnan\n",
            "\n",
            "04/26 08:35:16 PM | Epoch: 0/0.239---Train,0.003----Test,RMSE1.017,NRMSE0.0621,MAE0.921,R2-0.132,CSInan,PODnan,FARnan\n",
            "\n",
            "INFO:gal:Epoch: 0/0.239---Train,0.003----Test,RMSE1.017,NRMSE0.0621,MAE0.921,R2-0.132,CSInan,PODnan,FARnan\n",
            "\n"
          ]
        },
        {
          "name": "stdout",
          "output_type": "stream",
          "text": [
            "rmse 1.0166703\n",
            "Save model: /content/drive/MyDrive/Results/16_8/SAGNN/20230426203428/00/0/model.pth\n",
            "Train loss: 0.2389, Test loss: 0.0034, RMSE: 1.02,NRMSE: 0.0621, MAE: 0.92,R2: -0.1317, CSI: nan, POD: nan, FAR: nan\n",
            "\n",
            "Train epoch 1:\n"
          ]
        },
        {
          "name": "stderr",
          "output_type": "stream",
          "text": [
            "0it [00:00, ?it/s]/usr/local/lib/python3.9/dist-packages/torch/amp/autocast_mode.py:204: UserWarning: User provided device_type of 'cuda', but CUDA is not available. Disabling\n",
            "  warnings.warn('User provided device_type of \\'cuda\\', but CUDA is not available. Disabling')\n",
            "73it [00:42,  1.72it/s]\n"
          ]
        },
        {
          "name": "stdout",
          "output_type": "stream",
          "text": [
            "train_loss: 0.0549\n"
          ]
        },
        {
          "name": "stderr",
          "output_type": "stream",
          "text": [
            "<ipython-input-25-dfe4ccc45710>:78: RuntimeWarning: invalid value encountered in long_scalars\n",
            "  csi = hit / (hit + falsealarm + miss)\n",
            "<ipython-input-25-dfe4ccc45710>:79: RuntimeWarning: invalid value encountered in long_scalars\n",
            "  pod = hit / (hit + miss)\n",
            "<ipython-input-25-dfe4ccc45710>:80: RuntimeWarning: invalid value encountered in long_scalars\n",
            "  far = falsealarm / (hit + falsealarm)\n",
            "04/26 08:36:02 PM | Epoch: 1/0.055---Train,0.008----Test,RMSE1.017,NRMSE0.0621,MAE0.921,R2-0.132,CSInan,PODnan,FARnan\n",
            "\n",
            "04/26 08:36:02 PM | Epoch: 1/0.055---Train,0.008----Test,RMSE1.017,NRMSE0.0621,MAE0.921,R2-0.132,CSInan,PODnan,FARnan\n",
            "\n",
            "04/26 08:36:02 PM | Epoch: 1/0.055---Train,0.008----Test,RMSE1.017,NRMSE0.0621,MAE0.921,R2-0.132,CSInan,PODnan,FARnan\n",
            "\n",
            "04/26 08:36:02 PM | Epoch: 1/0.055---Train,0.008----Test,RMSE1.017,NRMSE0.0621,MAE0.921,R2-0.132,CSInan,PODnan,FARnan\n",
            "\n",
            "04/26 08:36:02 PM | Epoch: 1/0.055---Train,0.008----Test,RMSE1.017,NRMSE0.0621,MAE0.921,R2-0.132,CSInan,PODnan,FARnan\n",
            "\n",
            "04/26 08:36:02 PM | Epoch: 1/0.055---Train,0.008----Test,RMSE1.017,NRMSE0.0621,MAE0.921,R2-0.132,CSInan,PODnan,FARnan\n",
            "\n",
            "04/26 08:36:02 PM | Epoch: 1/0.055---Train,0.008----Test,RMSE1.017,NRMSE0.0621,MAE0.921,R2-0.132,CSInan,PODnan,FARnan\n",
            "\n",
            "04/26 08:36:02 PM | Epoch: 1/0.055---Train,0.008----Test,RMSE1.017,NRMSE0.0621,MAE0.921,R2-0.132,CSInan,PODnan,FARnan\n",
            "\n",
            "INFO:gal:Epoch: 1/0.055---Train,0.008----Test,RMSE1.017,NRMSE0.0621,MAE0.921,R2-0.132,CSInan,PODnan,FARnan\n",
            "\n"
          ]
        },
        {
          "name": "stdout",
          "output_type": "stream",
          "text": [
            "rmse 1.0166703\n",
            "Save model: /content/drive/MyDrive/Results/16_8/SAGNN/20230426203428/00/1/model.pth\n",
            "Train loss: 0.0549, Test loss: 0.0078, RMSE: 1.02,NRMSE: 0.0621, MAE: 0.92,R2: -0.1317, CSI: nan, POD: nan, FAR: nan\n",
            "\n",
            "Train epoch 2:\n"
          ]
        },
        {
          "name": "stderr",
          "output_type": "stream",
          "text": [
            "0it [00:00, ?it/s]/usr/local/lib/python3.9/dist-packages/torch/amp/autocast_mode.py:204: UserWarning: User provided device_type of 'cuda', but CUDA is not available. Disabling\n",
            "  warnings.warn('User provided device_type of \\'cuda\\', but CUDA is not available. Disabling')\n",
            "73it [00:38,  1.92it/s]\n"
          ]
        },
        {
          "name": "stdout",
          "output_type": "stream",
          "text": [
            "train_loss: 0.0638\n"
          ]
        },
        {
          "name": "stderr",
          "output_type": "stream",
          "text": [
            "<ipython-input-25-dfe4ccc45710>:78: RuntimeWarning: invalid value encountered in long_scalars\n",
            "  csi = hit / (hit + falsealarm + miss)\n",
            "<ipython-input-25-dfe4ccc45710>:79: RuntimeWarning: invalid value encountered in long_scalars\n",
            "  pod = hit / (hit + miss)\n",
            "<ipython-input-25-dfe4ccc45710>:80: RuntimeWarning: invalid value encountered in long_scalars\n",
            "  far = falsealarm / (hit + falsealarm)\n",
            "04/26 08:36:45 PM | Epoch: 2/0.064---Train,0.001----Test,RMSE1.017,NRMSE0.0621,MAE0.921,R2-0.132,CSInan,PODnan,FARnan\n",
            "\n",
            "04/26 08:36:45 PM | Epoch: 2/0.064---Train,0.001----Test,RMSE1.017,NRMSE0.0621,MAE0.921,R2-0.132,CSInan,PODnan,FARnan\n",
            "\n",
            "04/26 08:36:45 PM | Epoch: 2/0.064---Train,0.001----Test,RMSE1.017,NRMSE0.0621,MAE0.921,R2-0.132,CSInan,PODnan,FARnan\n",
            "\n",
            "04/26 08:36:45 PM | Epoch: 2/0.064---Train,0.001----Test,RMSE1.017,NRMSE0.0621,MAE0.921,R2-0.132,CSInan,PODnan,FARnan\n",
            "\n",
            "04/26 08:36:45 PM | Epoch: 2/0.064---Train,0.001----Test,RMSE1.017,NRMSE0.0621,MAE0.921,R2-0.132,CSInan,PODnan,FARnan\n",
            "\n",
            "04/26 08:36:45 PM | Epoch: 2/0.064---Train,0.001----Test,RMSE1.017,NRMSE0.0621,MAE0.921,R2-0.132,CSInan,PODnan,FARnan\n",
            "\n",
            "04/26 08:36:45 PM | Epoch: 2/0.064---Train,0.001----Test,RMSE1.017,NRMSE0.0621,MAE0.921,R2-0.132,CSInan,PODnan,FARnan\n",
            "\n",
            "04/26 08:36:45 PM | Epoch: 2/0.064---Train,0.001----Test,RMSE1.017,NRMSE0.0621,MAE0.921,R2-0.132,CSInan,PODnan,FARnan\n",
            "\n",
            "INFO:gal:Epoch: 2/0.064---Train,0.001----Test,RMSE1.017,NRMSE0.0621,MAE0.921,R2-0.132,CSInan,PODnan,FARnan\n",
            "\n"
          ]
        },
        {
          "name": "stdout",
          "output_type": "stream",
          "text": [
            "rmse 1.0166703\n",
            "Save model: /content/drive/MyDrive/Results/16_8/SAGNN/20230426203428/00/2/model.pth\n",
            "Train loss: 0.0638, Test loss: 0.0011, RMSE: 1.02,NRMSE: 0.0621, MAE: 0.92,R2: -0.1317, CSI: nan, POD: nan, FAR: nan\n",
            "\n",
            "Train epoch 3:\n"
          ]
        },
        {
          "name": "stderr",
          "output_type": "stream",
          "text": [
            "0it [00:00, ?it/s]/usr/local/lib/python3.9/dist-packages/torch/amp/autocast_mode.py:204: UserWarning: User provided device_type of 'cuda', but CUDA is not available. Disabling\n",
            "  warnings.warn('User provided device_type of \\'cuda\\', but CUDA is not available. Disabling')\n",
            "73it [00:40,  1.80it/s]\n"
          ]
        },
        {
          "name": "stdout",
          "output_type": "stream",
          "text": [
            "train_loss: 0.0561\n"
          ]
        },
        {
          "name": "stderr",
          "output_type": "stream",
          "text": [
            "<ipython-input-25-dfe4ccc45710>:78: RuntimeWarning: invalid value encountered in long_scalars\n",
            "  csi = hit / (hit + falsealarm + miss)\n",
            "<ipython-input-25-dfe4ccc45710>:79: RuntimeWarning: invalid value encountered in long_scalars\n",
            "  pod = hit / (hit + miss)\n",
            "<ipython-input-25-dfe4ccc45710>:80: RuntimeWarning: invalid value encountered in long_scalars\n",
            "  far = falsealarm / (hit + falsealarm)\n",
            "04/26 08:37:30 PM | Epoch: 3/0.056---Train,0.003----Test,RMSE2.701,NRMSE0.1649,MAE2.640,R2-2.870,CSInan,PODnan,FARnan\n",
            "\n",
            "04/26 08:37:30 PM | Epoch: 3/0.056---Train,0.003----Test,RMSE2.701,NRMSE0.1649,MAE2.640,R2-2.870,CSInan,PODnan,FARnan\n",
            "\n",
            "04/26 08:37:30 PM | Epoch: 3/0.056---Train,0.003----Test,RMSE2.701,NRMSE0.1649,MAE2.640,R2-2.870,CSInan,PODnan,FARnan\n",
            "\n",
            "04/26 08:37:30 PM | Epoch: 3/0.056---Train,0.003----Test,RMSE2.701,NRMSE0.1649,MAE2.640,R2-2.870,CSInan,PODnan,FARnan\n",
            "\n",
            "04/26 08:37:30 PM | Epoch: 3/0.056---Train,0.003----Test,RMSE2.701,NRMSE0.1649,MAE2.640,R2-2.870,CSInan,PODnan,FARnan\n",
            "\n",
            "04/26 08:37:30 PM | Epoch: 3/0.056---Train,0.003----Test,RMSE2.701,NRMSE0.1649,MAE2.640,R2-2.870,CSInan,PODnan,FARnan\n",
            "\n",
            "04/26 08:37:30 PM | Epoch: 3/0.056---Train,0.003----Test,RMSE2.701,NRMSE0.1649,MAE2.640,R2-2.870,CSInan,PODnan,FARnan\n",
            "\n",
            "04/26 08:37:30 PM | Epoch: 3/0.056---Train,0.003----Test,RMSE2.701,NRMSE0.1649,MAE2.640,R2-2.870,CSInan,PODnan,FARnan\n",
            "\n",
            "INFO:gal:Epoch: 3/0.056---Train,0.003----Test,RMSE2.701,NRMSE0.1649,MAE2.640,R2-2.870,CSInan,PODnan,FARnan\n",
            "\n"
          ]
        },
        {
          "name": "stdout",
          "output_type": "stream",
          "text": [
            "rmse 2.700619\n",
            "Save model: /content/drive/MyDrive/Results/16_8/SAGNN/20230426203428/00/3/model.pth\n",
            "Train loss: 0.0561, Test loss: 0.0025, RMSE: 2.70,NRMSE: 0.1649, MAE: 2.64,R2: -2.8698, CSI: nan, POD: nan, FAR: nan\n",
            "\n",
            "Train epoch 4:\n"
          ]
        },
        {
          "name": "stderr",
          "output_type": "stream",
          "text": [
            "0it [00:00, ?it/s]/usr/local/lib/python3.9/dist-packages/torch/amp/autocast_mode.py:204: UserWarning: User provided device_type of 'cuda', but CUDA is not available. Disabling\n",
            "  warnings.warn('User provided device_type of \\'cuda\\', but CUDA is not available. Disabling')\n",
            "73it [00:41,  1.74it/s]\n"
          ]
        },
        {
          "name": "stdout",
          "output_type": "stream",
          "text": [
            "train_loss: 0.0533\n"
          ]
        },
        {
          "name": "stderr",
          "output_type": "stream",
          "text": [
            "<ipython-input-25-dfe4ccc45710>:78: RuntimeWarning: invalid value encountered in long_scalars\n",
            "  csi = hit / (hit + falsealarm + miss)\n",
            "<ipython-input-25-dfe4ccc45710>:79: RuntimeWarning: invalid value encountered in long_scalars\n",
            "  pod = hit / (hit + miss)\n",
            "<ipython-input-25-dfe4ccc45710>:80: RuntimeWarning: invalid value encountered in long_scalars\n",
            "  far = falsealarm / (hit + falsealarm)\n",
            "04/26 08:38:16 PM | Epoch: 4/0.053---Train,0.005----Test,RMSE1.017,NRMSE0.0621,MAE0.921,R2-0.132,CSInan,PODnan,FARnan\n",
            "\n",
            "04/26 08:38:16 PM | Epoch: 4/0.053---Train,0.005----Test,RMSE1.017,NRMSE0.0621,MAE0.921,R2-0.132,CSInan,PODnan,FARnan\n",
            "\n",
            "04/26 08:38:16 PM | Epoch: 4/0.053---Train,0.005----Test,RMSE1.017,NRMSE0.0621,MAE0.921,R2-0.132,CSInan,PODnan,FARnan\n",
            "\n",
            "04/26 08:38:16 PM | Epoch: 4/0.053---Train,0.005----Test,RMSE1.017,NRMSE0.0621,MAE0.921,R2-0.132,CSInan,PODnan,FARnan\n",
            "\n",
            "04/26 08:38:16 PM | Epoch: 4/0.053---Train,0.005----Test,RMSE1.017,NRMSE0.0621,MAE0.921,R2-0.132,CSInan,PODnan,FARnan\n",
            "\n",
            "04/26 08:38:16 PM | Epoch: 4/0.053---Train,0.005----Test,RMSE1.017,NRMSE0.0621,MAE0.921,R2-0.132,CSInan,PODnan,FARnan\n",
            "\n",
            "04/26 08:38:16 PM | Epoch: 4/0.053---Train,0.005----Test,RMSE1.017,NRMSE0.0621,MAE0.921,R2-0.132,CSInan,PODnan,FARnan\n",
            "\n",
            "04/26 08:38:16 PM | Epoch: 4/0.053---Train,0.005----Test,RMSE1.017,NRMSE0.0621,MAE0.921,R2-0.132,CSInan,PODnan,FARnan\n",
            "\n",
            "INFO:gal:Epoch: 4/0.053---Train,0.005----Test,RMSE1.017,NRMSE0.0621,MAE0.921,R2-0.132,CSInan,PODnan,FARnan\n",
            "\n"
          ]
        },
        {
          "name": "stdout",
          "output_type": "stream",
          "text": [
            "rmse 1.0166703\n",
            "Save model: /content/drive/MyDrive/Results/16_8/SAGNN/20230426203428/00/4/model.pth\n",
            "Train loss: 0.0533, Test loss: 0.0050, RMSE: 1.02,NRMSE: 0.0621, MAE: 0.92,R2: -0.1317, CSI: nan, POD: nan, FAR: nan\n",
            "\n",
            "Train epoch 5:\n"
          ]
        },
        {
          "name": "stderr",
          "output_type": "stream",
          "text": [
            "0it [00:00, ?it/s]/usr/local/lib/python3.9/dist-packages/torch/amp/autocast_mode.py:204: UserWarning: User provided device_type of 'cuda', but CUDA is not available. Disabling\n",
            "  warnings.warn('User provided device_type of \\'cuda\\', but CUDA is not available. Disabling')\n",
            "73it [00:41,  1.76it/s]\n"
          ]
        },
        {
          "name": "stdout",
          "output_type": "stream",
          "text": [
            "train_loss: 0.0486\n"
          ]
        },
        {
          "name": "stderr",
          "output_type": "stream",
          "text": [
            "<ipython-input-25-dfe4ccc45710>:78: RuntimeWarning: invalid value encountered in long_scalars\n",
            "  csi = hit / (hit + falsealarm + miss)\n",
            "<ipython-input-25-dfe4ccc45710>:79: RuntimeWarning: invalid value encountered in long_scalars\n",
            "  pod = hit / (hit + miss)\n",
            "<ipython-input-25-dfe4ccc45710>:80: RuntimeWarning: invalid value encountered in long_scalars\n",
            "  far = falsealarm / (hit + falsealarm)\n",
            "04/26 08:39:03 PM | Epoch: 5/0.049---Train,0.008----Test,RMSE4.814,NRMSE0.2940,MAE4.766,R2-10.837,CSInan,PODnan,FARnan\n",
            "\n",
            "04/26 08:39:03 PM | Epoch: 5/0.049---Train,0.008----Test,RMSE4.814,NRMSE0.2940,MAE4.766,R2-10.837,CSInan,PODnan,FARnan\n",
            "\n",
            "04/26 08:39:03 PM | Epoch: 5/0.049---Train,0.008----Test,RMSE4.814,NRMSE0.2940,MAE4.766,R2-10.837,CSInan,PODnan,FARnan\n",
            "\n",
            "04/26 08:39:03 PM | Epoch: 5/0.049---Train,0.008----Test,RMSE4.814,NRMSE0.2940,MAE4.766,R2-10.837,CSInan,PODnan,FARnan\n",
            "\n",
            "04/26 08:39:03 PM | Epoch: 5/0.049---Train,0.008----Test,RMSE4.814,NRMSE0.2940,MAE4.766,R2-10.837,CSInan,PODnan,FARnan\n",
            "\n",
            "04/26 08:39:03 PM | Epoch: 5/0.049---Train,0.008----Test,RMSE4.814,NRMSE0.2940,MAE4.766,R2-10.837,CSInan,PODnan,FARnan\n",
            "\n",
            "04/26 08:39:03 PM | Epoch: 5/0.049---Train,0.008----Test,RMSE4.814,NRMSE0.2940,MAE4.766,R2-10.837,CSInan,PODnan,FARnan\n",
            "\n",
            "04/26 08:39:03 PM | Epoch: 5/0.049---Train,0.008----Test,RMSE4.814,NRMSE0.2940,MAE4.766,R2-10.837,CSInan,PODnan,FARnan\n",
            "\n",
            "INFO:gal:Epoch: 5/0.049---Train,0.008----Test,RMSE4.814,NRMSE0.2940,MAE4.766,R2-10.837,CSInan,PODnan,FARnan\n",
            "\n"
          ]
        },
        {
          "name": "stdout",
          "output_type": "stream",
          "text": [
            "rmse 4.8143787\n",
            "Save model: /content/drive/MyDrive/Results/16_8/SAGNN/20230426203428/00/5/model.pth\n",
            "Train loss: 0.0486, Test loss: 0.0077, RMSE: 4.81,NRMSE: 0.2940, MAE: 4.77,R2: -10.8375, CSI: nan, POD: nan, FAR: nan\n",
            "\n",
            "Train epoch 6:\n"
          ]
        },
        {
          "name": "stderr",
          "output_type": "stream",
          "text": [
            "0it [00:00, ?it/s]/usr/local/lib/python3.9/dist-packages/torch/amp/autocast_mode.py:204: UserWarning: User provided device_type of 'cuda', but CUDA is not available. Disabling\n",
            "  warnings.warn('User provided device_type of \\'cuda\\', but CUDA is not available. Disabling')\n",
            "73it [00:43,  1.67it/s]\n"
          ]
        },
        {
          "name": "stdout",
          "output_type": "stream",
          "text": [
            "train_loss: 0.0430\n"
          ]
        },
        {
          "name": "stderr",
          "output_type": "stream",
          "text": [
            "<ipython-input-25-dfe4ccc45710>:78: RuntimeWarning: invalid value encountered in long_scalars\n",
            "  csi = hit / (hit + falsealarm + miss)\n",
            "<ipython-input-25-dfe4ccc45710>:79: RuntimeWarning: invalid value encountered in long_scalars\n",
            "  pod = hit / (hit + miss)\n",
            "<ipython-input-25-dfe4ccc45710>:80: RuntimeWarning: invalid value encountered in long_scalars\n",
            "  far = falsealarm / (hit + falsealarm)\n",
            "04/26 08:39:50 PM | Epoch: 6/0.043---Train,0.005----Test,RMSE1.017,NRMSE0.0621,MAE0.921,R2-0.132,CSInan,PODnan,FARnan\n",
            "\n",
            "04/26 08:39:50 PM | Epoch: 6/0.043---Train,0.005----Test,RMSE1.017,NRMSE0.0621,MAE0.921,R2-0.132,CSInan,PODnan,FARnan\n",
            "\n",
            "04/26 08:39:50 PM | Epoch: 6/0.043---Train,0.005----Test,RMSE1.017,NRMSE0.0621,MAE0.921,R2-0.132,CSInan,PODnan,FARnan\n",
            "\n",
            "04/26 08:39:50 PM | Epoch: 6/0.043---Train,0.005----Test,RMSE1.017,NRMSE0.0621,MAE0.921,R2-0.132,CSInan,PODnan,FARnan\n",
            "\n",
            "04/26 08:39:50 PM | Epoch: 6/0.043---Train,0.005----Test,RMSE1.017,NRMSE0.0621,MAE0.921,R2-0.132,CSInan,PODnan,FARnan\n",
            "\n",
            "04/26 08:39:50 PM | Epoch: 6/0.043---Train,0.005----Test,RMSE1.017,NRMSE0.0621,MAE0.921,R2-0.132,CSInan,PODnan,FARnan\n",
            "\n",
            "04/26 08:39:50 PM | Epoch: 6/0.043---Train,0.005----Test,RMSE1.017,NRMSE0.0621,MAE0.921,R2-0.132,CSInan,PODnan,FARnan\n",
            "\n",
            "04/26 08:39:50 PM | Epoch: 6/0.043---Train,0.005----Test,RMSE1.017,NRMSE0.0621,MAE0.921,R2-0.132,CSInan,PODnan,FARnan\n",
            "\n",
            "INFO:gal:Epoch: 6/0.043---Train,0.005----Test,RMSE1.017,NRMSE0.0621,MAE0.921,R2-0.132,CSInan,PODnan,FARnan\n",
            "\n"
          ]
        },
        {
          "name": "stdout",
          "output_type": "stream",
          "text": [
            "rmse 1.0166703\n",
            "Save model: /content/drive/MyDrive/Results/16_8/SAGNN/20230426203428/00/6/model.pth\n",
            "Train loss: 0.0430, Test loss: 0.0049, RMSE: 1.02,NRMSE: 0.0621, MAE: 0.92,R2: -0.1317, CSI: nan, POD: nan, FAR: nan\n",
            "\n",
            "Train epoch 7:\n"
          ]
        },
        {
          "name": "stderr",
          "output_type": "stream",
          "text": [
            "0it [00:00, ?it/s]/usr/local/lib/python3.9/dist-packages/torch/amp/autocast_mode.py:204: UserWarning: User provided device_type of 'cuda', but CUDA is not available. Disabling\n",
            "  warnings.warn('User provided device_type of \\'cuda\\', but CUDA is not available. Disabling')\n",
            "73it [00:40,  1.80it/s]\n"
          ]
        },
        {
          "name": "stdout",
          "output_type": "stream",
          "text": [
            "train_loss: 0.0496\n"
          ]
        },
        {
          "name": "stderr",
          "output_type": "stream",
          "text": [
            "<ipython-input-25-dfe4ccc45710>:78: RuntimeWarning: invalid value encountered in long_scalars\n",
            "  csi = hit / (hit + falsealarm + miss)\n",
            "<ipython-input-25-dfe4ccc45710>:79: RuntimeWarning: invalid value encountered in long_scalars\n",
            "  pod = hit / (hit + miss)\n",
            "<ipython-input-25-dfe4ccc45710>:80: RuntimeWarning: invalid value encountered in long_scalars\n",
            "  far = falsealarm / (hit + falsealarm)\n",
            "04/26 08:40:36 PM | Epoch: 7/0.050---Train,0.001----Test,RMSE1.017,NRMSE0.0621,MAE0.921,R2-0.132,CSInan,PODnan,FARnan\n",
            "\n",
            "04/26 08:40:36 PM | Epoch: 7/0.050---Train,0.001----Test,RMSE1.017,NRMSE0.0621,MAE0.921,R2-0.132,CSInan,PODnan,FARnan\n",
            "\n",
            "04/26 08:40:36 PM | Epoch: 7/0.050---Train,0.001----Test,RMSE1.017,NRMSE0.0621,MAE0.921,R2-0.132,CSInan,PODnan,FARnan\n",
            "\n",
            "04/26 08:40:36 PM | Epoch: 7/0.050---Train,0.001----Test,RMSE1.017,NRMSE0.0621,MAE0.921,R2-0.132,CSInan,PODnan,FARnan\n",
            "\n",
            "04/26 08:40:36 PM | Epoch: 7/0.050---Train,0.001----Test,RMSE1.017,NRMSE0.0621,MAE0.921,R2-0.132,CSInan,PODnan,FARnan\n",
            "\n",
            "04/26 08:40:36 PM | Epoch: 7/0.050---Train,0.001----Test,RMSE1.017,NRMSE0.0621,MAE0.921,R2-0.132,CSInan,PODnan,FARnan\n",
            "\n",
            "04/26 08:40:36 PM | Epoch: 7/0.050---Train,0.001----Test,RMSE1.017,NRMSE0.0621,MAE0.921,R2-0.132,CSInan,PODnan,FARnan\n",
            "\n",
            "04/26 08:40:36 PM | Epoch: 7/0.050---Train,0.001----Test,RMSE1.017,NRMSE0.0621,MAE0.921,R2-0.132,CSInan,PODnan,FARnan\n",
            "\n",
            "INFO:gal:Epoch: 7/0.050---Train,0.001----Test,RMSE1.017,NRMSE0.0621,MAE0.921,R2-0.132,CSInan,PODnan,FARnan\n",
            "\n"
          ]
        },
        {
          "name": "stdout",
          "output_type": "stream",
          "text": [
            "rmse 1.0166703\n",
            "Save model: /content/drive/MyDrive/Results/16_8/SAGNN/20230426203428/00/7/model.pth\n",
            "Train loss: 0.0496, Test loss: 0.0008, RMSE: 1.02,NRMSE: 0.0621, MAE: 0.92,R2: -0.1317, CSI: nan, POD: nan, FAR: nan\n",
            "\n",
            "Train epoch 8:\n"
          ]
        },
        {
          "name": "stderr",
          "output_type": "stream",
          "text": [
            "0it [00:00, ?it/s]/usr/local/lib/python3.9/dist-packages/torch/amp/autocast_mode.py:204: UserWarning: User provided device_type of 'cuda', but CUDA is not available. Disabling\n",
            "  warnings.warn('User provided device_type of \\'cuda\\', but CUDA is not available. Disabling')\n",
            "73it [00:41,  1.75it/s]\n"
          ]
        },
        {
          "name": "stdout",
          "output_type": "stream",
          "text": [
            "train_loss: 0.0458\n"
          ]
        },
        {
          "name": "stderr",
          "output_type": "stream",
          "text": [
            "<ipython-input-25-dfe4ccc45710>:78: RuntimeWarning: invalid value encountered in long_scalars\n",
            "  csi = hit / (hit + falsealarm + miss)\n",
            "<ipython-input-25-dfe4ccc45710>:79: RuntimeWarning: invalid value encountered in long_scalars\n",
            "  pod = hit / (hit + miss)\n",
            "<ipython-input-25-dfe4ccc45710>:80: RuntimeWarning: invalid value encountered in long_scalars\n",
            "  far = falsealarm / (hit + falsealarm)\n",
            "04/26 08:41:21 PM | Epoch: 8/0.046---Train,0.009----Test,RMSE1.017,NRMSE0.0621,MAE0.921,R2-0.132,CSInan,PODnan,FARnan\n",
            "\n",
            "04/26 08:41:21 PM | Epoch: 8/0.046---Train,0.009----Test,RMSE1.017,NRMSE0.0621,MAE0.921,R2-0.132,CSInan,PODnan,FARnan\n",
            "\n",
            "04/26 08:41:21 PM | Epoch: 8/0.046---Train,0.009----Test,RMSE1.017,NRMSE0.0621,MAE0.921,R2-0.132,CSInan,PODnan,FARnan\n",
            "\n",
            "04/26 08:41:21 PM | Epoch: 8/0.046---Train,0.009----Test,RMSE1.017,NRMSE0.0621,MAE0.921,R2-0.132,CSInan,PODnan,FARnan\n",
            "\n",
            "04/26 08:41:21 PM | Epoch: 8/0.046---Train,0.009----Test,RMSE1.017,NRMSE0.0621,MAE0.921,R2-0.132,CSInan,PODnan,FARnan\n",
            "\n",
            "04/26 08:41:21 PM | Epoch: 8/0.046---Train,0.009----Test,RMSE1.017,NRMSE0.0621,MAE0.921,R2-0.132,CSInan,PODnan,FARnan\n",
            "\n",
            "04/26 08:41:21 PM | Epoch: 8/0.046---Train,0.009----Test,RMSE1.017,NRMSE0.0621,MAE0.921,R2-0.132,CSInan,PODnan,FARnan\n",
            "\n",
            "04/26 08:41:21 PM | Epoch: 8/0.046---Train,0.009----Test,RMSE1.017,NRMSE0.0621,MAE0.921,R2-0.132,CSInan,PODnan,FARnan\n",
            "\n",
            "INFO:gal:Epoch: 8/0.046---Train,0.009----Test,RMSE1.017,NRMSE0.0621,MAE0.921,R2-0.132,CSInan,PODnan,FARnan\n",
            "\n"
          ]
        },
        {
          "name": "stdout",
          "output_type": "stream",
          "text": [
            "rmse 1.0166703\n",
            "Save model: /content/drive/MyDrive/Results/16_8/SAGNN/20230426203428/00/8/model.pth\n",
            "Train loss: 0.0458, Test loss: 0.0091, RMSE: 1.02,NRMSE: 0.0621, MAE: 0.92,R2: -0.1317, CSI: nan, POD: nan, FAR: nan\n",
            "\n",
            "Train epoch 9:\n"
          ]
        },
        {
          "name": "stderr",
          "output_type": "stream",
          "text": [
            "0it [00:00, ?it/s]/usr/local/lib/python3.9/dist-packages/torch/amp/autocast_mode.py:204: UserWarning: User provided device_type of 'cuda', but CUDA is not available. Disabling\n",
            "  warnings.warn('User provided device_type of \\'cuda\\', but CUDA is not available. Disabling')\n",
            "73it [00:42,  1.74it/s]\n"
          ]
        },
        {
          "name": "stdout",
          "output_type": "stream",
          "text": [
            "train_loss: 0.0494\n"
          ]
        },
        {
          "name": "stderr",
          "output_type": "stream",
          "text": [
            "<ipython-input-25-dfe4ccc45710>:78: RuntimeWarning: invalid value encountered in long_scalars\n",
            "  csi = hit / (hit + falsealarm + miss)\n",
            "<ipython-input-25-dfe4ccc45710>:79: RuntimeWarning: invalid value encountered in long_scalars\n",
            "  pod = hit / (hit + miss)\n",
            "<ipython-input-25-dfe4ccc45710>:80: RuntimeWarning: invalid value encountered in long_scalars\n",
            "  far = falsealarm / (hit + falsealarm)\n",
            "04/26 08:42:07 PM | Epoch: 9/0.049---Train,0.001----Test,RMSE1.197,NRMSE0.0731,MAE1.110,R2-0.047,CSInan,PODnan,FARnan\n",
            "\n",
            "04/26 08:42:07 PM | Epoch: 9/0.049---Train,0.001----Test,RMSE1.197,NRMSE0.0731,MAE1.110,R2-0.047,CSInan,PODnan,FARnan\n",
            "\n",
            "04/26 08:42:07 PM | Epoch: 9/0.049---Train,0.001----Test,RMSE1.197,NRMSE0.0731,MAE1.110,R2-0.047,CSInan,PODnan,FARnan\n",
            "\n",
            "04/26 08:42:07 PM | Epoch: 9/0.049---Train,0.001----Test,RMSE1.197,NRMSE0.0731,MAE1.110,R2-0.047,CSInan,PODnan,FARnan\n",
            "\n",
            "04/26 08:42:07 PM | Epoch: 9/0.049---Train,0.001----Test,RMSE1.197,NRMSE0.0731,MAE1.110,R2-0.047,CSInan,PODnan,FARnan\n",
            "\n",
            "04/26 08:42:07 PM | Epoch: 9/0.049---Train,0.001----Test,RMSE1.197,NRMSE0.0731,MAE1.110,R2-0.047,CSInan,PODnan,FARnan\n",
            "\n",
            "04/26 08:42:07 PM | Epoch: 9/0.049---Train,0.001----Test,RMSE1.197,NRMSE0.0731,MAE1.110,R2-0.047,CSInan,PODnan,FARnan\n",
            "\n",
            "04/26 08:42:07 PM | Epoch: 9/0.049---Train,0.001----Test,RMSE1.197,NRMSE0.0731,MAE1.110,R2-0.047,CSInan,PODnan,FARnan\n",
            "\n",
            "INFO:gal:Epoch: 9/0.049---Train,0.001----Test,RMSE1.197,NRMSE0.0731,MAE1.110,R2-0.047,CSInan,PODnan,FARnan\n",
            "\n"
          ]
        },
        {
          "name": "stdout",
          "output_type": "stream",
          "text": [
            "rmse 1.1967233\n",
            "Save model: /content/drive/MyDrive/Results/16_8/SAGNN/20230426203428/00/9/model.pth\n",
            "Train loss: 0.0494, Test loss: 0.0007, RMSE: 1.20,NRMSE: 0.0731, MAE: 1.11,R2: -0.0466, CSI: nan, POD: nan, FAR: nan\n",
            "\n",
            "Train epoch 10:\n"
          ]
        },
        {
          "name": "stderr",
          "output_type": "stream",
          "text": [
            "0it [00:00, ?it/s]/usr/local/lib/python3.9/dist-packages/torch/amp/autocast_mode.py:204: UserWarning: User provided device_type of 'cuda', but CUDA is not available. Disabling\n",
            "  warnings.warn('User provided device_type of \\'cuda\\', but CUDA is not available. Disabling')\n",
            "73it [00:42,  1.70it/s]\n"
          ]
        },
        {
          "name": "stdout",
          "output_type": "stream",
          "text": [
            "train_loss: 0.0344\n"
          ]
        },
        {
          "name": "stderr",
          "output_type": "stream",
          "text": [
            "<ipython-input-25-dfe4ccc45710>:78: RuntimeWarning: invalid value encountered in long_scalars\n",
            "  csi = hit / (hit + falsealarm + miss)\n",
            "<ipython-input-25-dfe4ccc45710>:79: RuntimeWarning: invalid value encountered in long_scalars\n",
            "  pod = hit / (hit + miss)\n",
            "<ipython-input-25-dfe4ccc45710>:80: RuntimeWarning: invalid value encountered in long_scalars\n",
            "  far = falsealarm / (hit + falsealarm)\n",
            "04/26 08:42:54 PM | Epoch: 10/0.034---Train,0.001----Test,RMSE1.014,NRMSE0.0619,MAE0.918,R2-0.100,CSInan,PODnan,FARnan\n",
            "\n",
            "04/26 08:42:54 PM | Epoch: 10/0.034---Train,0.001----Test,RMSE1.014,NRMSE0.0619,MAE0.918,R2-0.100,CSInan,PODnan,FARnan\n",
            "\n",
            "04/26 08:42:54 PM | Epoch: 10/0.034---Train,0.001----Test,RMSE1.014,NRMSE0.0619,MAE0.918,R2-0.100,CSInan,PODnan,FARnan\n",
            "\n",
            "04/26 08:42:54 PM | Epoch: 10/0.034---Train,0.001----Test,RMSE1.014,NRMSE0.0619,MAE0.918,R2-0.100,CSInan,PODnan,FARnan\n",
            "\n",
            "04/26 08:42:54 PM | Epoch: 10/0.034---Train,0.001----Test,RMSE1.014,NRMSE0.0619,MAE0.918,R2-0.100,CSInan,PODnan,FARnan\n",
            "\n",
            "04/26 08:42:54 PM | Epoch: 10/0.034---Train,0.001----Test,RMSE1.014,NRMSE0.0619,MAE0.918,R2-0.100,CSInan,PODnan,FARnan\n",
            "\n",
            "04/26 08:42:54 PM | Epoch: 10/0.034---Train,0.001----Test,RMSE1.014,NRMSE0.0619,MAE0.918,R2-0.100,CSInan,PODnan,FARnan\n",
            "\n",
            "04/26 08:42:54 PM | Epoch: 10/0.034---Train,0.001----Test,RMSE1.014,NRMSE0.0619,MAE0.918,R2-0.100,CSInan,PODnan,FARnan\n",
            "\n",
            "INFO:gal:Epoch: 10/0.034---Train,0.001----Test,RMSE1.014,NRMSE0.0619,MAE0.918,R2-0.100,CSInan,PODnan,FARnan\n",
            "\n"
          ]
        },
        {
          "name": "stdout",
          "output_type": "stream",
          "text": [
            "rmse 1.0136434\n",
            "Save model: /content/drive/MyDrive/Results/16_8/SAGNN/20230426203428/00/10/model.pth\n",
            "Train loss: 0.0344, Test loss: 0.0007, RMSE: 1.01,NRMSE: 0.0619, MAE: 0.92,R2: -0.1003, CSI: nan, POD: nan, FAR: nan\n",
            "\n",
            "Train epoch 11:\n"
          ]
        },
        {
          "name": "stderr",
          "output_type": "stream",
          "text": [
            "0it [00:00, ?it/s]/usr/local/lib/python3.9/dist-packages/torch/amp/autocast_mode.py:204: UserWarning: User provided device_type of 'cuda', but CUDA is not available. Disabling\n",
            "  warnings.warn('User provided device_type of \\'cuda\\', but CUDA is not available. Disabling')\n",
            "73it [00:39,  1.83it/s]\n"
          ]
        },
        {
          "name": "stdout",
          "output_type": "stream",
          "text": [
            "train_loss: 0.0282\n"
          ]
        },
        {
          "name": "stderr",
          "output_type": "stream",
          "text": [
            "<ipython-input-25-dfe4ccc45710>:78: RuntimeWarning: invalid value encountered in long_scalars\n",
            "  csi = hit / (hit + falsealarm + miss)\n",
            "<ipython-input-25-dfe4ccc45710>:79: RuntimeWarning: invalid value encountered in long_scalars\n",
            "  pod = hit / (hit + miss)\n",
            "<ipython-input-25-dfe4ccc45710>:80: RuntimeWarning: invalid value encountered in long_scalars\n",
            "  far = falsealarm / (hit + falsealarm)\n",
            "04/26 08:43:38 PM | Epoch: 11/0.028---Train,0.001----Test,RMSE1.013,NRMSE0.0619,MAE0.918,R2-0.094,CSInan,PODnan,FARnan\n",
            "\n",
            "04/26 08:43:38 PM | Epoch: 11/0.028---Train,0.001----Test,RMSE1.013,NRMSE0.0619,MAE0.918,R2-0.094,CSInan,PODnan,FARnan\n",
            "\n",
            "04/26 08:43:38 PM | Epoch: 11/0.028---Train,0.001----Test,RMSE1.013,NRMSE0.0619,MAE0.918,R2-0.094,CSInan,PODnan,FARnan\n",
            "\n",
            "04/26 08:43:38 PM | Epoch: 11/0.028---Train,0.001----Test,RMSE1.013,NRMSE0.0619,MAE0.918,R2-0.094,CSInan,PODnan,FARnan\n",
            "\n",
            "04/26 08:43:38 PM | Epoch: 11/0.028---Train,0.001----Test,RMSE1.013,NRMSE0.0619,MAE0.918,R2-0.094,CSInan,PODnan,FARnan\n",
            "\n",
            "04/26 08:43:38 PM | Epoch: 11/0.028---Train,0.001----Test,RMSE1.013,NRMSE0.0619,MAE0.918,R2-0.094,CSInan,PODnan,FARnan\n",
            "\n",
            "04/26 08:43:38 PM | Epoch: 11/0.028---Train,0.001----Test,RMSE1.013,NRMSE0.0619,MAE0.918,R2-0.094,CSInan,PODnan,FARnan\n",
            "\n",
            "04/26 08:43:38 PM | Epoch: 11/0.028---Train,0.001----Test,RMSE1.013,NRMSE0.0619,MAE0.918,R2-0.094,CSInan,PODnan,FARnan\n",
            "\n",
            "INFO:gal:Epoch: 11/0.028---Train,0.001----Test,RMSE1.013,NRMSE0.0619,MAE0.918,R2-0.094,CSInan,PODnan,FARnan\n",
            "\n"
          ]
        },
        {
          "name": "stdout",
          "output_type": "stream",
          "text": [
            "rmse 1.0133417\n",
            "Save model: /content/drive/MyDrive/Results/16_8/SAGNN/20230426203428/00/11/model.pth\n",
            "Train loss: 0.0282, Test loss: 0.0007, RMSE: 1.01,NRMSE: 0.0619, MAE: 0.92,R2: -0.0942, CSI: nan, POD: nan, FAR: nan\n",
            "\n",
            "Train epoch 12:\n"
          ]
        },
        {
          "name": "stderr",
          "output_type": "stream",
          "text": [
            "0it [00:00, ?it/s]/usr/local/lib/python3.9/dist-packages/torch/amp/autocast_mode.py:204: UserWarning: User provided device_type of 'cuda', but CUDA is not available. Disabling\n",
            "  warnings.warn('User provided device_type of \\'cuda\\', but CUDA is not available. Disabling')\n",
            "73it [00:41,  1.77it/s]\n"
          ]
        },
        {
          "name": "stdout",
          "output_type": "stream",
          "text": [
            "train_loss: 0.0251\n"
          ]
        },
        {
          "name": "stderr",
          "output_type": "stream",
          "text": [
            "<ipython-input-25-dfe4ccc45710>:78: RuntimeWarning: invalid value encountered in long_scalars\n",
            "  csi = hit / (hit + falsealarm + miss)\n",
            "<ipython-input-25-dfe4ccc45710>:79: RuntimeWarning: invalid value encountered in long_scalars\n",
            "  pod = hit / (hit + miss)\n",
            "<ipython-input-25-dfe4ccc45710>:80: RuntimeWarning: invalid value encountered in long_scalars\n",
            "  far = falsealarm / (hit + falsealarm)\n",
            "04/26 08:44:24 PM | Epoch: 12/0.025---Train,0.001----Test,RMSE1.017,NRMSE0.0621,MAE0.921,R2-0.132,CSInan,PODnan,FARnan\n",
            "\n",
            "04/26 08:44:24 PM | Epoch: 12/0.025---Train,0.001----Test,RMSE1.017,NRMSE0.0621,MAE0.921,R2-0.132,CSInan,PODnan,FARnan\n",
            "\n",
            "04/26 08:44:24 PM | Epoch: 12/0.025---Train,0.001----Test,RMSE1.017,NRMSE0.0621,MAE0.921,R2-0.132,CSInan,PODnan,FARnan\n",
            "\n",
            "04/26 08:44:24 PM | Epoch: 12/0.025---Train,0.001----Test,RMSE1.017,NRMSE0.0621,MAE0.921,R2-0.132,CSInan,PODnan,FARnan\n",
            "\n",
            "04/26 08:44:24 PM | Epoch: 12/0.025---Train,0.001----Test,RMSE1.017,NRMSE0.0621,MAE0.921,R2-0.132,CSInan,PODnan,FARnan\n",
            "\n",
            "04/26 08:44:24 PM | Epoch: 12/0.025---Train,0.001----Test,RMSE1.017,NRMSE0.0621,MAE0.921,R2-0.132,CSInan,PODnan,FARnan\n",
            "\n",
            "04/26 08:44:24 PM | Epoch: 12/0.025---Train,0.001----Test,RMSE1.017,NRMSE0.0621,MAE0.921,R2-0.132,CSInan,PODnan,FARnan\n",
            "\n",
            "04/26 08:44:24 PM | Epoch: 12/0.025---Train,0.001----Test,RMSE1.017,NRMSE0.0621,MAE0.921,R2-0.132,CSInan,PODnan,FARnan\n",
            "\n",
            "INFO:gal:Epoch: 12/0.025---Train,0.001----Test,RMSE1.017,NRMSE0.0621,MAE0.921,R2-0.132,CSInan,PODnan,FARnan\n",
            "\n"
          ]
        },
        {
          "name": "stdout",
          "output_type": "stream",
          "text": [
            "rmse 1.0166703\n",
            "Save model: /content/drive/MyDrive/Results/16_8/SAGNN/20230426203428/00/12/model.pth\n",
            "Train loss: 0.0251, Test loss: 0.0008, RMSE: 1.02,NRMSE: 0.0621, MAE: 0.92,R2: -0.1317, CSI: nan, POD: nan, FAR: nan\n",
            "\n",
            "Train epoch 13:\n"
          ]
        },
        {
          "name": "stderr",
          "output_type": "stream",
          "text": [
            "0it [00:00, ?it/s]/usr/local/lib/python3.9/dist-packages/torch/amp/autocast_mode.py:204: UserWarning: User provided device_type of 'cuda', but CUDA is not available. Disabling\n",
            "  warnings.warn('User provided device_type of \\'cuda\\', but CUDA is not available. Disabling')\n",
            "73it [00:37,  1.96it/s]\n"
          ]
        },
        {
          "name": "stdout",
          "output_type": "stream",
          "text": [
            "train_loss: 0.0216\n"
          ]
        },
        {
          "name": "stderr",
          "output_type": "stream",
          "text": [
            "<ipython-input-25-dfe4ccc45710>:78: RuntimeWarning: invalid value encountered in long_scalars\n",
            "  csi = hit / (hit + falsealarm + miss)\n",
            "<ipython-input-25-dfe4ccc45710>:79: RuntimeWarning: invalid value encountered in long_scalars\n",
            "  pod = hit / (hit + miss)\n",
            "<ipython-input-25-dfe4ccc45710>:80: RuntimeWarning: invalid value encountered in long_scalars\n",
            "  far = falsealarm / (hit + falsealarm)\n",
            "04/26 08:45:06 PM | Epoch: 13/0.022---Train,0.001----Test,RMSE1.017,NRMSE0.0621,MAE0.921,R2-0.132,CSInan,PODnan,FARnan\n",
            "\n",
            "04/26 08:45:06 PM | Epoch: 13/0.022---Train,0.001----Test,RMSE1.017,NRMSE0.0621,MAE0.921,R2-0.132,CSInan,PODnan,FARnan\n",
            "\n",
            "04/26 08:45:06 PM | Epoch: 13/0.022---Train,0.001----Test,RMSE1.017,NRMSE0.0621,MAE0.921,R2-0.132,CSInan,PODnan,FARnan\n",
            "\n",
            "04/26 08:45:06 PM | Epoch: 13/0.022---Train,0.001----Test,RMSE1.017,NRMSE0.0621,MAE0.921,R2-0.132,CSInan,PODnan,FARnan\n",
            "\n",
            "04/26 08:45:06 PM | Epoch: 13/0.022---Train,0.001----Test,RMSE1.017,NRMSE0.0621,MAE0.921,R2-0.132,CSInan,PODnan,FARnan\n",
            "\n",
            "04/26 08:45:06 PM | Epoch: 13/0.022---Train,0.001----Test,RMSE1.017,NRMSE0.0621,MAE0.921,R2-0.132,CSInan,PODnan,FARnan\n",
            "\n",
            "04/26 08:45:06 PM | Epoch: 13/0.022---Train,0.001----Test,RMSE1.017,NRMSE0.0621,MAE0.921,R2-0.132,CSInan,PODnan,FARnan\n",
            "\n",
            "04/26 08:45:06 PM | Epoch: 13/0.022---Train,0.001----Test,RMSE1.017,NRMSE0.0621,MAE0.921,R2-0.132,CSInan,PODnan,FARnan\n",
            "\n",
            "INFO:gal:Epoch: 13/0.022---Train,0.001----Test,RMSE1.017,NRMSE0.0621,MAE0.921,R2-0.132,CSInan,PODnan,FARnan\n",
            "\n"
          ]
        },
        {
          "name": "stdout",
          "output_type": "stream",
          "text": [
            "rmse 1.0166703\n",
            "Save model: /content/drive/MyDrive/Results/16_8/SAGNN/20230426203428/00/13/model.pth\n",
            "Train loss: 0.0216, Test loss: 0.0009, RMSE: 1.02,NRMSE: 0.0621, MAE: 0.92,R2: -0.1317, CSI: nan, POD: nan, FAR: nan\n",
            "\n",
            "Train epoch 14:\n"
          ]
        },
        {
          "name": "stderr",
          "output_type": "stream",
          "text": [
            "0it [00:00, ?it/s]/usr/local/lib/python3.9/dist-packages/torch/amp/autocast_mode.py:204: UserWarning: User provided device_type of 'cuda', but CUDA is not available. Disabling\n",
            "  warnings.warn('User provided device_type of \\'cuda\\', but CUDA is not available. Disabling')\n",
            "73it [00:35,  2.06it/s]\n"
          ]
        },
        {
          "name": "stdout",
          "output_type": "stream",
          "text": [
            "train_loss: 0.0182\n"
          ]
        },
        {
          "name": "stderr",
          "output_type": "stream",
          "text": [
            "<ipython-input-25-dfe4ccc45710>:78: RuntimeWarning: invalid value encountered in long_scalars\n",
            "  csi = hit / (hit + falsealarm + miss)\n",
            "<ipython-input-25-dfe4ccc45710>:79: RuntimeWarning: invalid value encountered in long_scalars\n",
            "  pod = hit / (hit + miss)\n",
            "<ipython-input-25-dfe4ccc45710>:80: RuntimeWarning: invalid value encountered in long_scalars\n",
            "  far = falsealarm / (hit + falsealarm)\n",
            "04/26 08:45:45 PM | Epoch: 14/0.018---Train,0.001----Test,RMSE1.017,NRMSE0.0621,MAE0.921,R2-0.132,CSInan,PODnan,FARnan\n",
            "\n",
            "04/26 08:45:45 PM | Epoch: 14/0.018---Train,0.001----Test,RMSE1.017,NRMSE0.0621,MAE0.921,R2-0.132,CSInan,PODnan,FARnan\n",
            "\n",
            "04/26 08:45:45 PM | Epoch: 14/0.018---Train,0.001----Test,RMSE1.017,NRMSE0.0621,MAE0.921,R2-0.132,CSInan,PODnan,FARnan\n",
            "\n",
            "04/26 08:45:45 PM | Epoch: 14/0.018---Train,0.001----Test,RMSE1.017,NRMSE0.0621,MAE0.921,R2-0.132,CSInan,PODnan,FARnan\n",
            "\n",
            "04/26 08:45:45 PM | Epoch: 14/0.018---Train,0.001----Test,RMSE1.017,NRMSE0.0621,MAE0.921,R2-0.132,CSInan,PODnan,FARnan\n",
            "\n",
            "04/26 08:45:45 PM | Epoch: 14/0.018---Train,0.001----Test,RMSE1.017,NRMSE0.0621,MAE0.921,R2-0.132,CSInan,PODnan,FARnan\n",
            "\n",
            "04/26 08:45:45 PM | Epoch: 14/0.018---Train,0.001----Test,RMSE1.017,NRMSE0.0621,MAE0.921,R2-0.132,CSInan,PODnan,FARnan\n",
            "\n",
            "04/26 08:45:45 PM | Epoch: 14/0.018---Train,0.001----Test,RMSE1.017,NRMSE0.0621,MAE0.921,R2-0.132,CSInan,PODnan,FARnan\n",
            "\n",
            "INFO:gal:Epoch: 14/0.018---Train,0.001----Test,RMSE1.017,NRMSE0.0621,MAE0.921,R2-0.132,CSInan,PODnan,FARnan\n",
            "\n"
          ]
        },
        {
          "name": "stdout",
          "output_type": "stream",
          "text": [
            "rmse 1.0166703\n",
            "Save model: /content/drive/MyDrive/Results/16_8/SAGNN/20230426203428/00/14/model.pth\n",
            "Train loss: 0.0182, Test loss: 0.0008, RMSE: 1.02,NRMSE: 0.0621, MAE: 0.92,R2: -0.1317, CSI: nan, POD: nan, FAR: nan\n",
            "\n",
            "Train epoch 15:\n"
          ]
        },
        {
          "name": "stderr",
          "output_type": "stream",
          "text": [
            "0it [00:00, ?it/s]/usr/local/lib/python3.9/dist-packages/torch/amp/autocast_mode.py:204: UserWarning: User provided device_type of 'cuda', but CUDA is not available. Disabling\n",
            "  warnings.warn('User provided device_type of \\'cuda\\', but CUDA is not available. Disabling')\n",
            "73it [00:38,  1.92it/s]\n"
          ]
        },
        {
          "name": "stdout",
          "output_type": "stream",
          "text": [
            "train_loss: 0.0215\n"
          ]
        },
        {
          "name": "stderr",
          "output_type": "stream",
          "text": [
            "<ipython-input-25-dfe4ccc45710>:78: RuntimeWarning: invalid value encountered in long_scalars\n",
            "  csi = hit / (hit + falsealarm + miss)\n",
            "<ipython-input-25-dfe4ccc45710>:79: RuntimeWarning: invalid value encountered in long_scalars\n",
            "  pod = hit / (hit + miss)\n",
            "<ipython-input-25-dfe4ccc45710>:80: RuntimeWarning: invalid value encountered in long_scalars\n",
            "  far = falsealarm / (hit + falsealarm)\n",
            "04/26 08:46:26 PM | Epoch: 15/0.022---Train,0.001----Test,RMSE1.014,NRMSE0.0619,MAE0.919,R2-0.105,CSInan,PODnan,FARnan\n",
            "\n",
            "04/26 08:46:26 PM | Epoch: 15/0.022---Train,0.001----Test,RMSE1.014,NRMSE0.0619,MAE0.919,R2-0.105,CSInan,PODnan,FARnan\n",
            "\n",
            "04/26 08:46:26 PM | Epoch: 15/0.022---Train,0.001----Test,RMSE1.014,NRMSE0.0619,MAE0.919,R2-0.105,CSInan,PODnan,FARnan\n",
            "\n",
            "04/26 08:46:26 PM | Epoch: 15/0.022---Train,0.001----Test,RMSE1.014,NRMSE0.0619,MAE0.919,R2-0.105,CSInan,PODnan,FARnan\n",
            "\n",
            "04/26 08:46:26 PM | Epoch: 15/0.022---Train,0.001----Test,RMSE1.014,NRMSE0.0619,MAE0.919,R2-0.105,CSInan,PODnan,FARnan\n",
            "\n",
            "04/26 08:46:26 PM | Epoch: 15/0.022---Train,0.001----Test,RMSE1.014,NRMSE0.0619,MAE0.919,R2-0.105,CSInan,PODnan,FARnan\n",
            "\n",
            "04/26 08:46:26 PM | Epoch: 15/0.022---Train,0.001----Test,RMSE1.014,NRMSE0.0619,MAE0.919,R2-0.105,CSInan,PODnan,FARnan\n",
            "\n",
            "04/26 08:46:26 PM | Epoch: 15/0.022---Train,0.001----Test,RMSE1.014,NRMSE0.0619,MAE0.919,R2-0.105,CSInan,PODnan,FARnan\n",
            "\n",
            "INFO:gal:Epoch: 15/0.022---Train,0.001----Test,RMSE1.014,NRMSE0.0619,MAE0.919,R2-0.105,CSInan,PODnan,FARnan\n",
            "\n"
          ]
        },
        {
          "name": "stdout",
          "output_type": "stream",
          "text": [
            "rmse 1.0140209\n",
            "Save model: /content/drive/MyDrive/Results/16_8/SAGNN/20230426203428/00/15/model.pth\n",
            "Train loss: 0.0215, Test loss: 0.0007, RMSE: 1.01,NRMSE: 0.0619, MAE: 0.92,R2: -0.1054, CSI: nan, POD: nan, FAR: nan\n",
            "\n",
            "Train epoch 16:\n"
          ]
        },
        {
          "name": "stderr",
          "output_type": "stream",
          "text": [
            "0it [00:00, ?it/s]/usr/local/lib/python3.9/dist-packages/torch/amp/autocast_mode.py:204: UserWarning: User provided device_type of 'cuda', but CUDA is not available. Disabling\n",
            "  warnings.warn('User provided device_type of \\'cuda\\', but CUDA is not available. Disabling')\n",
            "73it [00:35,  2.06it/s]\n"
          ]
        },
        {
          "name": "stdout",
          "output_type": "stream",
          "text": [
            "train_loss: 0.0167\n"
          ]
        },
        {
          "name": "stderr",
          "output_type": "stream",
          "text": [
            "<ipython-input-25-dfe4ccc45710>:78: RuntimeWarning: invalid value encountered in long_scalars\n",
            "  csi = hit / (hit + falsealarm + miss)\n",
            "<ipython-input-25-dfe4ccc45710>:79: RuntimeWarning: invalid value encountered in long_scalars\n",
            "  pod = hit / (hit + miss)\n",
            "<ipython-input-25-dfe4ccc45710>:80: RuntimeWarning: invalid value encountered in long_scalars\n",
            "  far = falsealarm / (hit + falsealarm)\n",
            "04/26 08:47:06 PM | Epoch: 16/0.017---Train,0.001----Test,RMSE1.121,NRMSE0.0684,MAE1.031,R2-0.007,CSInan,PODnan,FARnan\n",
            "\n",
            "04/26 08:47:06 PM | Epoch: 16/0.017---Train,0.001----Test,RMSE1.121,NRMSE0.0684,MAE1.031,R2-0.007,CSInan,PODnan,FARnan\n",
            "\n",
            "04/26 08:47:06 PM | Epoch: 16/0.017---Train,0.001----Test,RMSE1.121,NRMSE0.0684,MAE1.031,R2-0.007,CSInan,PODnan,FARnan\n",
            "\n",
            "04/26 08:47:06 PM | Epoch: 16/0.017---Train,0.001----Test,RMSE1.121,NRMSE0.0684,MAE1.031,R2-0.007,CSInan,PODnan,FARnan\n",
            "\n",
            "04/26 08:47:06 PM | Epoch: 16/0.017---Train,0.001----Test,RMSE1.121,NRMSE0.0684,MAE1.031,R2-0.007,CSInan,PODnan,FARnan\n",
            "\n",
            "04/26 08:47:06 PM | Epoch: 16/0.017---Train,0.001----Test,RMSE1.121,NRMSE0.0684,MAE1.031,R2-0.007,CSInan,PODnan,FARnan\n",
            "\n",
            "04/26 08:47:06 PM | Epoch: 16/0.017---Train,0.001----Test,RMSE1.121,NRMSE0.0684,MAE1.031,R2-0.007,CSInan,PODnan,FARnan\n",
            "\n",
            "04/26 08:47:06 PM | Epoch: 16/0.017---Train,0.001----Test,RMSE1.121,NRMSE0.0684,MAE1.031,R2-0.007,CSInan,PODnan,FARnan\n",
            "\n",
            "INFO:gal:Epoch: 16/0.017---Train,0.001----Test,RMSE1.121,NRMSE0.0684,MAE1.031,R2-0.007,CSInan,PODnan,FARnan\n",
            "\n"
          ]
        },
        {
          "name": "stdout",
          "output_type": "stream",
          "text": [
            "rmse 1.1207899\n",
            "Save model: /content/drive/MyDrive/Results/16_8/SAGNN/20230426203428/00/16/model.pth\n",
            "Train loss: 0.0167, Test loss: 0.0007, RMSE: 1.12,NRMSE: 0.0684, MAE: 1.03,R2: -0.0074, CSI: nan, POD: nan, FAR: nan\n",
            "\n",
            "Train epoch 17:\n"
          ]
        },
        {
          "name": "stderr",
          "output_type": "stream",
          "text": [
            "0it [00:00, ?it/s]/usr/local/lib/python3.9/dist-packages/torch/amp/autocast_mode.py:204: UserWarning: User provided device_type of 'cuda', but CUDA is not available. Disabling\n",
            "  warnings.warn('User provided device_type of \\'cuda\\', but CUDA is not available. Disabling')\n",
            "73it [00:36,  2.00it/s]\n"
          ]
        },
        {
          "name": "stdout",
          "output_type": "stream",
          "text": [
            "train_loss: 0.0179\n"
          ]
        },
        {
          "name": "stderr",
          "output_type": "stream",
          "text": [
            "<ipython-input-25-dfe4ccc45710>:78: RuntimeWarning: invalid value encountered in long_scalars\n",
            "  csi = hit / (hit + falsealarm + miss)\n",
            "<ipython-input-25-dfe4ccc45710>:79: RuntimeWarning: invalid value encountered in long_scalars\n",
            "  pod = hit / (hit + miss)\n",
            "<ipython-input-25-dfe4ccc45710>:80: RuntimeWarning: invalid value encountered in long_scalars\n",
            "  far = falsealarm / (hit + falsealarm)\n",
            "04/26 08:47:46 PM | Epoch: 17/0.018---Train,0.001----Test,RMSE1.013,NRMSE0.0619,MAE0.918,R2-0.090,CSInan,PODnan,FARnan\n",
            "\n",
            "04/26 08:47:46 PM | Epoch: 17/0.018---Train,0.001----Test,RMSE1.013,NRMSE0.0619,MAE0.918,R2-0.090,CSInan,PODnan,FARnan\n",
            "\n",
            "04/26 08:47:46 PM | Epoch: 17/0.018---Train,0.001----Test,RMSE1.013,NRMSE0.0619,MAE0.918,R2-0.090,CSInan,PODnan,FARnan\n",
            "\n",
            "04/26 08:47:46 PM | Epoch: 17/0.018---Train,0.001----Test,RMSE1.013,NRMSE0.0619,MAE0.918,R2-0.090,CSInan,PODnan,FARnan\n",
            "\n",
            "04/26 08:47:46 PM | Epoch: 17/0.018---Train,0.001----Test,RMSE1.013,NRMSE0.0619,MAE0.918,R2-0.090,CSInan,PODnan,FARnan\n",
            "\n",
            "04/26 08:47:46 PM | Epoch: 17/0.018---Train,0.001----Test,RMSE1.013,NRMSE0.0619,MAE0.918,R2-0.090,CSInan,PODnan,FARnan\n",
            "\n",
            "04/26 08:47:46 PM | Epoch: 17/0.018---Train,0.001----Test,RMSE1.013,NRMSE0.0619,MAE0.918,R2-0.090,CSInan,PODnan,FARnan\n",
            "\n",
            "04/26 08:47:46 PM | Epoch: 17/0.018---Train,0.001----Test,RMSE1.013,NRMSE0.0619,MAE0.918,R2-0.090,CSInan,PODnan,FARnan\n",
            "\n",
            "INFO:gal:Epoch: 17/0.018---Train,0.001----Test,RMSE1.013,NRMSE0.0619,MAE0.918,R2-0.090,CSInan,PODnan,FARnan\n",
            "\n"
          ]
        },
        {
          "name": "stdout",
          "output_type": "stream",
          "text": [
            "rmse 1.0132552\n",
            "Save model: /content/drive/MyDrive/Results/16_8/SAGNN/20230426203428/00/17/model.pth\n",
            "Train loss: 0.0179, Test loss: 0.0007, RMSE: 1.01,NRMSE: 0.0619, MAE: 0.92,R2: -0.0902, CSI: nan, POD: nan, FAR: nan\n",
            "\n",
            "Train epoch 18:\n"
          ]
        },
        {
          "name": "stderr",
          "output_type": "stream",
          "text": [
            "0it [00:00, ?it/s]/usr/local/lib/python3.9/dist-packages/torch/amp/autocast_mode.py:204: UserWarning: User provided device_type of 'cuda', but CUDA is not available. Disabling\n",
            "  warnings.warn('User provided device_type of \\'cuda\\', but CUDA is not available. Disabling')\n",
            "73it [00:35,  2.07it/s]\n"
          ]
        },
        {
          "name": "stdout",
          "output_type": "stream",
          "text": [
            "train_loss: 0.0185\n"
          ]
        },
        {
          "name": "stderr",
          "output_type": "stream",
          "text": [
            "<ipython-input-25-dfe4ccc45710>:78: RuntimeWarning: invalid value encountered in long_scalars\n",
            "  csi = hit / (hit + falsealarm + miss)\n",
            "<ipython-input-25-dfe4ccc45710>:79: RuntimeWarning: invalid value encountered in long_scalars\n",
            "  pod = hit / (hit + miss)\n",
            "<ipython-input-25-dfe4ccc45710>:80: RuntimeWarning: invalid value encountered in long_scalars\n",
            "  far = falsealarm / (hit + falsealarm)\n",
            "04/26 08:48:26 PM | Epoch: 18/0.018---Train,0.001----Test,RMSE1.017,NRMSE0.0621,MAE0.921,R2-0.132,CSInan,PODnan,FARnan\n",
            "\n",
            "04/26 08:48:26 PM | Epoch: 18/0.018---Train,0.001----Test,RMSE1.017,NRMSE0.0621,MAE0.921,R2-0.132,CSInan,PODnan,FARnan\n",
            "\n",
            "04/26 08:48:26 PM | Epoch: 18/0.018---Train,0.001----Test,RMSE1.017,NRMSE0.0621,MAE0.921,R2-0.132,CSInan,PODnan,FARnan\n",
            "\n",
            "04/26 08:48:26 PM | Epoch: 18/0.018---Train,0.001----Test,RMSE1.017,NRMSE0.0621,MAE0.921,R2-0.132,CSInan,PODnan,FARnan\n",
            "\n",
            "04/26 08:48:26 PM | Epoch: 18/0.018---Train,0.001----Test,RMSE1.017,NRMSE0.0621,MAE0.921,R2-0.132,CSInan,PODnan,FARnan\n",
            "\n",
            "04/26 08:48:26 PM | Epoch: 18/0.018---Train,0.001----Test,RMSE1.017,NRMSE0.0621,MAE0.921,R2-0.132,CSInan,PODnan,FARnan\n",
            "\n",
            "04/26 08:48:26 PM | Epoch: 18/0.018---Train,0.001----Test,RMSE1.017,NRMSE0.0621,MAE0.921,R2-0.132,CSInan,PODnan,FARnan\n",
            "\n",
            "04/26 08:48:26 PM | Epoch: 18/0.018---Train,0.001----Test,RMSE1.017,NRMSE0.0621,MAE0.921,R2-0.132,CSInan,PODnan,FARnan\n",
            "\n",
            "INFO:gal:Epoch: 18/0.018---Train,0.001----Test,RMSE1.017,NRMSE0.0621,MAE0.921,R2-0.132,CSInan,PODnan,FARnan\n",
            "\n"
          ]
        },
        {
          "name": "stdout",
          "output_type": "stream",
          "text": [
            "rmse 1.0166703\n",
            "Save model: /content/drive/MyDrive/Results/16_8/SAGNN/20230426203428/00/18/model.pth\n",
            "Train loss: 0.0185, Test loss: 0.0008, RMSE: 1.02,NRMSE: 0.0621, MAE: 0.92,R2: -0.1317, CSI: nan, POD: nan, FAR: nan\n",
            "\n",
            "Train epoch 19:\n"
          ]
        },
        {
          "name": "stderr",
          "output_type": "stream",
          "text": [
            "0it [00:00, ?it/s]/usr/local/lib/python3.9/dist-packages/torch/amp/autocast_mode.py:204: UserWarning: User provided device_type of 'cuda', but CUDA is not available. Disabling\n",
            "  warnings.warn('User provided device_type of \\'cuda\\', but CUDA is not available. Disabling')\n",
            "73it [00:34,  2.10it/s]\n"
          ]
        },
        {
          "name": "stdout",
          "output_type": "stream",
          "text": [
            "train_loss: 0.0171\n"
          ]
        },
        {
          "name": "stderr",
          "output_type": "stream",
          "text": [
            "<ipython-input-25-dfe4ccc45710>:78: RuntimeWarning: invalid value encountered in long_scalars\n",
            "  csi = hit / (hit + falsealarm + miss)\n",
            "<ipython-input-25-dfe4ccc45710>:79: RuntimeWarning: invalid value encountered in long_scalars\n",
            "  pod = hit / (hit + miss)\n",
            "<ipython-input-25-dfe4ccc45710>:80: RuntimeWarning: invalid value encountered in long_scalars\n",
            "  far = falsealarm / (hit + falsealarm)\n",
            "04/26 08:49:04 PM | Epoch: 19/0.017---Train,0.001----Test,RMSE1.015,NRMSE0.0620,MAE0.920,R2-0.121,CSInan,PODnan,FARnan\n",
            "\n",
            "04/26 08:49:04 PM | Epoch: 19/0.017---Train,0.001----Test,RMSE1.015,NRMSE0.0620,MAE0.920,R2-0.121,CSInan,PODnan,FARnan\n",
            "\n",
            "04/26 08:49:04 PM | Epoch: 19/0.017---Train,0.001----Test,RMSE1.015,NRMSE0.0620,MAE0.920,R2-0.121,CSInan,PODnan,FARnan\n",
            "\n",
            "04/26 08:49:04 PM | Epoch: 19/0.017---Train,0.001----Test,RMSE1.015,NRMSE0.0620,MAE0.920,R2-0.121,CSInan,PODnan,FARnan\n",
            "\n",
            "04/26 08:49:04 PM | Epoch: 19/0.017---Train,0.001----Test,RMSE1.015,NRMSE0.0620,MAE0.920,R2-0.121,CSInan,PODnan,FARnan\n",
            "\n",
            "04/26 08:49:04 PM | Epoch: 19/0.017---Train,0.001----Test,RMSE1.015,NRMSE0.0620,MAE0.920,R2-0.121,CSInan,PODnan,FARnan\n",
            "\n",
            "04/26 08:49:04 PM | Epoch: 19/0.017---Train,0.001----Test,RMSE1.015,NRMSE0.0620,MAE0.920,R2-0.121,CSInan,PODnan,FARnan\n",
            "\n",
            "04/26 08:49:04 PM | Epoch: 19/0.017---Train,0.001----Test,RMSE1.015,NRMSE0.0620,MAE0.920,R2-0.121,CSInan,PODnan,FARnan\n",
            "\n",
            "INFO:gal:Epoch: 19/0.017---Train,0.001----Test,RMSE1.015,NRMSE0.0620,MAE0.920,R2-0.121,CSInan,PODnan,FARnan\n",
            "\n"
          ]
        },
        {
          "name": "stdout",
          "output_type": "stream",
          "text": [
            "rmse 1.0152007\n",
            "Save model: /content/drive/MyDrive/Results/16_8/SAGNN/20230426203428/00/19/model.pth\n",
            "Train loss: 0.0171, Test loss: 0.0007, RMSE: 1.02,NRMSE: 0.0620, MAE: 0.92,R2: -0.1208, CSI: nan, POD: nan, FAR: nan\n",
            "\n",
            "Train epoch 20:\n"
          ]
        },
        {
          "name": "stderr",
          "output_type": "stream",
          "text": [
            "0it [00:00, ?it/s]/usr/local/lib/python3.9/dist-packages/torch/amp/autocast_mode.py:204: UserWarning: User provided device_type of 'cuda', but CUDA is not available. Disabling\n",
            "  warnings.warn('User provided device_type of \\'cuda\\', but CUDA is not available. Disabling')\n",
            "73it [00:36,  2.03it/s]\n"
          ]
        },
        {
          "name": "stdout",
          "output_type": "stream",
          "text": [
            "train_loss: 0.0170\n"
          ]
        },
        {
          "name": "stderr",
          "output_type": "stream",
          "text": [
            "<ipython-input-25-dfe4ccc45710>:78: RuntimeWarning: invalid value encountered in long_scalars\n",
            "  csi = hit / (hit + falsealarm + miss)\n",
            "<ipython-input-25-dfe4ccc45710>:79: RuntimeWarning: invalid value encountered in long_scalars\n",
            "  pod = hit / (hit + miss)\n",
            "<ipython-input-25-dfe4ccc45710>:80: RuntimeWarning: invalid value encountered in long_scalars\n",
            "  far = falsealarm / (hit + falsealarm)\n",
            "04/26 08:49:44 PM | Epoch: 20/0.017---Train,0.001----Test,RMSE1.016,NRMSE0.0621,MAE0.921,R2-0.129,CSInan,PODnan,FARnan\n",
            "\n",
            "04/26 08:49:44 PM | Epoch: 20/0.017---Train,0.001----Test,RMSE1.016,NRMSE0.0621,MAE0.921,R2-0.129,CSInan,PODnan,FARnan\n",
            "\n",
            "04/26 08:49:44 PM | Epoch: 20/0.017---Train,0.001----Test,RMSE1.016,NRMSE0.0621,MAE0.921,R2-0.129,CSInan,PODnan,FARnan\n",
            "\n",
            "04/26 08:49:44 PM | Epoch: 20/0.017---Train,0.001----Test,RMSE1.016,NRMSE0.0621,MAE0.921,R2-0.129,CSInan,PODnan,FARnan\n",
            "\n",
            "04/26 08:49:44 PM | Epoch: 20/0.017---Train,0.001----Test,RMSE1.016,NRMSE0.0621,MAE0.921,R2-0.129,CSInan,PODnan,FARnan\n",
            "\n",
            "04/26 08:49:44 PM | Epoch: 20/0.017---Train,0.001----Test,RMSE1.016,NRMSE0.0621,MAE0.921,R2-0.129,CSInan,PODnan,FARnan\n",
            "\n",
            "04/26 08:49:44 PM | Epoch: 20/0.017---Train,0.001----Test,RMSE1.016,NRMSE0.0621,MAE0.921,R2-0.129,CSInan,PODnan,FARnan\n",
            "\n",
            "04/26 08:49:44 PM | Epoch: 20/0.017---Train,0.001----Test,RMSE1.016,NRMSE0.0621,MAE0.921,R2-0.129,CSInan,PODnan,FARnan\n",
            "\n",
            "INFO:gal:Epoch: 20/0.017---Train,0.001----Test,RMSE1.016,NRMSE0.0621,MAE0.921,R2-0.129,CSInan,PODnan,FARnan\n",
            "\n"
          ]
        },
        {
          "name": "stdout",
          "output_type": "stream",
          "text": [
            "rmse 1.0162518\n",
            "Save model: /content/drive/MyDrive/Results/16_8/SAGNN/20230426203428/00/20/model.pth\n",
            "Train loss: 0.0170, Test loss: 0.0007, RMSE: 1.02,NRMSE: 0.0621, MAE: 0.92,R2: -0.1288, CSI: nan, POD: nan, FAR: nan\n",
            "\n",
            "Train epoch 21:\n"
          ]
        },
        {
          "name": "stderr",
          "output_type": "stream",
          "text": [
            "0it [00:00, ?it/s]/usr/local/lib/python3.9/dist-packages/torch/amp/autocast_mode.py:204: UserWarning: User provided device_type of 'cuda', but CUDA is not available. Disabling\n",
            "  warnings.warn('User provided device_type of \\'cuda\\', but CUDA is not available. Disabling')\n",
            "73it [00:36,  1.97it/s]\n"
          ]
        },
        {
          "name": "stdout",
          "output_type": "stream",
          "text": [
            "train_loss: 0.0163\n"
          ]
        },
        {
          "name": "stderr",
          "output_type": "stream",
          "text": [
            "<ipython-input-25-dfe4ccc45710>:78: RuntimeWarning: invalid value encountered in long_scalars\n",
            "  csi = hit / (hit + falsealarm + miss)\n",
            "<ipython-input-25-dfe4ccc45710>:79: RuntimeWarning: invalid value encountered in long_scalars\n",
            "  pod = hit / (hit + miss)\n",
            "<ipython-input-25-dfe4ccc45710>:80: RuntimeWarning: invalid value encountered in long_scalars\n",
            "  far = falsealarm / (hit + falsealarm)\n",
            "04/26 08:50:26 PM | Epoch: 21/0.016---Train,0.001----Test,RMSE1.017,NRMSE0.0621,MAE0.921,R2-0.132,CSInan,PODnan,FARnan\n",
            "\n",
            "04/26 08:50:26 PM | Epoch: 21/0.016---Train,0.001----Test,RMSE1.017,NRMSE0.0621,MAE0.921,R2-0.132,CSInan,PODnan,FARnan\n",
            "\n",
            "04/26 08:50:26 PM | Epoch: 21/0.016---Train,0.001----Test,RMSE1.017,NRMSE0.0621,MAE0.921,R2-0.132,CSInan,PODnan,FARnan\n",
            "\n",
            "04/26 08:50:26 PM | Epoch: 21/0.016---Train,0.001----Test,RMSE1.017,NRMSE0.0621,MAE0.921,R2-0.132,CSInan,PODnan,FARnan\n",
            "\n",
            "04/26 08:50:26 PM | Epoch: 21/0.016---Train,0.001----Test,RMSE1.017,NRMSE0.0621,MAE0.921,R2-0.132,CSInan,PODnan,FARnan\n",
            "\n",
            "04/26 08:50:26 PM | Epoch: 21/0.016---Train,0.001----Test,RMSE1.017,NRMSE0.0621,MAE0.921,R2-0.132,CSInan,PODnan,FARnan\n",
            "\n",
            "04/26 08:50:26 PM | Epoch: 21/0.016---Train,0.001----Test,RMSE1.017,NRMSE0.0621,MAE0.921,R2-0.132,CSInan,PODnan,FARnan\n",
            "\n",
            "04/26 08:50:26 PM | Epoch: 21/0.016---Train,0.001----Test,RMSE1.017,NRMSE0.0621,MAE0.921,R2-0.132,CSInan,PODnan,FARnan\n",
            "\n",
            "INFO:gal:Epoch: 21/0.016---Train,0.001----Test,RMSE1.017,NRMSE0.0621,MAE0.921,R2-0.132,CSInan,PODnan,FARnan\n",
            "\n"
          ]
        },
        {
          "name": "stdout",
          "output_type": "stream",
          "text": [
            "rmse 1.0166703\n",
            "Save model: /content/drive/MyDrive/Results/16_8/SAGNN/20230426203428/00/21/model.pth\n",
            "Train loss: 0.0163, Test loss: 0.0008, RMSE: 1.02,NRMSE: 0.0621, MAE: 0.92,R2: -0.1317, CSI: nan, POD: nan, FAR: nan\n",
            "\n",
            "Train epoch 22:\n"
          ]
        },
        {
          "name": "stderr",
          "output_type": "stream",
          "text": [
            "0it [00:00, ?it/s]/usr/local/lib/python3.9/dist-packages/torch/amp/autocast_mode.py:204: UserWarning: User provided device_type of 'cuda', but CUDA is not available. Disabling\n",
            "  warnings.warn('User provided device_type of \\'cuda\\', but CUDA is not available. Disabling')\n",
            "73it [00:35,  2.05it/s]\n"
          ]
        },
        {
          "name": "stdout",
          "output_type": "stream",
          "text": [
            "train_loss: 0.0157\n"
          ]
        },
        {
          "name": "stderr",
          "output_type": "stream",
          "text": [
            "<ipython-input-25-dfe4ccc45710>:78: RuntimeWarning: invalid value encountered in long_scalars\n",
            "  csi = hit / (hit + falsealarm + miss)\n",
            "<ipython-input-25-dfe4ccc45710>:79: RuntimeWarning: invalid value encountered in long_scalars\n",
            "  pod = hit / (hit + miss)\n",
            "<ipython-input-25-dfe4ccc45710>:80: RuntimeWarning: invalid value encountered in long_scalars\n",
            "  far = falsealarm / (hit + falsealarm)\n",
            "04/26 08:51:05 PM | Epoch: 22/0.016---Train,0.007----Test,RMSE1.017,NRMSE0.0621,MAE0.921,R2-0.132,CSInan,PODnan,FARnan\n",
            "\n",
            "04/26 08:51:05 PM | Epoch: 22/0.016---Train,0.007----Test,RMSE1.017,NRMSE0.0621,MAE0.921,R2-0.132,CSInan,PODnan,FARnan\n",
            "\n",
            "04/26 08:51:05 PM | Epoch: 22/0.016---Train,0.007----Test,RMSE1.017,NRMSE0.0621,MAE0.921,R2-0.132,CSInan,PODnan,FARnan\n",
            "\n",
            "04/26 08:51:05 PM | Epoch: 22/0.016---Train,0.007----Test,RMSE1.017,NRMSE0.0621,MAE0.921,R2-0.132,CSInan,PODnan,FARnan\n",
            "\n",
            "04/26 08:51:05 PM | Epoch: 22/0.016---Train,0.007----Test,RMSE1.017,NRMSE0.0621,MAE0.921,R2-0.132,CSInan,PODnan,FARnan\n",
            "\n",
            "04/26 08:51:05 PM | Epoch: 22/0.016---Train,0.007----Test,RMSE1.017,NRMSE0.0621,MAE0.921,R2-0.132,CSInan,PODnan,FARnan\n",
            "\n",
            "04/26 08:51:05 PM | Epoch: 22/0.016---Train,0.007----Test,RMSE1.017,NRMSE0.0621,MAE0.921,R2-0.132,CSInan,PODnan,FARnan\n",
            "\n",
            "04/26 08:51:05 PM | Epoch: 22/0.016---Train,0.007----Test,RMSE1.017,NRMSE0.0621,MAE0.921,R2-0.132,CSInan,PODnan,FARnan\n",
            "\n",
            "INFO:gal:Epoch: 22/0.016---Train,0.007----Test,RMSE1.017,NRMSE0.0621,MAE0.921,R2-0.132,CSInan,PODnan,FARnan\n",
            "\n"
          ]
        },
        {
          "name": "stdout",
          "output_type": "stream",
          "text": [
            "rmse 1.0166703\n",
            "Save model: /content/drive/MyDrive/Results/16_8/SAGNN/20230426203428/00/22/model.pth\n",
            "Train loss: 0.0157, Test loss: 0.0073, RMSE: 1.02,NRMSE: 0.0621, MAE: 0.92,R2: -0.1317, CSI: nan, POD: nan, FAR: nan\n",
            "\n",
            "Train epoch 23:\n"
          ]
        },
        {
          "name": "stderr",
          "output_type": "stream",
          "text": [
            "0it [00:00, ?it/s]/usr/local/lib/python3.9/dist-packages/torch/amp/autocast_mode.py:204: UserWarning: User provided device_type of 'cuda', but CUDA is not available. Disabling\n",
            "  warnings.warn('User provided device_type of \\'cuda\\', but CUDA is not available. Disabling')\n",
            "73it [00:36,  1.99it/s]\n"
          ]
        },
        {
          "name": "stdout",
          "output_type": "stream",
          "text": [
            "train_loss: 0.0385\n"
          ]
        },
        {
          "name": "stderr",
          "output_type": "stream",
          "text": [
            "<ipython-input-25-dfe4ccc45710>:78: RuntimeWarning: invalid value encountered in long_scalars\n",
            "  csi = hit / (hit + falsealarm + miss)\n",
            "<ipython-input-25-dfe4ccc45710>:79: RuntimeWarning: invalid value encountered in long_scalars\n",
            "  pod = hit / (hit + miss)\n",
            "<ipython-input-25-dfe4ccc45710>:80: RuntimeWarning: invalid value encountered in long_scalars\n",
            "  far = falsealarm / (hit + falsealarm)\n",
            "04/26 08:51:46 PM | Epoch: 23/0.038---Train,0.001----Test,RMSE1.174,NRMSE0.0717,MAE1.086,R2-0.032,CSInan,PODnan,FARnan\n",
            "\n",
            "04/26 08:51:46 PM | Epoch: 23/0.038---Train,0.001----Test,RMSE1.174,NRMSE0.0717,MAE1.086,R2-0.032,CSInan,PODnan,FARnan\n",
            "\n",
            "04/26 08:51:46 PM | Epoch: 23/0.038---Train,0.001----Test,RMSE1.174,NRMSE0.0717,MAE1.086,R2-0.032,CSInan,PODnan,FARnan\n",
            "\n",
            "04/26 08:51:46 PM | Epoch: 23/0.038---Train,0.001----Test,RMSE1.174,NRMSE0.0717,MAE1.086,R2-0.032,CSInan,PODnan,FARnan\n",
            "\n",
            "04/26 08:51:46 PM | Epoch: 23/0.038---Train,0.001----Test,RMSE1.174,NRMSE0.0717,MAE1.086,R2-0.032,CSInan,PODnan,FARnan\n",
            "\n",
            "04/26 08:51:46 PM | Epoch: 23/0.038---Train,0.001----Test,RMSE1.174,NRMSE0.0717,MAE1.086,R2-0.032,CSInan,PODnan,FARnan\n",
            "\n",
            "04/26 08:51:46 PM | Epoch: 23/0.038---Train,0.001----Test,RMSE1.174,NRMSE0.0717,MAE1.086,R2-0.032,CSInan,PODnan,FARnan\n",
            "\n",
            "04/26 08:51:46 PM | Epoch: 23/0.038---Train,0.001----Test,RMSE1.174,NRMSE0.0717,MAE1.086,R2-0.032,CSInan,PODnan,FARnan\n",
            "\n",
            "INFO:gal:Epoch: 23/0.038---Train,0.001----Test,RMSE1.174,NRMSE0.0717,MAE1.086,R2-0.032,CSInan,PODnan,FARnan\n",
            "\n"
          ]
        },
        {
          "name": "stdout",
          "output_type": "stream",
          "text": [
            "rmse 1.1736488\n",
            "Save model: /content/drive/MyDrive/Results/16_8/SAGNN/20230426203428/00/23/model.pth\n",
            "Train loss: 0.0385, Test loss: 0.0007, RMSE: 1.17,NRMSE: 0.0717, MAE: 1.09,R2: -0.0321, CSI: nan, POD: nan, FAR: nan\n",
            "\n",
            "Train epoch 24:\n"
          ]
        },
        {
          "name": "stderr",
          "output_type": "stream",
          "text": [
            "0it [00:00, ?it/s]/usr/local/lib/python3.9/dist-packages/torch/amp/autocast_mode.py:204: UserWarning: User provided device_type of 'cuda', but CUDA is not available. Disabling\n",
            "  warnings.warn('User provided device_type of \\'cuda\\', but CUDA is not available. Disabling')\n",
            "73it [00:36,  1.98it/s]\n"
          ]
        },
        {
          "name": "stdout",
          "output_type": "stream",
          "text": [
            "train_loss: 0.0304\n"
          ]
        },
        {
          "name": "stderr",
          "output_type": "stream",
          "text": [
            "<ipython-input-25-dfe4ccc45710>:78: RuntimeWarning: invalid value encountered in long_scalars\n",
            "  csi = hit / (hit + falsealarm + miss)\n",
            "<ipython-input-25-dfe4ccc45710>:79: RuntimeWarning: invalid value encountered in long_scalars\n",
            "  pod = hit / (hit + miss)\n",
            "<ipython-input-25-dfe4ccc45710>:80: RuntimeWarning: invalid value encountered in long_scalars\n",
            "  far = falsealarm / (hit + falsealarm)\n",
            "04/26 08:52:26 PM | Epoch: 24/0.030---Train,0.001----Test,RMSE1.078,NRMSE0.0658,MAE0.986,R2-0.000,CSInan,PODnan,FARnan\n",
            "\n",
            "04/26 08:52:26 PM | Epoch: 24/0.030---Train,0.001----Test,RMSE1.078,NRMSE0.0658,MAE0.986,R2-0.000,CSInan,PODnan,FARnan\n",
            "\n",
            "04/26 08:52:26 PM | Epoch: 24/0.030---Train,0.001----Test,RMSE1.078,NRMSE0.0658,MAE0.986,R2-0.000,CSInan,PODnan,FARnan\n",
            "\n",
            "04/26 08:52:26 PM | Epoch: 24/0.030---Train,0.001----Test,RMSE1.078,NRMSE0.0658,MAE0.986,R2-0.000,CSInan,PODnan,FARnan\n",
            "\n",
            "04/26 08:52:26 PM | Epoch: 24/0.030---Train,0.001----Test,RMSE1.078,NRMSE0.0658,MAE0.986,R2-0.000,CSInan,PODnan,FARnan\n",
            "\n",
            "04/26 08:52:26 PM | Epoch: 24/0.030---Train,0.001----Test,RMSE1.078,NRMSE0.0658,MAE0.986,R2-0.000,CSInan,PODnan,FARnan\n",
            "\n",
            "04/26 08:52:26 PM | Epoch: 24/0.030---Train,0.001----Test,RMSE1.078,NRMSE0.0658,MAE0.986,R2-0.000,CSInan,PODnan,FARnan\n",
            "\n",
            "04/26 08:52:26 PM | Epoch: 24/0.030---Train,0.001----Test,RMSE1.078,NRMSE0.0658,MAE0.986,R2-0.000,CSInan,PODnan,FARnan\n",
            "\n",
            "INFO:gal:Epoch: 24/0.030---Train,0.001----Test,RMSE1.078,NRMSE0.0658,MAE0.986,R2-0.000,CSInan,PODnan,FARnan\n",
            "\n"
          ]
        },
        {
          "name": "stdout",
          "output_type": "stream",
          "text": [
            "rmse 1.0778674\n",
            "Save model: /content/drive/MyDrive/Results/16_8/SAGNN/20230426203428/00/24/model.pth\n",
            "Train loss: 0.0304, Test loss: 0.0007, RMSE: 1.08,NRMSE: 0.0658, MAE: 0.99,R2: -0.0000, CSI: nan, POD: nan, FAR: nan\n",
            "\n",
            "Train epoch 25:\n"
          ]
        },
        {
          "name": "stderr",
          "output_type": "stream",
          "text": [
            "0it [00:00, ?it/s]/usr/local/lib/python3.9/dist-packages/torch/amp/autocast_mode.py:204: UserWarning: User provided device_type of 'cuda', but CUDA is not available. Disabling\n",
            "  warnings.warn('User provided device_type of \\'cuda\\', but CUDA is not available. Disabling')\n",
            "73it [00:37,  1.95it/s]\n"
          ]
        },
        {
          "name": "stdout",
          "output_type": "stream",
          "text": [
            "train_loss: 0.0206\n"
          ]
        },
        {
          "name": "stderr",
          "output_type": "stream",
          "text": [
            "<ipython-input-25-dfe4ccc45710>:78: RuntimeWarning: invalid value encountered in long_scalars\n",
            "  csi = hit / (hit + falsealarm + miss)\n",
            "<ipython-input-25-dfe4ccc45710>:79: RuntimeWarning: invalid value encountered in long_scalars\n",
            "  pod = hit / (hit + miss)\n",
            "<ipython-input-25-dfe4ccc45710>:80: RuntimeWarning: invalid value encountered in long_scalars\n",
            "  far = falsealarm / (hit + falsealarm)\n",
            "04/26 08:53:08 PM | Epoch: 25/0.021---Train,0.001----Test,RMSE1.017,NRMSE0.0621,MAE0.921,R2-0.132,CSInan,PODnan,FARnan\n",
            "\n",
            "04/26 08:53:08 PM | Epoch: 25/0.021---Train,0.001----Test,RMSE1.017,NRMSE0.0621,MAE0.921,R2-0.132,CSInan,PODnan,FARnan\n",
            "\n",
            "04/26 08:53:08 PM | Epoch: 25/0.021---Train,0.001----Test,RMSE1.017,NRMSE0.0621,MAE0.921,R2-0.132,CSInan,PODnan,FARnan\n",
            "\n",
            "04/26 08:53:08 PM | Epoch: 25/0.021---Train,0.001----Test,RMSE1.017,NRMSE0.0621,MAE0.921,R2-0.132,CSInan,PODnan,FARnan\n",
            "\n",
            "04/26 08:53:08 PM | Epoch: 25/0.021---Train,0.001----Test,RMSE1.017,NRMSE0.0621,MAE0.921,R2-0.132,CSInan,PODnan,FARnan\n",
            "\n",
            "04/26 08:53:08 PM | Epoch: 25/0.021---Train,0.001----Test,RMSE1.017,NRMSE0.0621,MAE0.921,R2-0.132,CSInan,PODnan,FARnan\n",
            "\n",
            "04/26 08:53:08 PM | Epoch: 25/0.021---Train,0.001----Test,RMSE1.017,NRMSE0.0621,MAE0.921,R2-0.132,CSInan,PODnan,FARnan\n",
            "\n",
            "04/26 08:53:08 PM | Epoch: 25/0.021---Train,0.001----Test,RMSE1.017,NRMSE0.0621,MAE0.921,R2-0.132,CSInan,PODnan,FARnan\n",
            "\n",
            "INFO:gal:Epoch: 25/0.021---Train,0.001----Test,RMSE1.017,NRMSE0.0621,MAE0.921,R2-0.132,CSInan,PODnan,FARnan\n",
            "\n"
          ]
        },
        {
          "name": "stdout",
          "output_type": "stream",
          "text": [
            "rmse 1.0166703\n",
            "Save model: /content/drive/MyDrive/Results/16_8/SAGNN/20230426203428/00/25/model.pth\n",
            "Train loss: 0.0206, Test loss: 0.0008, RMSE: 1.02,NRMSE: 0.0621, MAE: 0.92,R2: -0.1317, CSI: nan, POD: nan, FAR: nan\n",
            "\n",
            "Train epoch 26:\n"
          ]
        },
        {
          "name": "stderr",
          "output_type": "stream",
          "text": [
            "0it [00:00, ?it/s]/usr/local/lib/python3.9/dist-packages/torch/amp/autocast_mode.py:204: UserWarning: User provided device_type of 'cuda', but CUDA is not available. Disabling\n",
            "  warnings.warn('User provided device_type of \\'cuda\\', but CUDA is not available. Disabling')\n",
            "73it [00:35,  2.08it/s]\n"
          ]
        },
        {
          "name": "stdout",
          "output_type": "stream",
          "text": [
            "train_loss: 0.0179\n"
          ]
        },
        {
          "name": "stderr",
          "output_type": "stream",
          "text": [
            "<ipython-input-25-dfe4ccc45710>:78: RuntimeWarning: invalid value encountered in long_scalars\n",
            "  csi = hit / (hit + falsealarm + miss)\n",
            "<ipython-input-25-dfe4ccc45710>:79: RuntimeWarning: invalid value encountered in long_scalars\n",
            "  pod = hit / (hit + miss)\n",
            "<ipython-input-25-dfe4ccc45710>:80: RuntimeWarning: invalid value encountered in long_scalars\n",
            "  far = falsealarm / (hit + falsealarm)\n",
            "04/26 08:53:47 PM | Epoch: 26/0.018---Train,0.001----Test,RMSE1.017,NRMSE0.0621,MAE0.921,R2-0.132,CSInan,PODnan,FARnan\n",
            "\n",
            "04/26 08:53:47 PM | Epoch: 26/0.018---Train,0.001----Test,RMSE1.017,NRMSE0.0621,MAE0.921,R2-0.132,CSInan,PODnan,FARnan\n",
            "\n",
            "04/26 08:53:47 PM | Epoch: 26/0.018---Train,0.001----Test,RMSE1.017,NRMSE0.0621,MAE0.921,R2-0.132,CSInan,PODnan,FARnan\n",
            "\n",
            "04/26 08:53:47 PM | Epoch: 26/0.018---Train,0.001----Test,RMSE1.017,NRMSE0.0621,MAE0.921,R2-0.132,CSInan,PODnan,FARnan\n",
            "\n",
            "04/26 08:53:47 PM | Epoch: 26/0.018---Train,0.001----Test,RMSE1.017,NRMSE0.0621,MAE0.921,R2-0.132,CSInan,PODnan,FARnan\n",
            "\n",
            "04/26 08:53:47 PM | Epoch: 26/0.018---Train,0.001----Test,RMSE1.017,NRMSE0.0621,MAE0.921,R2-0.132,CSInan,PODnan,FARnan\n",
            "\n",
            "04/26 08:53:47 PM | Epoch: 26/0.018---Train,0.001----Test,RMSE1.017,NRMSE0.0621,MAE0.921,R2-0.132,CSInan,PODnan,FARnan\n",
            "\n",
            "04/26 08:53:47 PM | Epoch: 26/0.018---Train,0.001----Test,RMSE1.017,NRMSE0.0621,MAE0.921,R2-0.132,CSInan,PODnan,FARnan\n",
            "\n",
            "INFO:gal:Epoch: 26/0.018---Train,0.001----Test,RMSE1.017,NRMSE0.0621,MAE0.921,R2-0.132,CSInan,PODnan,FARnan\n",
            "\n"
          ]
        },
        {
          "name": "stdout",
          "output_type": "stream",
          "text": [
            "rmse 1.0166703\n",
            "Save model: /content/drive/MyDrive/Results/16_8/SAGNN/20230426203428/00/26/model.pth\n",
            "Train loss: 0.0179, Test loss: 0.0007, RMSE: 1.02,NRMSE: 0.0621, MAE: 0.92,R2: -0.1317, CSI: nan, POD: nan, FAR: nan\n",
            "\n",
            "Train epoch 27:\n"
          ]
        },
        {
          "name": "stderr",
          "output_type": "stream",
          "text": [
            "0it [00:00, ?it/s]/usr/local/lib/python3.9/dist-packages/torch/amp/autocast_mode.py:204: UserWarning: User provided device_type of 'cuda', but CUDA is not available. Disabling\n",
            "  warnings.warn('User provided device_type of \\'cuda\\', but CUDA is not available. Disabling')\n",
            "73it [00:36,  1.99it/s]\n"
          ]
        },
        {
          "name": "stdout",
          "output_type": "stream",
          "text": [
            "train_loss: 0.0173\n"
          ]
        },
        {
          "name": "stderr",
          "output_type": "stream",
          "text": [
            "<ipython-input-25-dfe4ccc45710>:78: RuntimeWarning: invalid value encountered in long_scalars\n",
            "  csi = hit / (hit + falsealarm + miss)\n",
            "<ipython-input-25-dfe4ccc45710>:79: RuntimeWarning: invalid value encountered in long_scalars\n",
            "  pod = hit / (hit + miss)\n",
            "<ipython-input-25-dfe4ccc45710>:80: RuntimeWarning: invalid value encountered in long_scalars\n",
            "  far = falsealarm / (hit + falsealarm)\n",
            "04/26 08:54:27 PM | Epoch: 27/0.017---Train,0.001----Test,RMSE1.024,NRMSE0.0625,MAE0.929,R2-0.034,CSInan,PODnan,FARnan\n",
            "\n",
            "04/26 08:54:27 PM | Epoch: 27/0.017---Train,0.001----Test,RMSE1.024,NRMSE0.0625,MAE0.929,R2-0.034,CSInan,PODnan,FARnan\n",
            "\n",
            "04/26 08:54:27 PM | Epoch: 27/0.017---Train,0.001----Test,RMSE1.024,NRMSE0.0625,MAE0.929,R2-0.034,CSInan,PODnan,FARnan\n",
            "\n",
            "04/26 08:54:27 PM | Epoch: 27/0.017---Train,0.001----Test,RMSE1.024,NRMSE0.0625,MAE0.929,R2-0.034,CSInan,PODnan,FARnan\n",
            "\n",
            "04/26 08:54:27 PM | Epoch: 27/0.017---Train,0.001----Test,RMSE1.024,NRMSE0.0625,MAE0.929,R2-0.034,CSInan,PODnan,FARnan\n",
            "\n",
            "04/26 08:54:27 PM | Epoch: 27/0.017---Train,0.001----Test,RMSE1.024,NRMSE0.0625,MAE0.929,R2-0.034,CSInan,PODnan,FARnan\n",
            "\n",
            "04/26 08:54:27 PM | Epoch: 27/0.017---Train,0.001----Test,RMSE1.024,NRMSE0.0625,MAE0.929,R2-0.034,CSInan,PODnan,FARnan\n",
            "\n",
            "04/26 08:54:27 PM | Epoch: 27/0.017---Train,0.001----Test,RMSE1.024,NRMSE0.0625,MAE0.929,R2-0.034,CSInan,PODnan,FARnan\n",
            "\n",
            "INFO:gal:Epoch: 27/0.017---Train,0.001----Test,RMSE1.024,NRMSE0.0625,MAE0.929,R2-0.034,CSInan,PODnan,FARnan\n",
            "\n"
          ]
        },
        {
          "name": "stdout",
          "output_type": "stream",
          "text": [
            "rmse 1.0241201\n",
            "Save model: /content/drive/MyDrive/Results/16_8/SAGNN/20230426203428/00/27/model.pth\n",
            "Train loss: 0.0173, Test loss: 0.0007, RMSE: 1.02,NRMSE: 0.0625, MAE: 0.93,R2: -0.0337, CSI: nan, POD: nan, FAR: nan\n",
            "\n",
            "Train epoch 28:\n"
          ]
        },
        {
          "name": "stderr",
          "output_type": "stream",
          "text": [
            "0it [00:00, ?it/s]/usr/local/lib/python3.9/dist-packages/torch/amp/autocast_mode.py:204: UserWarning: User provided device_type of 'cuda', but CUDA is not available. Disabling\n",
            "  warnings.warn('User provided device_type of \\'cuda\\', but CUDA is not available. Disabling')\n",
            "73it [00:37,  1.93it/s]\n"
          ]
        },
        {
          "name": "stdout",
          "output_type": "stream",
          "text": [
            "train_loss: 0.0165\n"
          ]
        },
        {
          "name": "stderr",
          "output_type": "stream",
          "text": [
            "<ipython-input-25-dfe4ccc45710>:78: RuntimeWarning: invalid value encountered in long_scalars\n",
            "  csi = hit / (hit + falsealarm + miss)\n",
            "<ipython-input-25-dfe4ccc45710>:79: RuntimeWarning: invalid value encountered in long_scalars\n",
            "  pod = hit / (hit + miss)\n",
            "<ipython-input-25-dfe4ccc45710>:80: RuntimeWarning: invalid value encountered in long_scalars\n",
            "  far = falsealarm / (hit + falsealarm)\n",
            "04/26 08:55:09 PM | Epoch: 28/0.016---Train,0.001----Test,RMSE1.042,NRMSE0.0636,MAE0.948,R2-0.012,CSInan,PODnan,FARnan\n",
            "\n",
            "04/26 08:55:09 PM | Epoch: 28/0.016---Train,0.001----Test,RMSE1.042,NRMSE0.0636,MAE0.948,R2-0.012,CSInan,PODnan,FARnan\n",
            "\n",
            "04/26 08:55:09 PM | Epoch: 28/0.016---Train,0.001----Test,RMSE1.042,NRMSE0.0636,MAE0.948,R2-0.012,CSInan,PODnan,FARnan\n",
            "\n",
            "04/26 08:55:09 PM | Epoch: 28/0.016---Train,0.001----Test,RMSE1.042,NRMSE0.0636,MAE0.948,R2-0.012,CSInan,PODnan,FARnan\n",
            "\n",
            "04/26 08:55:09 PM | Epoch: 28/0.016---Train,0.001----Test,RMSE1.042,NRMSE0.0636,MAE0.948,R2-0.012,CSInan,PODnan,FARnan\n",
            "\n",
            "04/26 08:55:09 PM | Epoch: 28/0.016---Train,0.001----Test,RMSE1.042,NRMSE0.0636,MAE0.948,R2-0.012,CSInan,PODnan,FARnan\n",
            "\n",
            "04/26 08:55:09 PM | Epoch: 28/0.016---Train,0.001----Test,RMSE1.042,NRMSE0.0636,MAE0.948,R2-0.012,CSInan,PODnan,FARnan\n",
            "\n",
            "04/26 08:55:09 PM | Epoch: 28/0.016---Train,0.001----Test,RMSE1.042,NRMSE0.0636,MAE0.948,R2-0.012,CSInan,PODnan,FARnan\n",
            "\n",
            "INFO:gal:Epoch: 28/0.016---Train,0.001----Test,RMSE1.042,NRMSE0.0636,MAE0.948,R2-0.012,CSInan,PODnan,FARnan\n",
            "\n"
          ]
        },
        {
          "name": "stdout",
          "output_type": "stream",
          "text": [
            "rmse 1.0421464\n",
            "Save model: /content/drive/MyDrive/Results/16_8/SAGNN/20230426203428/00/28/model.pth\n",
            "Train loss: 0.0165, Test loss: 0.0007, RMSE: 1.04,NRMSE: 0.0636, MAE: 0.95,R2: -0.0118, CSI: nan, POD: nan, FAR: nan\n",
            "\n",
            "Train epoch 29:\n"
          ]
        },
        {
          "name": "stderr",
          "output_type": "stream",
          "text": [
            "0it [00:00, ?it/s]/usr/local/lib/python3.9/dist-packages/torch/amp/autocast_mode.py:204: UserWarning: User provided device_type of 'cuda', but CUDA is not available. Disabling\n",
            "  warnings.warn('User provided device_type of \\'cuda\\', but CUDA is not available. Disabling')\n",
            "73it [00:34,  2.14it/s]\n"
          ]
        },
        {
          "name": "stdout",
          "output_type": "stream",
          "text": [
            "train_loss: 0.0165\n"
          ]
        },
        {
          "name": "stderr",
          "output_type": "stream",
          "text": [
            "<ipython-input-25-dfe4ccc45710>:78: RuntimeWarning: invalid value encountered in long_scalars\n",
            "  csi = hit / (hit + falsealarm + miss)\n",
            "<ipython-input-25-dfe4ccc45710>:79: RuntimeWarning: invalid value encountered in long_scalars\n",
            "  pod = hit / (hit + miss)\n",
            "<ipython-input-25-dfe4ccc45710>:80: RuntimeWarning: invalid value encountered in long_scalars\n",
            "  far = falsealarm / (hit + falsealarm)\n",
            "04/26 08:55:47 PM | Epoch: 29/0.017---Train,0.001----Test,RMSE1.017,NRMSE0.0621,MAE0.921,R2-0.132,CSInan,PODnan,FARnan\n",
            "\n",
            "04/26 08:55:47 PM | Epoch: 29/0.017---Train,0.001----Test,RMSE1.017,NRMSE0.0621,MAE0.921,R2-0.132,CSInan,PODnan,FARnan\n",
            "\n",
            "04/26 08:55:47 PM | Epoch: 29/0.017---Train,0.001----Test,RMSE1.017,NRMSE0.0621,MAE0.921,R2-0.132,CSInan,PODnan,FARnan\n",
            "\n",
            "04/26 08:55:47 PM | Epoch: 29/0.017---Train,0.001----Test,RMSE1.017,NRMSE0.0621,MAE0.921,R2-0.132,CSInan,PODnan,FARnan\n",
            "\n",
            "04/26 08:55:47 PM | Epoch: 29/0.017---Train,0.001----Test,RMSE1.017,NRMSE0.0621,MAE0.921,R2-0.132,CSInan,PODnan,FARnan\n",
            "\n",
            "04/26 08:55:47 PM | Epoch: 29/0.017---Train,0.001----Test,RMSE1.017,NRMSE0.0621,MAE0.921,R2-0.132,CSInan,PODnan,FARnan\n",
            "\n",
            "04/26 08:55:47 PM | Epoch: 29/0.017---Train,0.001----Test,RMSE1.017,NRMSE0.0621,MAE0.921,R2-0.132,CSInan,PODnan,FARnan\n",
            "\n",
            "04/26 08:55:47 PM | Epoch: 29/0.017---Train,0.001----Test,RMSE1.017,NRMSE0.0621,MAE0.921,R2-0.132,CSInan,PODnan,FARnan\n",
            "\n",
            "INFO:gal:Epoch: 29/0.017---Train,0.001----Test,RMSE1.017,NRMSE0.0621,MAE0.921,R2-0.132,CSInan,PODnan,FARnan\n",
            "\n"
          ]
        },
        {
          "name": "stdout",
          "output_type": "stream",
          "text": [
            "rmse 1.0166703\n",
            "Save model: /content/drive/MyDrive/Results/16_8/SAGNN/20230426203428/00/29/model.pth\n",
            "Train loss: 0.0165, Test loss: 0.0008, RMSE: 1.02,NRMSE: 0.0621, MAE: 0.92,R2: -0.1317, CSI: nan, POD: nan, FAR: nan\n",
            "\n",
            "Train epoch 30:\n"
          ]
        },
        {
          "name": "stderr",
          "output_type": "stream",
          "text": [
            "0it [00:00, ?it/s]/usr/local/lib/python3.9/dist-packages/torch/amp/autocast_mode.py:204: UserWarning: User provided device_type of 'cuda', but CUDA is not available. Disabling\n",
            "  warnings.warn('User provided device_type of \\'cuda\\', but CUDA is not available. Disabling')\n",
            "73it [00:36,  2.03it/s]\n"
          ]
        },
        {
          "name": "stdout",
          "output_type": "stream",
          "text": [
            "train_loss: 0.0163\n"
          ]
        },
        {
          "name": "stderr",
          "output_type": "stream",
          "text": [
            "<ipython-input-25-dfe4ccc45710>:78: RuntimeWarning: invalid value encountered in long_scalars\n",
            "  csi = hit / (hit + falsealarm + miss)\n",
            "<ipython-input-25-dfe4ccc45710>:79: RuntimeWarning: invalid value encountered in long_scalars\n",
            "  pod = hit / (hit + miss)\n",
            "<ipython-input-25-dfe4ccc45710>:80: RuntimeWarning: invalid value encountered in long_scalars\n",
            "  far = falsealarm / (hit + falsealarm)\n",
            "04/26 08:56:27 PM | Epoch: 30/0.016---Train,0.001----Test,RMSE1.017,NRMSE0.0621,MAE0.921,R2-0.132,CSInan,PODnan,FARnan\n",
            "\n",
            "04/26 08:56:27 PM | Epoch: 30/0.016---Train,0.001----Test,RMSE1.017,NRMSE0.0621,MAE0.921,R2-0.132,CSInan,PODnan,FARnan\n",
            "\n",
            "04/26 08:56:27 PM | Epoch: 30/0.016---Train,0.001----Test,RMSE1.017,NRMSE0.0621,MAE0.921,R2-0.132,CSInan,PODnan,FARnan\n",
            "\n",
            "04/26 08:56:27 PM | Epoch: 30/0.016---Train,0.001----Test,RMSE1.017,NRMSE0.0621,MAE0.921,R2-0.132,CSInan,PODnan,FARnan\n",
            "\n",
            "04/26 08:56:27 PM | Epoch: 30/0.016---Train,0.001----Test,RMSE1.017,NRMSE0.0621,MAE0.921,R2-0.132,CSInan,PODnan,FARnan\n",
            "\n",
            "04/26 08:56:27 PM | Epoch: 30/0.016---Train,0.001----Test,RMSE1.017,NRMSE0.0621,MAE0.921,R2-0.132,CSInan,PODnan,FARnan\n",
            "\n",
            "04/26 08:56:27 PM | Epoch: 30/0.016---Train,0.001----Test,RMSE1.017,NRMSE0.0621,MAE0.921,R2-0.132,CSInan,PODnan,FARnan\n",
            "\n",
            "04/26 08:56:27 PM | Epoch: 30/0.016---Train,0.001----Test,RMSE1.017,NRMSE0.0621,MAE0.921,R2-0.132,CSInan,PODnan,FARnan\n",
            "\n",
            "INFO:gal:Epoch: 30/0.016---Train,0.001----Test,RMSE1.017,NRMSE0.0621,MAE0.921,R2-0.132,CSInan,PODnan,FARnan\n",
            "\n"
          ]
        },
        {
          "name": "stdout",
          "output_type": "stream",
          "text": [
            "rmse 1.0166703\n",
            "Save model: /content/drive/MyDrive/Results/16_8/SAGNN/20230426203428/00/30/model.pth\n",
            "Train loss: 0.0163, Test loss: 0.0008, RMSE: 1.02,NRMSE: 0.0621, MAE: 0.92,R2: -0.1317, CSI: nan, POD: nan, FAR: nan\n",
            "\n",
            "Train epoch 31:\n"
          ]
        },
        {
          "name": "stderr",
          "output_type": "stream",
          "text": [
            "0it [00:00, ?it/s]/usr/local/lib/python3.9/dist-packages/torch/amp/autocast_mode.py:204: UserWarning: User provided device_type of 'cuda', but CUDA is not available. Disabling\n",
            "  warnings.warn('User provided device_type of \\'cuda\\', but CUDA is not available. Disabling')\n",
            "73it [00:34,  2.10it/s]\n"
          ]
        },
        {
          "name": "stdout",
          "output_type": "stream",
          "text": [
            "train_loss: 0.0164\n"
          ]
        },
        {
          "name": "stderr",
          "output_type": "stream",
          "text": [
            "<ipython-input-25-dfe4ccc45710>:78: RuntimeWarning: invalid value encountered in long_scalars\n",
            "  csi = hit / (hit + falsealarm + miss)\n",
            "<ipython-input-25-dfe4ccc45710>:79: RuntimeWarning: invalid value encountered in long_scalars\n",
            "  pod = hit / (hit + miss)\n",
            "<ipython-input-25-dfe4ccc45710>:80: RuntimeWarning: invalid value encountered in long_scalars\n",
            "  far = falsealarm / (hit + falsealarm)\n",
            "04/26 08:57:05 PM | Epoch: 31/0.016---Train,0.001----Test,RMSE1.017,NRMSE0.0621,MAE0.921,R2-0.132,CSInan,PODnan,FARnan\n",
            "\n",
            "04/26 08:57:05 PM | Epoch: 31/0.016---Train,0.001----Test,RMSE1.017,NRMSE0.0621,MAE0.921,R2-0.132,CSInan,PODnan,FARnan\n",
            "\n",
            "04/26 08:57:05 PM | Epoch: 31/0.016---Train,0.001----Test,RMSE1.017,NRMSE0.0621,MAE0.921,R2-0.132,CSInan,PODnan,FARnan\n",
            "\n",
            "04/26 08:57:05 PM | Epoch: 31/0.016---Train,0.001----Test,RMSE1.017,NRMSE0.0621,MAE0.921,R2-0.132,CSInan,PODnan,FARnan\n",
            "\n",
            "04/26 08:57:05 PM | Epoch: 31/0.016---Train,0.001----Test,RMSE1.017,NRMSE0.0621,MAE0.921,R2-0.132,CSInan,PODnan,FARnan\n",
            "\n",
            "04/26 08:57:05 PM | Epoch: 31/0.016---Train,0.001----Test,RMSE1.017,NRMSE0.0621,MAE0.921,R2-0.132,CSInan,PODnan,FARnan\n",
            "\n",
            "04/26 08:57:05 PM | Epoch: 31/0.016---Train,0.001----Test,RMSE1.017,NRMSE0.0621,MAE0.921,R2-0.132,CSInan,PODnan,FARnan\n",
            "\n",
            "04/26 08:57:05 PM | Epoch: 31/0.016---Train,0.001----Test,RMSE1.017,NRMSE0.0621,MAE0.921,R2-0.132,CSInan,PODnan,FARnan\n",
            "\n",
            "INFO:gal:Epoch: 31/0.016---Train,0.001----Test,RMSE1.017,NRMSE0.0621,MAE0.921,R2-0.132,CSInan,PODnan,FARnan\n",
            "\n"
          ]
        },
        {
          "name": "stdout",
          "output_type": "stream",
          "text": [
            "rmse 1.0166703\n",
            "Save model: /content/drive/MyDrive/Results/16_8/SAGNN/20230426203428/00/31/model.pth\n",
            "Train loss: 0.0164, Test loss: 0.0009, RMSE: 1.02,NRMSE: 0.0621, MAE: 0.92,R2: -0.1317, CSI: nan, POD: nan, FAR: nan\n",
            "\n",
            "Train epoch 32:\n"
          ]
        },
        {
          "name": "stderr",
          "output_type": "stream",
          "text": [
            "0it [00:00, ?it/s]/usr/local/lib/python3.9/dist-packages/torch/amp/autocast_mode.py:204: UserWarning: User provided device_type of 'cuda', but CUDA is not available. Disabling\n",
            "  warnings.warn('User provided device_type of \\'cuda\\', but CUDA is not available. Disabling')\n",
            "73it [00:35,  2.08it/s]\n"
          ]
        },
        {
          "name": "stdout",
          "output_type": "stream",
          "text": [
            "train_loss: 0.0166\n"
          ]
        },
        {
          "name": "stderr",
          "output_type": "stream",
          "text": [
            "<ipython-input-25-dfe4ccc45710>:78: RuntimeWarning: invalid value encountered in long_scalars\n",
            "  csi = hit / (hit + falsealarm + miss)\n",
            "<ipython-input-25-dfe4ccc45710>:79: RuntimeWarning: invalid value encountered in long_scalars\n",
            "  pod = hit / (hit + miss)\n",
            "<ipython-input-25-dfe4ccc45710>:80: RuntimeWarning: invalid value encountered in long_scalars\n",
            "  far = falsealarm / (hit + falsealarm)\n",
            "04/26 08:57:44 PM | Epoch: 32/0.017---Train,0.001----Test,RMSE1.017,NRMSE0.0621,MAE0.921,R2-0.132,CSInan,PODnan,FARnan\n",
            "\n",
            "04/26 08:57:44 PM | Epoch: 32/0.017---Train,0.001----Test,RMSE1.017,NRMSE0.0621,MAE0.921,R2-0.132,CSInan,PODnan,FARnan\n",
            "\n",
            "04/26 08:57:44 PM | Epoch: 32/0.017---Train,0.001----Test,RMSE1.017,NRMSE0.0621,MAE0.921,R2-0.132,CSInan,PODnan,FARnan\n",
            "\n",
            "04/26 08:57:44 PM | Epoch: 32/0.017---Train,0.001----Test,RMSE1.017,NRMSE0.0621,MAE0.921,R2-0.132,CSInan,PODnan,FARnan\n",
            "\n",
            "04/26 08:57:44 PM | Epoch: 32/0.017---Train,0.001----Test,RMSE1.017,NRMSE0.0621,MAE0.921,R2-0.132,CSInan,PODnan,FARnan\n",
            "\n",
            "04/26 08:57:44 PM | Epoch: 32/0.017---Train,0.001----Test,RMSE1.017,NRMSE0.0621,MAE0.921,R2-0.132,CSInan,PODnan,FARnan\n",
            "\n",
            "04/26 08:57:44 PM | Epoch: 32/0.017---Train,0.001----Test,RMSE1.017,NRMSE0.0621,MAE0.921,R2-0.132,CSInan,PODnan,FARnan\n",
            "\n",
            "04/26 08:57:44 PM | Epoch: 32/0.017---Train,0.001----Test,RMSE1.017,NRMSE0.0621,MAE0.921,R2-0.132,CSInan,PODnan,FARnan\n",
            "\n",
            "INFO:gal:Epoch: 32/0.017---Train,0.001----Test,RMSE1.017,NRMSE0.0621,MAE0.921,R2-0.132,CSInan,PODnan,FARnan\n",
            "\n"
          ]
        },
        {
          "name": "stdout",
          "output_type": "stream",
          "text": [
            "rmse 1.0166703\n",
            "Save model: /content/drive/MyDrive/Results/16_8/SAGNN/20230426203428/00/32/model.pth\n",
            "Train loss: 0.0166, Test loss: 0.0007, RMSE: 1.02,NRMSE: 0.0621, MAE: 0.92,R2: -0.1317, CSI: nan, POD: nan, FAR: nan\n",
            "\n",
            "Train epoch 33:\n"
          ]
        },
        {
          "name": "stderr",
          "output_type": "stream",
          "text": [
            "0it [00:00, ?it/s]/usr/local/lib/python3.9/dist-packages/torch/amp/autocast_mode.py:204: UserWarning: User provided device_type of 'cuda', but CUDA is not available. Disabling\n",
            "  warnings.warn('User provided device_type of \\'cuda\\', but CUDA is not available. Disabling')\n",
            "73it [00:35,  2.04it/s]\n"
          ]
        },
        {
          "name": "stdout",
          "output_type": "stream",
          "text": [
            "train_loss: 0.0181\n"
          ]
        },
        {
          "name": "stderr",
          "output_type": "stream",
          "text": [
            "<ipython-input-25-dfe4ccc45710>:78: RuntimeWarning: invalid value encountered in long_scalars\n",
            "  csi = hit / (hit + falsealarm + miss)\n",
            "<ipython-input-25-dfe4ccc45710>:79: RuntimeWarning: invalid value encountered in long_scalars\n",
            "  pod = hit / (hit + miss)\n",
            "<ipython-input-25-dfe4ccc45710>:80: RuntimeWarning: invalid value encountered in long_scalars\n",
            "  far = falsealarm / (hit + falsealarm)\n",
            "04/26 08:58:23 PM | Epoch: 33/0.018---Train,0.001----Test,RMSE1.017,NRMSE0.0621,MAE0.922,R2-0.052,CSInan,PODnan,FARnan\n",
            "\n",
            "04/26 08:58:23 PM | Epoch: 33/0.018---Train,0.001----Test,RMSE1.017,NRMSE0.0621,MAE0.922,R2-0.052,CSInan,PODnan,FARnan\n",
            "\n",
            "04/26 08:58:23 PM | Epoch: 33/0.018---Train,0.001----Test,RMSE1.017,NRMSE0.0621,MAE0.922,R2-0.052,CSInan,PODnan,FARnan\n",
            "\n",
            "04/26 08:58:23 PM | Epoch: 33/0.018---Train,0.001----Test,RMSE1.017,NRMSE0.0621,MAE0.922,R2-0.052,CSInan,PODnan,FARnan\n",
            "\n",
            "04/26 08:58:23 PM | Epoch: 33/0.018---Train,0.001----Test,RMSE1.017,NRMSE0.0621,MAE0.922,R2-0.052,CSInan,PODnan,FARnan\n",
            "\n",
            "04/26 08:58:23 PM | Epoch: 33/0.018---Train,0.001----Test,RMSE1.017,NRMSE0.0621,MAE0.922,R2-0.052,CSInan,PODnan,FARnan\n",
            "\n",
            "04/26 08:58:23 PM | Epoch: 33/0.018---Train,0.001----Test,RMSE1.017,NRMSE0.0621,MAE0.922,R2-0.052,CSInan,PODnan,FARnan\n",
            "\n",
            "04/26 08:58:23 PM | Epoch: 33/0.018---Train,0.001----Test,RMSE1.017,NRMSE0.0621,MAE0.922,R2-0.052,CSInan,PODnan,FARnan\n",
            "\n",
            "INFO:gal:Epoch: 33/0.018---Train,0.001----Test,RMSE1.017,NRMSE0.0621,MAE0.922,R2-0.052,CSInan,PODnan,FARnan\n",
            "\n"
          ]
        },
        {
          "name": "stdout",
          "output_type": "stream",
          "text": [
            "rmse 1.0166259\n",
            "Save model: /content/drive/MyDrive/Results/16_8/SAGNN/20230426203428/00/33/model.pth\n",
            "Train loss: 0.0181, Test loss: 0.0007, RMSE: 1.02,NRMSE: 0.0621, MAE: 0.92,R2: -0.0520, CSI: nan, POD: nan, FAR: nan\n",
            "\n",
            "Train epoch 34:\n"
          ]
        },
        {
          "name": "stderr",
          "output_type": "stream",
          "text": [
            "0it [00:00, ?it/s]/usr/local/lib/python3.9/dist-packages/torch/amp/autocast_mode.py:204: UserWarning: User provided device_type of 'cuda', but CUDA is not available. Disabling\n",
            "  warnings.warn('User provided device_type of \\'cuda\\', but CUDA is not available. Disabling')\n",
            "73it [00:35,  2.09it/s]\n"
          ]
        },
        {
          "name": "stdout",
          "output_type": "stream",
          "text": [
            "train_loss: 0.0157\n"
          ]
        },
        {
          "name": "stderr",
          "output_type": "stream",
          "text": [
            "<ipython-input-25-dfe4ccc45710>:78: RuntimeWarning: invalid value encountered in long_scalars\n",
            "  csi = hit / (hit + falsealarm + miss)\n",
            "<ipython-input-25-dfe4ccc45710>:79: RuntimeWarning: invalid value encountered in long_scalars\n",
            "  pod = hit / (hit + miss)\n",
            "<ipython-input-25-dfe4ccc45710>:80: RuntimeWarning: invalid value encountered in long_scalars\n",
            "  far = falsealarm / (hit + falsealarm)\n",
            "04/26 08:59:02 PM | Epoch: 34/0.016---Train,0.001----Test,RMSE1.017,NRMSE0.0621,MAE0.921,R2-0.132,CSInan,PODnan,FARnan\n",
            "\n",
            "04/26 08:59:02 PM | Epoch: 34/0.016---Train,0.001----Test,RMSE1.017,NRMSE0.0621,MAE0.921,R2-0.132,CSInan,PODnan,FARnan\n",
            "\n",
            "04/26 08:59:02 PM | Epoch: 34/0.016---Train,0.001----Test,RMSE1.017,NRMSE0.0621,MAE0.921,R2-0.132,CSInan,PODnan,FARnan\n",
            "\n",
            "04/26 08:59:02 PM | Epoch: 34/0.016---Train,0.001----Test,RMSE1.017,NRMSE0.0621,MAE0.921,R2-0.132,CSInan,PODnan,FARnan\n",
            "\n",
            "04/26 08:59:02 PM | Epoch: 34/0.016---Train,0.001----Test,RMSE1.017,NRMSE0.0621,MAE0.921,R2-0.132,CSInan,PODnan,FARnan\n",
            "\n",
            "04/26 08:59:02 PM | Epoch: 34/0.016---Train,0.001----Test,RMSE1.017,NRMSE0.0621,MAE0.921,R2-0.132,CSInan,PODnan,FARnan\n",
            "\n",
            "04/26 08:59:02 PM | Epoch: 34/0.016---Train,0.001----Test,RMSE1.017,NRMSE0.0621,MAE0.921,R2-0.132,CSInan,PODnan,FARnan\n",
            "\n",
            "04/26 08:59:02 PM | Epoch: 34/0.016---Train,0.001----Test,RMSE1.017,NRMSE0.0621,MAE0.921,R2-0.132,CSInan,PODnan,FARnan\n",
            "\n",
            "INFO:gal:Epoch: 34/0.016---Train,0.001----Test,RMSE1.017,NRMSE0.0621,MAE0.921,R2-0.132,CSInan,PODnan,FARnan\n",
            "\n"
          ]
        },
        {
          "name": "stdout",
          "output_type": "stream",
          "text": [
            "rmse 1.0166703\n",
            "Save model: /content/drive/MyDrive/Results/16_8/SAGNN/20230426203428/00/34/model.pth\n",
            "Train loss: 0.0157, Test loss: 0.0010, RMSE: 1.02,NRMSE: 0.0621, MAE: 0.92,R2: -0.1317, CSI: nan, POD: nan, FAR: nan\n",
            "\n",
            "Train epoch 35:\n"
          ]
        },
        {
          "name": "stderr",
          "output_type": "stream",
          "text": [
            "0it [00:00, ?it/s]/usr/local/lib/python3.9/dist-packages/torch/amp/autocast_mode.py:204: UserWarning: User provided device_type of 'cuda', but CUDA is not available. Disabling\n",
            "  warnings.warn('User provided device_type of \\'cuda\\', but CUDA is not available. Disabling')\n",
            "73it [00:34,  2.10it/s]\n"
          ]
        },
        {
          "name": "stdout",
          "output_type": "stream",
          "text": [
            "train_loss: 0.0171\n"
          ]
        },
        {
          "name": "stderr",
          "output_type": "stream",
          "text": [
            "<ipython-input-25-dfe4ccc45710>:78: RuntimeWarning: invalid value encountered in long_scalars\n",
            "  csi = hit / (hit + falsealarm + miss)\n",
            "<ipython-input-25-dfe4ccc45710>:79: RuntimeWarning: invalid value encountered in long_scalars\n",
            "  pod = hit / (hit + miss)\n",
            "<ipython-input-25-dfe4ccc45710>:80: RuntimeWarning: invalid value encountered in long_scalars\n",
            "  far = falsealarm / (hit + falsealarm)\n",
            "04/26 08:59:40 PM | Epoch: 35/0.017---Train,0.001----Test,RMSE1.017,NRMSE0.0621,MAE0.921,R2-0.132,CSInan,PODnan,FARnan\n",
            "\n",
            "04/26 08:59:40 PM | Epoch: 35/0.017---Train,0.001----Test,RMSE1.017,NRMSE0.0621,MAE0.921,R2-0.132,CSInan,PODnan,FARnan\n",
            "\n",
            "04/26 08:59:40 PM | Epoch: 35/0.017---Train,0.001----Test,RMSE1.017,NRMSE0.0621,MAE0.921,R2-0.132,CSInan,PODnan,FARnan\n",
            "\n",
            "04/26 08:59:40 PM | Epoch: 35/0.017---Train,0.001----Test,RMSE1.017,NRMSE0.0621,MAE0.921,R2-0.132,CSInan,PODnan,FARnan\n",
            "\n",
            "04/26 08:59:40 PM | Epoch: 35/0.017---Train,0.001----Test,RMSE1.017,NRMSE0.0621,MAE0.921,R2-0.132,CSInan,PODnan,FARnan\n",
            "\n",
            "04/26 08:59:40 PM | Epoch: 35/0.017---Train,0.001----Test,RMSE1.017,NRMSE0.0621,MAE0.921,R2-0.132,CSInan,PODnan,FARnan\n",
            "\n",
            "04/26 08:59:40 PM | Epoch: 35/0.017---Train,0.001----Test,RMSE1.017,NRMSE0.0621,MAE0.921,R2-0.132,CSInan,PODnan,FARnan\n",
            "\n",
            "04/26 08:59:40 PM | Epoch: 35/0.017---Train,0.001----Test,RMSE1.017,NRMSE0.0621,MAE0.921,R2-0.132,CSInan,PODnan,FARnan\n",
            "\n",
            "INFO:gal:Epoch: 35/0.017---Train,0.001----Test,RMSE1.017,NRMSE0.0621,MAE0.921,R2-0.132,CSInan,PODnan,FARnan\n",
            "\n"
          ]
        },
        {
          "name": "stdout",
          "output_type": "stream",
          "text": [
            "rmse 1.0166703\n",
            "Save model: /content/drive/MyDrive/Results/16_8/SAGNN/20230426203428/00/35/model.pth\n",
            "Train loss: 0.0171, Test loss: 0.0010, RMSE: 1.02,NRMSE: 0.0621, MAE: 0.92,R2: -0.1317, CSI: nan, POD: nan, FAR: nan\n",
            "\n",
            "Train epoch 36:\n"
          ]
        },
        {
          "name": "stderr",
          "output_type": "stream",
          "text": [
            "0it [00:00, ?it/s]/usr/local/lib/python3.9/dist-packages/torch/amp/autocast_mode.py:204: UserWarning: User provided device_type of 'cuda', but CUDA is not available. Disabling\n",
            "  warnings.warn('User provided device_type of \\'cuda\\', but CUDA is not available. Disabling')\n",
            "73it [00:36,  2.03it/s]\n"
          ]
        },
        {
          "name": "stdout",
          "output_type": "stream",
          "text": [
            "train_loss: 0.0168\n"
          ]
        },
        {
          "name": "stderr",
          "output_type": "stream",
          "text": [
            "<ipython-input-25-dfe4ccc45710>:78: RuntimeWarning: invalid value encountered in long_scalars\n",
            "  csi = hit / (hit + falsealarm + miss)\n",
            "<ipython-input-25-dfe4ccc45710>:79: RuntimeWarning: invalid value encountered in long_scalars\n",
            "  pod = hit / (hit + miss)\n",
            "<ipython-input-25-dfe4ccc45710>:80: RuntimeWarning: invalid value encountered in long_scalars\n",
            "  far = falsealarm / (hit + falsealarm)\n",
            "04/26 09:00:20 PM | Epoch: 36/0.017---Train,0.001----Test,RMSE1.017,NRMSE0.0621,MAE0.921,R2-0.132,CSInan,PODnan,FARnan\n",
            "\n",
            "04/26 09:00:20 PM | Epoch: 36/0.017---Train,0.001----Test,RMSE1.017,NRMSE0.0621,MAE0.921,R2-0.132,CSInan,PODnan,FARnan\n",
            "\n",
            "04/26 09:00:20 PM | Epoch: 36/0.017---Train,0.001----Test,RMSE1.017,NRMSE0.0621,MAE0.921,R2-0.132,CSInan,PODnan,FARnan\n",
            "\n",
            "04/26 09:00:20 PM | Epoch: 36/0.017---Train,0.001----Test,RMSE1.017,NRMSE0.0621,MAE0.921,R2-0.132,CSInan,PODnan,FARnan\n",
            "\n",
            "04/26 09:00:20 PM | Epoch: 36/0.017---Train,0.001----Test,RMSE1.017,NRMSE0.0621,MAE0.921,R2-0.132,CSInan,PODnan,FARnan\n",
            "\n",
            "04/26 09:00:20 PM | Epoch: 36/0.017---Train,0.001----Test,RMSE1.017,NRMSE0.0621,MAE0.921,R2-0.132,CSInan,PODnan,FARnan\n",
            "\n",
            "04/26 09:00:20 PM | Epoch: 36/0.017---Train,0.001----Test,RMSE1.017,NRMSE0.0621,MAE0.921,R2-0.132,CSInan,PODnan,FARnan\n",
            "\n",
            "04/26 09:00:20 PM | Epoch: 36/0.017---Train,0.001----Test,RMSE1.017,NRMSE0.0621,MAE0.921,R2-0.132,CSInan,PODnan,FARnan\n",
            "\n",
            "INFO:gal:Epoch: 36/0.017---Train,0.001----Test,RMSE1.017,NRMSE0.0621,MAE0.921,R2-0.132,CSInan,PODnan,FARnan\n",
            "\n"
          ]
        },
        {
          "name": "stdout",
          "output_type": "stream",
          "text": [
            "rmse 1.0166703\n",
            "Save model: /content/drive/MyDrive/Results/16_8/SAGNN/20230426203428/00/36/model.pth\n",
            "Train loss: 0.0168, Test loss: 0.0008, RMSE: 1.02,NRMSE: 0.0621, MAE: 0.92,R2: -0.1317, CSI: nan, POD: nan, FAR: nan\n",
            "\n",
            "Train epoch 37:\n"
          ]
        },
        {
          "name": "stderr",
          "output_type": "stream",
          "text": [
            "0it [00:00, ?it/s]/usr/local/lib/python3.9/dist-packages/torch/amp/autocast_mode.py:204: UserWarning: User provided device_type of 'cuda', but CUDA is not available. Disabling\n",
            "  warnings.warn('User provided device_type of \\'cuda\\', but CUDA is not available. Disabling')\n",
            "73it [00:33,  2.17it/s]\n"
          ]
        },
        {
          "name": "stdout",
          "output_type": "stream",
          "text": [
            "train_loss: 0.0165\n"
          ]
        },
        {
          "name": "stderr",
          "output_type": "stream",
          "text": [
            "<ipython-input-25-dfe4ccc45710>:78: RuntimeWarning: invalid value encountered in long_scalars\n",
            "  csi = hit / (hit + falsealarm + miss)\n",
            "<ipython-input-25-dfe4ccc45710>:79: RuntimeWarning: invalid value encountered in long_scalars\n",
            "  pod = hit / (hit + miss)\n",
            "<ipython-input-25-dfe4ccc45710>:80: RuntimeWarning: invalid value encountered in long_scalars\n",
            "  far = falsealarm / (hit + falsealarm)\n",
            "04/26 09:00:57 PM | Epoch: 37/0.016---Train,0.001----Test,RMSE1.017,NRMSE0.0621,MAE0.921,R2-0.132,CSInan,PODnan,FARnan\n",
            "\n",
            "04/26 09:00:57 PM | Epoch: 37/0.016---Train,0.001----Test,RMSE1.017,NRMSE0.0621,MAE0.921,R2-0.132,CSInan,PODnan,FARnan\n",
            "\n",
            "04/26 09:00:57 PM | Epoch: 37/0.016---Train,0.001----Test,RMSE1.017,NRMSE0.0621,MAE0.921,R2-0.132,CSInan,PODnan,FARnan\n",
            "\n",
            "04/26 09:00:57 PM | Epoch: 37/0.016---Train,0.001----Test,RMSE1.017,NRMSE0.0621,MAE0.921,R2-0.132,CSInan,PODnan,FARnan\n",
            "\n",
            "04/26 09:00:57 PM | Epoch: 37/0.016---Train,0.001----Test,RMSE1.017,NRMSE0.0621,MAE0.921,R2-0.132,CSInan,PODnan,FARnan\n",
            "\n",
            "04/26 09:00:57 PM | Epoch: 37/0.016---Train,0.001----Test,RMSE1.017,NRMSE0.0621,MAE0.921,R2-0.132,CSInan,PODnan,FARnan\n",
            "\n",
            "04/26 09:00:57 PM | Epoch: 37/0.016---Train,0.001----Test,RMSE1.017,NRMSE0.0621,MAE0.921,R2-0.132,CSInan,PODnan,FARnan\n",
            "\n",
            "04/26 09:00:57 PM | Epoch: 37/0.016---Train,0.001----Test,RMSE1.017,NRMSE0.0621,MAE0.921,R2-0.132,CSInan,PODnan,FARnan\n",
            "\n",
            "INFO:gal:Epoch: 37/0.016---Train,0.001----Test,RMSE1.017,NRMSE0.0621,MAE0.921,R2-0.132,CSInan,PODnan,FARnan\n",
            "\n"
          ]
        },
        {
          "name": "stdout",
          "output_type": "stream",
          "text": [
            "rmse 1.0166703\n",
            "Save model: /content/drive/MyDrive/Results/16_8/SAGNN/20230426203428/00/37/model.pth\n",
            "Train loss: 0.0165, Test loss: 0.0007, RMSE: 1.02,NRMSE: 0.0621, MAE: 0.92,R2: -0.1317, CSI: nan, POD: nan, FAR: nan\n",
            "\n",
            "Train epoch 38:\n"
          ]
        },
        {
          "name": "stderr",
          "output_type": "stream",
          "text": [
            "0it [00:00, ?it/s]/usr/local/lib/python3.9/dist-packages/torch/amp/autocast_mode.py:204: UserWarning: User provided device_type of 'cuda', but CUDA is not available. Disabling\n",
            "  warnings.warn('User provided device_type of \\'cuda\\', but CUDA is not available. Disabling')\n",
            "73it [00:35,  2.08it/s]\n"
          ]
        },
        {
          "name": "stdout",
          "output_type": "stream",
          "text": [
            "train_loss: 0.0164\n"
          ]
        },
        {
          "name": "stderr",
          "output_type": "stream",
          "text": [
            "<ipython-input-25-dfe4ccc45710>:78: RuntimeWarning: invalid value encountered in long_scalars\n",
            "  csi = hit / (hit + falsealarm + miss)\n",
            "<ipython-input-25-dfe4ccc45710>:79: RuntimeWarning: invalid value encountered in long_scalars\n",
            "  pod = hit / (hit + miss)\n",
            "<ipython-input-25-dfe4ccc45710>:80: RuntimeWarning: invalid value encountered in long_scalars\n",
            "  far = falsealarm / (hit + falsealarm)\n",
            "04/26 09:01:35 PM | Epoch: 38/0.016---Train,0.001----Test,RMSE1.017,NRMSE0.0621,MAE0.921,R2-0.132,CSInan,PODnan,FARnan\n",
            "\n",
            "04/26 09:01:35 PM | Epoch: 38/0.016---Train,0.001----Test,RMSE1.017,NRMSE0.0621,MAE0.921,R2-0.132,CSInan,PODnan,FARnan\n",
            "\n",
            "04/26 09:01:35 PM | Epoch: 38/0.016---Train,0.001----Test,RMSE1.017,NRMSE0.0621,MAE0.921,R2-0.132,CSInan,PODnan,FARnan\n",
            "\n",
            "04/26 09:01:35 PM | Epoch: 38/0.016---Train,0.001----Test,RMSE1.017,NRMSE0.0621,MAE0.921,R2-0.132,CSInan,PODnan,FARnan\n",
            "\n",
            "04/26 09:01:35 PM | Epoch: 38/0.016---Train,0.001----Test,RMSE1.017,NRMSE0.0621,MAE0.921,R2-0.132,CSInan,PODnan,FARnan\n",
            "\n",
            "04/26 09:01:35 PM | Epoch: 38/0.016---Train,0.001----Test,RMSE1.017,NRMSE0.0621,MAE0.921,R2-0.132,CSInan,PODnan,FARnan\n",
            "\n",
            "04/26 09:01:35 PM | Epoch: 38/0.016---Train,0.001----Test,RMSE1.017,NRMSE0.0621,MAE0.921,R2-0.132,CSInan,PODnan,FARnan\n",
            "\n",
            "04/26 09:01:35 PM | Epoch: 38/0.016---Train,0.001----Test,RMSE1.017,NRMSE0.0621,MAE0.921,R2-0.132,CSInan,PODnan,FARnan\n",
            "\n",
            "INFO:gal:Epoch: 38/0.016---Train,0.001----Test,RMSE1.017,NRMSE0.0621,MAE0.921,R2-0.132,CSInan,PODnan,FARnan\n",
            "\n"
          ]
        },
        {
          "name": "stdout",
          "output_type": "stream",
          "text": [
            "rmse 1.0166703\n",
            "Save model: /content/drive/MyDrive/Results/16_8/SAGNN/20230426203428/00/38/model.pth\n",
            "Train loss: 0.0164, Test loss: 0.0009, RMSE: 1.02,NRMSE: 0.0621, MAE: 0.92,R2: -0.1317, CSI: nan, POD: nan, FAR: nan\n",
            "\n",
            "Train epoch 39:\n"
          ]
        },
        {
          "name": "stderr",
          "output_type": "stream",
          "text": [
            "0it [00:00, ?it/s]/usr/local/lib/python3.9/dist-packages/torch/amp/autocast_mode.py:204: UserWarning: User provided device_type of 'cuda', but CUDA is not available. Disabling\n",
            "  warnings.warn('User provided device_type of \\'cuda\\', but CUDA is not available. Disabling')\n",
            "73it [00:35,  2.05it/s]\n"
          ]
        },
        {
          "name": "stdout",
          "output_type": "stream",
          "text": [
            "train_loss: 0.0173\n"
          ]
        },
        {
          "name": "stderr",
          "output_type": "stream",
          "text": [
            "<ipython-input-25-dfe4ccc45710>:78: RuntimeWarning: invalid value encountered in long_scalars\n",
            "  csi = hit / (hit + falsealarm + miss)\n",
            "<ipython-input-25-dfe4ccc45710>:79: RuntimeWarning: invalid value encountered in long_scalars\n",
            "  pod = hit / (hit + miss)\n",
            "<ipython-input-25-dfe4ccc45710>:80: RuntimeWarning: invalid value encountered in long_scalars\n",
            "  far = falsealarm / (hit + falsealarm)\n",
            "04/26 09:02:15 PM | Epoch: 39/0.017---Train,0.001----Test,RMSE1.013,NRMSE0.0619,MAE0.918,R2-0.084,CSInan,PODnan,FARnan\n",
            "\n",
            "04/26 09:02:15 PM | Epoch: 39/0.017---Train,0.001----Test,RMSE1.013,NRMSE0.0619,MAE0.918,R2-0.084,CSInan,PODnan,FARnan\n",
            "\n",
            "04/26 09:02:15 PM | Epoch: 39/0.017---Train,0.001----Test,RMSE1.013,NRMSE0.0619,MAE0.918,R2-0.084,CSInan,PODnan,FARnan\n",
            "\n",
            "04/26 09:02:15 PM | Epoch: 39/0.017---Train,0.001----Test,RMSE1.013,NRMSE0.0619,MAE0.918,R2-0.084,CSInan,PODnan,FARnan\n",
            "\n",
            "04/26 09:02:15 PM | Epoch: 39/0.017---Train,0.001----Test,RMSE1.013,NRMSE0.0619,MAE0.918,R2-0.084,CSInan,PODnan,FARnan\n",
            "\n",
            "04/26 09:02:15 PM | Epoch: 39/0.017---Train,0.001----Test,RMSE1.013,NRMSE0.0619,MAE0.918,R2-0.084,CSInan,PODnan,FARnan\n",
            "\n",
            "04/26 09:02:15 PM | Epoch: 39/0.017---Train,0.001----Test,RMSE1.013,NRMSE0.0619,MAE0.918,R2-0.084,CSInan,PODnan,FARnan\n",
            "\n",
            "04/26 09:02:15 PM | Epoch: 39/0.017---Train,0.001----Test,RMSE1.013,NRMSE0.0619,MAE0.918,R2-0.084,CSInan,PODnan,FARnan\n",
            "\n",
            "INFO:gal:Epoch: 39/0.017---Train,0.001----Test,RMSE1.013,NRMSE0.0619,MAE0.918,R2-0.084,CSInan,PODnan,FARnan\n",
            "\n"
          ]
        },
        {
          "name": "stdout",
          "output_type": "stream",
          "text": [
            "rmse 1.0132627\n",
            "Save model: /content/drive/MyDrive/Results/16_8/SAGNN/20230426203428/00/39/model.pth\n",
            "Train loss: 0.0173, Test loss: 0.0007, RMSE: 1.01,NRMSE: 0.0619, MAE: 0.92,R2: -0.0836, CSI: nan, POD: nan, FAR: nan\n",
            "\n",
            "Train epoch 40:\n"
          ]
        },
        {
          "name": "stderr",
          "output_type": "stream",
          "text": [
            "0it [00:00, ?it/s]/usr/local/lib/python3.9/dist-packages/torch/amp/autocast_mode.py:204: UserWarning: User provided device_type of 'cuda', but CUDA is not available. Disabling\n",
            "  warnings.warn('User provided device_type of \\'cuda\\', but CUDA is not available. Disabling')\n",
            "73it [00:33,  2.15it/s]\n"
          ]
        },
        {
          "name": "stdout",
          "output_type": "stream",
          "text": [
            "train_loss: 0.0165\n"
          ]
        },
        {
          "name": "stderr",
          "output_type": "stream",
          "text": [
            "<ipython-input-25-dfe4ccc45710>:78: RuntimeWarning: invalid value encountered in long_scalars\n",
            "  csi = hit / (hit + falsealarm + miss)\n",
            "<ipython-input-25-dfe4ccc45710>:79: RuntimeWarning: invalid value encountered in long_scalars\n",
            "  pod = hit / (hit + miss)\n",
            "<ipython-input-25-dfe4ccc45710>:80: RuntimeWarning: invalid value encountered in long_scalars\n",
            "  far = falsealarm / (hit + falsealarm)\n",
            "04/26 09:02:53 PM | Epoch: 40/0.017---Train,0.001----Test,RMSE1.015,NRMSE0.0620,MAE0.919,R2-0.115,CSInan,PODnan,FARnan\n",
            "\n",
            "04/26 09:02:53 PM | Epoch: 40/0.017---Train,0.001----Test,RMSE1.015,NRMSE0.0620,MAE0.919,R2-0.115,CSInan,PODnan,FARnan\n",
            "\n",
            "04/26 09:02:53 PM | Epoch: 40/0.017---Train,0.001----Test,RMSE1.015,NRMSE0.0620,MAE0.919,R2-0.115,CSInan,PODnan,FARnan\n",
            "\n",
            "04/26 09:02:53 PM | Epoch: 40/0.017---Train,0.001----Test,RMSE1.015,NRMSE0.0620,MAE0.919,R2-0.115,CSInan,PODnan,FARnan\n",
            "\n",
            "04/26 09:02:53 PM | Epoch: 40/0.017---Train,0.001----Test,RMSE1.015,NRMSE0.0620,MAE0.919,R2-0.115,CSInan,PODnan,FARnan\n",
            "\n",
            "04/26 09:02:53 PM | Epoch: 40/0.017---Train,0.001----Test,RMSE1.015,NRMSE0.0620,MAE0.919,R2-0.115,CSInan,PODnan,FARnan\n",
            "\n",
            "04/26 09:02:53 PM | Epoch: 40/0.017---Train,0.001----Test,RMSE1.015,NRMSE0.0620,MAE0.919,R2-0.115,CSInan,PODnan,FARnan\n",
            "\n",
            "04/26 09:02:53 PM | Epoch: 40/0.017---Train,0.001----Test,RMSE1.015,NRMSE0.0620,MAE0.919,R2-0.115,CSInan,PODnan,FARnan\n",
            "\n",
            "INFO:gal:Epoch: 40/0.017---Train,0.001----Test,RMSE1.015,NRMSE0.0620,MAE0.919,R2-0.115,CSInan,PODnan,FARnan\n",
            "\n"
          ]
        },
        {
          "name": "stdout",
          "output_type": "stream",
          "text": [
            "rmse 1.0146277\n",
            "Save model: /content/drive/MyDrive/Results/16_8/SAGNN/20230426203428/00/40/model.pth\n",
            "Train loss: 0.0165, Test loss: 0.0007, RMSE: 1.01,NRMSE: 0.0620, MAE: 0.92,R2: -0.1150, CSI: nan, POD: nan, FAR: nan\n",
            "\n",
            "Train epoch 41:\n"
          ]
        },
        {
          "name": "stderr",
          "output_type": "stream",
          "text": [
            "0it [00:00, ?it/s]/usr/local/lib/python3.9/dist-packages/torch/amp/autocast_mode.py:204: UserWarning: User provided device_type of 'cuda', but CUDA is not available. Disabling\n",
            "  warnings.warn('User provided device_type of \\'cuda\\', but CUDA is not available. Disabling')\n",
            "73it [00:37,  1.93it/s]\n"
          ]
        },
        {
          "name": "stdout",
          "output_type": "stream",
          "text": [
            "train_loss: 0.0157\n"
          ]
        },
        {
          "name": "stderr",
          "output_type": "stream",
          "text": [
            "<ipython-input-25-dfe4ccc45710>:78: RuntimeWarning: invalid value encountered in long_scalars\n",
            "  csi = hit / (hit + falsealarm + miss)\n",
            "<ipython-input-25-dfe4ccc45710>:79: RuntimeWarning: invalid value encountered in long_scalars\n",
            "  pod = hit / (hit + miss)\n",
            "<ipython-input-25-dfe4ccc45710>:80: RuntimeWarning: invalid value encountered in long_scalars\n",
            "  far = falsealarm / (hit + falsealarm)\n",
            "04/26 09:03:34 PM | Epoch: 41/0.016---Train,0.001----Test,RMSE1.098,NRMSE0.0671,MAE1.007,R2-0.002,CSInan,PODnan,FARnan\n",
            "\n",
            "04/26 09:03:34 PM | Epoch: 41/0.016---Train,0.001----Test,RMSE1.098,NRMSE0.0671,MAE1.007,R2-0.002,CSInan,PODnan,FARnan\n",
            "\n",
            "04/26 09:03:34 PM | Epoch: 41/0.016---Train,0.001----Test,RMSE1.098,NRMSE0.0671,MAE1.007,R2-0.002,CSInan,PODnan,FARnan\n",
            "\n",
            "04/26 09:03:34 PM | Epoch: 41/0.016---Train,0.001----Test,RMSE1.098,NRMSE0.0671,MAE1.007,R2-0.002,CSInan,PODnan,FARnan\n",
            "\n",
            "04/26 09:03:34 PM | Epoch: 41/0.016---Train,0.001----Test,RMSE1.098,NRMSE0.0671,MAE1.007,R2-0.002,CSInan,PODnan,FARnan\n",
            "\n",
            "04/26 09:03:34 PM | Epoch: 41/0.016---Train,0.001----Test,RMSE1.098,NRMSE0.0671,MAE1.007,R2-0.002,CSInan,PODnan,FARnan\n",
            "\n",
            "04/26 09:03:34 PM | Epoch: 41/0.016---Train,0.001----Test,RMSE1.098,NRMSE0.0671,MAE1.007,R2-0.002,CSInan,PODnan,FARnan\n",
            "\n",
            "04/26 09:03:34 PM | Epoch: 41/0.016---Train,0.001----Test,RMSE1.098,NRMSE0.0671,MAE1.007,R2-0.002,CSInan,PODnan,FARnan\n",
            "\n",
            "INFO:gal:Epoch: 41/0.016---Train,0.001----Test,RMSE1.098,NRMSE0.0671,MAE1.007,R2-0.002,CSInan,PODnan,FARnan\n",
            "\n"
          ]
        },
        {
          "name": "stdout",
          "output_type": "stream",
          "text": [
            "rmse 1.0983832\n",
            "Save model: /content/drive/MyDrive/Results/16_8/SAGNN/20230426203428/00/41/model.pth\n",
            "Train loss: 0.0157, Test loss: 0.0007, RMSE: 1.10,NRMSE: 0.0671, MAE: 1.01,R2: -0.0018, CSI: nan, POD: nan, FAR: nan\n",
            "\n",
            "Train epoch 42:\n"
          ]
        },
        {
          "name": "stderr",
          "output_type": "stream",
          "text": [
            "0it [00:00, ?it/s]/usr/local/lib/python3.9/dist-packages/torch/amp/autocast_mode.py:204: UserWarning: User provided device_type of 'cuda', but CUDA is not available. Disabling\n",
            "  warnings.warn('User provided device_type of \\'cuda\\', but CUDA is not available. Disabling')\n",
            "73it [00:37,  1.95it/s]\n"
          ]
        },
        {
          "name": "stdout",
          "output_type": "stream",
          "text": [
            "train_loss: 0.0253\n"
          ]
        },
        {
          "name": "stderr",
          "output_type": "stream",
          "text": [
            "<ipython-input-25-dfe4ccc45710>:78: RuntimeWarning: invalid value encountered in long_scalars\n",
            "  csi = hit / (hit + falsealarm + miss)\n",
            "<ipython-input-25-dfe4ccc45710>:79: RuntimeWarning: invalid value encountered in long_scalars\n",
            "  pod = hit / (hit + miss)\n",
            "<ipython-input-25-dfe4ccc45710>:80: RuntimeWarning: invalid value encountered in long_scalars\n",
            "  far = falsealarm / (hit + falsealarm)\n",
            "04/26 09:04:14 PM | Epoch: 42/0.025---Train,0.008----Test,RMSE1.017,NRMSE0.0621,MAE0.921,R2-0.132,CSInan,PODnan,FARnan\n",
            "\n",
            "04/26 09:04:14 PM | Epoch: 42/0.025---Train,0.008----Test,RMSE1.017,NRMSE0.0621,MAE0.921,R2-0.132,CSInan,PODnan,FARnan\n",
            "\n",
            "04/26 09:04:14 PM | Epoch: 42/0.025---Train,0.008----Test,RMSE1.017,NRMSE0.0621,MAE0.921,R2-0.132,CSInan,PODnan,FARnan\n",
            "\n",
            "04/26 09:04:14 PM | Epoch: 42/0.025---Train,0.008----Test,RMSE1.017,NRMSE0.0621,MAE0.921,R2-0.132,CSInan,PODnan,FARnan\n",
            "\n",
            "04/26 09:04:14 PM | Epoch: 42/0.025---Train,0.008----Test,RMSE1.017,NRMSE0.0621,MAE0.921,R2-0.132,CSInan,PODnan,FARnan\n",
            "\n",
            "04/26 09:04:14 PM | Epoch: 42/0.025---Train,0.008----Test,RMSE1.017,NRMSE0.0621,MAE0.921,R2-0.132,CSInan,PODnan,FARnan\n",
            "\n",
            "04/26 09:04:14 PM | Epoch: 42/0.025---Train,0.008----Test,RMSE1.017,NRMSE0.0621,MAE0.921,R2-0.132,CSInan,PODnan,FARnan\n",
            "\n",
            "04/26 09:04:14 PM | Epoch: 42/0.025---Train,0.008----Test,RMSE1.017,NRMSE0.0621,MAE0.921,R2-0.132,CSInan,PODnan,FARnan\n",
            "\n",
            "INFO:gal:Epoch: 42/0.025---Train,0.008----Test,RMSE1.017,NRMSE0.0621,MAE0.921,R2-0.132,CSInan,PODnan,FARnan\n",
            "\n"
          ]
        },
        {
          "name": "stdout",
          "output_type": "stream",
          "text": [
            "rmse 1.0166703\n",
            "Save model: /content/drive/MyDrive/Results/16_8/SAGNN/20230426203428/00/42/model.pth\n",
            "Train loss: 0.0253, Test loss: 0.0078, RMSE: 1.02,NRMSE: 0.0621, MAE: 0.92,R2: -0.1317, CSI: nan, POD: nan, FAR: nan\n",
            "\n",
            "Train epoch 43:\n"
          ]
        },
        {
          "name": "stderr",
          "output_type": "stream",
          "text": [
            "0it [00:00, ?it/s]/usr/local/lib/python3.9/dist-packages/torch/amp/autocast_mode.py:204: UserWarning: User provided device_type of 'cuda', but CUDA is not available. Disabling\n",
            "  warnings.warn('User provided device_type of \\'cuda\\', but CUDA is not available. Disabling')\n",
            "73it [00:33,  2.19it/s]\n"
          ]
        },
        {
          "name": "stdout",
          "output_type": "stream",
          "text": [
            "train_loss: 0.0202\n"
          ]
        },
        {
          "name": "stderr",
          "output_type": "stream",
          "text": [
            "<ipython-input-25-dfe4ccc45710>:78: RuntimeWarning: invalid value encountered in long_scalars\n",
            "  csi = hit / (hit + falsealarm + miss)\n",
            "<ipython-input-25-dfe4ccc45710>:79: RuntimeWarning: invalid value encountered in long_scalars\n",
            "  pod = hit / (hit + miss)\n",
            "<ipython-input-25-dfe4ccc45710>:80: RuntimeWarning: invalid value encountered in long_scalars\n",
            "  far = falsealarm / (hit + falsealarm)\n",
            "04/26 09:04:52 PM | Epoch: 43/0.020---Train,0.001----Test,RMSE1.017,NRMSE0.0621,MAE0.921,R2-0.132,CSInan,PODnan,FARnan\n",
            "\n",
            "04/26 09:04:52 PM | Epoch: 43/0.020---Train,0.001----Test,RMSE1.017,NRMSE0.0621,MAE0.921,R2-0.132,CSInan,PODnan,FARnan\n",
            "\n",
            "04/26 09:04:52 PM | Epoch: 43/0.020---Train,0.001----Test,RMSE1.017,NRMSE0.0621,MAE0.921,R2-0.132,CSInan,PODnan,FARnan\n",
            "\n",
            "04/26 09:04:52 PM | Epoch: 43/0.020---Train,0.001----Test,RMSE1.017,NRMSE0.0621,MAE0.921,R2-0.132,CSInan,PODnan,FARnan\n",
            "\n",
            "04/26 09:04:52 PM | Epoch: 43/0.020---Train,0.001----Test,RMSE1.017,NRMSE0.0621,MAE0.921,R2-0.132,CSInan,PODnan,FARnan\n",
            "\n",
            "04/26 09:04:52 PM | Epoch: 43/0.020---Train,0.001----Test,RMSE1.017,NRMSE0.0621,MAE0.921,R2-0.132,CSInan,PODnan,FARnan\n",
            "\n",
            "04/26 09:04:52 PM | Epoch: 43/0.020---Train,0.001----Test,RMSE1.017,NRMSE0.0621,MAE0.921,R2-0.132,CSInan,PODnan,FARnan\n",
            "\n",
            "04/26 09:04:52 PM | Epoch: 43/0.020---Train,0.001----Test,RMSE1.017,NRMSE0.0621,MAE0.921,R2-0.132,CSInan,PODnan,FARnan\n",
            "\n",
            "INFO:gal:Epoch: 43/0.020---Train,0.001----Test,RMSE1.017,NRMSE0.0621,MAE0.921,R2-0.132,CSInan,PODnan,FARnan\n",
            "\n"
          ]
        },
        {
          "name": "stdout",
          "output_type": "stream",
          "text": [
            "rmse 1.0166703\n",
            "Save model: /content/drive/MyDrive/Results/16_8/SAGNN/20230426203428/00/43/model.pth\n",
            "Train loss: 0.0202, Test loss: 0.0009, RMSE: 1.02,NRMSE: 0.0621, MAE: 0.92,R2: -0.1317, CSI: nan, POD: nan, FAR: nan\n",
            "\n",
            "Train epoch 44:\n"
          ]
        },
        {
          "name": "stderr",
          "output_type": "stream",
          "text": [
            "0it [00:00, ?it/s]/usr/local/lib/python3.9/dist-packages/torch/amp/autocast_mode.py:204: UserWarning: User provided device_type of 'cuda', but CUDA is not available. Disabling\n",
            "  warnings.warn('User provided device_type of \\'cuda\\', but CUDA is not available. Disabling')\n",
            "73it [00:33,  2.19it/s]\n"
          ]
        },
        {
          "name": "stdout",
          "output_type": "stream",
          "text": [
            "train_loss: 0.0177\n"
          ]
        },
        {
          "name": "stderr",
          "output_type": "stream",
          "text": [
            "<ipython-input-25-dfe4ccc45710>:78: RuntimeWarning: invalid value encountered in long_scalars\n",
            "  csi = hit / (hit + falsealarm + miss)\n",
            "<ipython-input-25-dfe4ccc45710>:79: RuntimeWarning: invalid value encountered in long_scalars\n",
            "  pod = hit / (hit + miss)\n",
            "<ipython-input-25-dfe4ccc45710>:80: RuntimeWarning: invalid value encountered in long_scalars\n",
            "  far = falsealarm / (hit + falsealarm)\n",
            "04/26 09:05:29 PM | Epoch: 44/0.018---Train,0.001----Test,RMSE1.016,NRMSE0.0620,MAE0.921,R2-0.054,CSInan,PODnan,FARnan\n",
            "\n",
            "04/26 09:05:29 PM | Epoch: 44/0.018---Train,0.001----Test,RMSE1.016,NRMSE0.0620,MAE0.921,R2-0.054,CSInan,PODnan,FARnan\n",
            "\n",
            "04/26 09:05:29 PM | Epoch: 44/0.018---Train,0.001----Test,RMSE1.016,NRMSE0.0620,MAE0.921,R2-0.054,CSInan,PODnan,FARnan\n",
            "\n",
            "04/26 09:05:29 PM | Epoch: 44/0.018---Train,0.001----Test,RMSE1.016,NRMSE0.0620,MAE0.921,R2-0.054,CSInan,PODnan,FARnan\n",
            "\n",
            "04/26 09:05:29 PM | Epoch: 44/0.018---Train,0.001----Test,RMSE1.016,NRMSE0.0620,MAE0.921,R2-0.054,CSInan,PODnan,FARnan\n",
            "\n",
            "04/26 09:05:29 PM | Epoch: 44/0.018---Train,0.001----Test,RMSE1.016,NRMSE0.0620,MAE0.921,R2-0.054,CSInan,PODnan,FARnan\n",
            "\n",
            "04/26 09:05:29 PM | Epoch: 44/0.018---Train,0.001----Test,RMSE1.016,NRMSE0.0620,MAE0.921,R2-0.054,CSInan,PODnan,FARnan\n",
            "\n",
            "04/26 09:05:29 PM | Epoch: 44/0.018---Train,0.001----Test,RMSE1.016,NRMSE0.0620,MAE0.921,R2-0.054,CSInan,PODnan,FARnan\n",
            "\n",
            "INFO:gal:Epoch: 44/0.018---Train,0.001----Test,RMSE1.016,NRMSE0.0620,MAE0.921,R2-0.054,CSInan,PODnan,FARnan\n",
            "\n"
          ]
        },
        {
          "name": "stdout",
          "output_type": "stream",
          "text": [
            "rmse 1.0159961\n",
            "Save model: /content/drive/MyDrive/Results/16_8/SAGNN/20230426203428/00/44/model.pth\n",
            "Train loss: 0.0177, Test loss: 0.0007, RMSE: 1.02,NRMSE: 0.0620, MAE: 0.92,R2: -0.0544, CSI: nan, POD: nan, FAR: nan\n",
            "\n",
            "Train epoch 45:\n"
          ]
        },
        {
          "name": "stderr",
          "output_type": "stream",
          "text": [
            "0it [00:00, ?it/s]/usr/local/lib/python3.9/dist-packages/torch/amp/autocast_mode.py:204: UserWarning: User provided device_type of 'cuda', but CUDA is not available. Disabling\n",
            "  warnings.warn('User provided device_type of \\'cuda\\', but CUDA is not available. Disabling')\n",
            "73it [00:36,  2.03it/s]\n"
          ]
        },
        {
          "name": "stdout",
          "output_type": "stream",
          "text": [
            "train_loss: 0.0159\n"
          ]
        },
        {
          "name": "stderr",
          "output_type": "stream",
          "text": [
            "<ipython-input-25-dfe4ccc45710>:78: RuntimeWarning: invalid value encountered in long_scalars\n",
            "  csi = hit / (hit + falsealarm + miss)\n",
            "<ipython-input-25-dfe4ccc45710>:79: RuntimeWarning: invalid value encountered in long_scalars\n",
            "  pod = hit / (hit + miss)\n",
            "<ipython-input-25-dfe4ccc45710>:80: RuntimeWarning: invalid value encountered in long_scalars\n",
            "  far = falsealarm / (hit + falsealarm)\n",
            "04/26 09:06:09 PM | Epoch: 45/0.016---Train,0.001----Test,RMSE1.017,NRMSE0.0621,MAE0.921,R2-0.132,CSInan,PODnan,FARnan\n",
            "\n",
            "04/26 09:06:09 PM | Epoch: 45/0.016---Train,0.001----Test,RMSE1.017,NRMSE0.0621,MAE0.921,R2-0.132,CSInan,PODnan,FARnan\n",
            "\n",
            "04/26 09:06:09 PM | Epoch: 45/0.016---Train,0.001----Test,RMSE1.017,NRMSE0.0621,MAE0.921,R2-0.132,CSInan,PODnan,FARnan\n",
            "\n",
            "04/26 09:06:09 PM | Epoch: 45/0.016---Train,0.001----Test,RMSE1.017,NRMSE0.0621,MAE0.921,R2-0.132,CSInan,PODnan,FARnan\n",
            "\n",
            "04/26 09:06:09 PM | Epoch: 45/0.016---Train,0.001----Test,RMSE1.017,NRMSE0.0621,MAE0.921,R2-0.132,CSInan,PODnan,FARnan\n",
            "\n",
            "04/26 09:06:09 PM | Epoch: 45/0.016---Train,0.001----Test,RMSE1.017,NRMSE0.0621,MAE0.921,R2-0.132,CSInan,PODnan,FARnan\n",
            "\n",
            "04/26 09:06:09 PM | Epoch: 45/0.016---Train,0.001----Test,RMSE1.017,NRMSE0.0621,MAE0.921,R2-0.132,CSInan,PODnan,FARnan\n",
            "\n",
            "04/26 09:06:09 PM | Epoch: 45/0.016---Train,0.001----Test,RMSE1.017,NRMSE0.0621,MAE0.921,R2-0.132,CSInan,PODnan,FARnan\n",
            "\n",
            "INFO:gal:Epoch: 45/0.016---Train,0.001----Test,RMSE1.017,NRMSE0.0621,MAE0.921,R2-0.132,CSInan,PODnan,FARnan\n",
            "\n"
          ]
        },
        {
          "name": "stdout",
          "output_type": "stream",
          "text": [
            "rmse 1.0166703\n",
            "Save model: /content/drive/MyDrive/Results/16_8/SAGNN/20230426203428/00/45/model.pth\n",
            "Train loss: 0.0159, Test loss: 0.0008, RMSE: 1.02,NRMSE: 0.0621, MAE: 0.92,R2: -0.1317, CSI: nan, POD: nan, FAR: nan\n",
            "\n",
            "Train epoch 46:\n"
          ]
        },
        {
          "name": "stderr",
          "output_type": "stream",
          "text": [
            "\r0it [00:00, ?it/s]/usr/local/lib/python3.9/dist-packages/torch/amp/autocast_mode.py:204: UserWarning: User provided device_type of 'cuda', but CUDA is not available. Disabling\n",
            "  warnings.warn('User provided device_type of \\'cuda\\', but CUDA is not available. Disabling')\n",
            "73it [00:33,  2.18it/s]\n"
          ]
        },
        {
          "name": "stdout",
          "output_type": "stream",
          "text": [
            "train_loss: 0.0162\n"
          ]
        },
        {
          "name": "stderr",
          "output_type": "stream",
          "text": [
            "<ipython-input-25-dfe4ccc45710>:78: RuntimeWarning: invalid value encountered in long_scalars\n",
            "  csi = hit / (hit + falsealarm + miss)\n",
            "<ipython-input-25-dfe4ccc45710>:79: RuntimeWarning: invalid value encountered in long_scalars\n",
            "  pod = hit / (hit + miss)\n",
            "<ipython-input-25-dfe4ccc45710>:80: RuntimeWarning: invalid value encountered in long_scalars\n",
            "  far = falsealarm / (hit + falsealarm)\n",
            "04/26 09:06:46 PM | Epoch: 46/0.016---Train,0.001----Test,RMSE1.017,NRMSE0.0621,MAE0.921,R2-0.132,CSInan,PODnan,FARnan\n",
            "\n",
            "04/26 09:06:46 PM | Epoch: 46/0.016---Train,0.001----Test,RMSE1.017,NRMSE0.0621,MAE0.921,R2-0.132,CSInan,PODnan,FARnan\n",
            "\n",
            "04/26 09:06:46 PM | Epoch: 46/0.016---Train,0.001----Test,RMSE1.017,NRMSE0.0621,MAE0.921,R2-0.132,CSInan,PODnan,FARnan\n",
            "\n",
            "04/26 09:06:46 PM | Epoch: 46/0.016---Train,0.001----Test,RMSE1.017,NRMSE0.0621,MAE0.921,R2-0.132,CSInan,PODnan,FARnan\n",
            "\n",
            "04/26 09:06:46 PM | Epoch: 46/0.016---Train,0.001----Test,RMSE1.017,NRMSE0.0621,MAE0.921,R2-0.132,CSInan,PODnan,FARnan\n",
            "\n",
            "04/26 09:06:46 PM | Epoch: 46/0.016---Train,0.001----Test,RMSE1.017,NRMSE0.0621,MAE0.921,R2-0.132,CSInan,PODnan,FARnan\n",
            "\n",
            "04/26 09:06:46 PM | Epoch: 46/0.016---Train,0.001----Test,RMSE1.017,NRMSE0.0621,MAE0.921,R2-0.132,CSInan,PODnan,FARnan\n",
            "\n",
            "04/26 09:06:46 PM | Epoch: 46/0.016---Train,0.001----Test,RMSE1.017,NRMSE0.0621,MAE0.921,R2-0.132,CSInan,PODnan,FARnan\n",
            "\n",
            "INFO:gal:Epoch: 46/0.016---Train,0.001----Test,RMSE1.017,NRMSE0.0621,MAE0.921,R2-0.132,CSInan,PODnan,FARnan\n",
            "\n"
          ]
        },
        {
          "name": "stdout",
          "output_type": "stream",
          "text": [
            "rmse 1.0166703\n",
            "Save model: /content/drive/MyDrive/Results/16_8/SAGNN/20230426203428/00/46/model.pth\n",
            "Train loss: 0.0162, Test loss: 0.0011, RMSE: 1.02,NRMSE: 0.0621, MAE: 0.92,R2: -0.1317, CSI: nan, POD: nan, FAR: nan\n",
            "\n",
            "Train epoch 47:\n"
          ]
        },
        {
          "name": "stderr",
          "output_type": "stream",
          "text": [
            "\r0it [00:00, ?it/s]/usr/local/lib/python3.9/dist-packages/torch/amp/autocast_mode.py:204: UserWarning: User provided device_type of 'cuda', but CUDA is not available. Disabling\n",
            "  warnings.warn('User provided device_type of \\'cuda\\', but CUDA is not available. Disabling')\n",
            "73it [00:34,  2.13it/s]\n"
          ]
        },
        {
          "name": "stdout",
          "output_type": "stream",
          "text": [
            "train_loss: 0.0150\n"
          ]
        },
        {
          "name": "stderr",
          "output_type": "stream",
          "text": [
            "<ipython-input-25-dfe4ccc45710>:78: RuntimeWarning: invalid value encountered in long_scalars\n",
            "  csi = hit / (hit + falsealarm + miss)\n",
            "<ipython-input-25-dfe4ccc45710>:79: RuntimeWarning: invalid value encountered in long_scalars\n",
            "  pod = hit / (hit + miss)\n",
            "<ipython-input-25-dfe4ccc45710>:80: RuntimeWarning: invalid value encountered in long_scalars\n",
            "  far = falsealarm / (hit + falsealarm)\n",
            "04/26 09:07:24 PM | Epoch: 47/0.015---Train,0.002----Test,RMSE1.017,NRMSE0.0621,MAE0.921,R2-0.132,CSInan,PODnan,FARnan\n",
            "\n",
            "04/26 09:07:24 PM | Epoch: 47/0.015---Train,0.002----Test,RMSE1.017,NRMSE0.0621,MAE0.921,R2-0.132,CSInan,PODnan,FARnan\n",
            "\n",
            "04/26 09:07:24 PM | Epoch: 47/0.015---Train,0.002----Test,RMSE1.017,NRMSE0.0621,MAE0.921,R2-0.132,CSInan,PODnan,FARnan\n",
            "\n",
            "04/26 09:07:24 PM | Epoch: 47/0.015---Train,0.002----Test,RMSE1.017,NRMSE0.0621,MAE0.921,R2-0.132,CSInan,PODnan,FARnan\n",
            "\n",
            "04/26 09:07:24 PM | Epoch: 47/0.015---Train,0.002----Test,RMSE1.017,NRMSE0.0621,MAE0.921,R2-0.132,CSInan,PODnan,FARnan\n",
            "\n",
            "04/26 09:07:24 PM | Epoch: 47/0.015---Train,0.002----Test,RMSE1.017,NRMSE0.0621,MAE0.921,R2-0.132,CSInan,PODnan,FARnan\n",
            "\n",
            "04/26 09:07:24 PM | Epoch: 47/0.015---Train,0.002----Test,RMSE1.017,NRMSE0.0621,MAE0.921,R2-0.132,CSInan,PODnan,FARnan\n",
            "\n",
            "04/26 09:07:24 PM | Epoch: 47/0.015---Train,0.002----Test,RMSE1.017,NRMSE0.0621,MAE0.921,R2-0.132,CSInan,PODnan,FARnan\n",
            "\n",
            "INFO:gal:Epoch: 47/0.015---Train,0.002----Test,RMSE1.017,NRMSE0.0621,MAE0.921,R2-0.132,CSInan,PODnan,FARnan\n",
            "\n"
          ]
        },
        {
          "name": "stdout",
          "output_type": "stream",
          "text": [
            "rmse 1.0166703\n",
            "Save model: /content/drive/MyDrive/Results/16_8/SAGNN/20230426203428/00/47/model.pth\n",
            "Train loss: 0.0150, Test loss: 0.0021, RMSE: 1.02,NRMSE: 0.0621, MAE: 0.92,R2: -0.1317, CSI: nan, POD: nan, FAR: nan\n",
            "\n",
            "Train epoch 48:\n"
          ]
        },
        {
          "name": "stderr",
          "output_type": "stream",
          "text": [
            "\r0it [00:00, ?it/s]/usr/local/lib/python3.9/dist-packages/torch/amp/autocast_mode.py:204: UserWarning: User provided device_type of 'cuda', but CUDA is not available. Disabling\n",
            "  warnings.warn('User provided device_type of \\'cuda\\', but CUDA is not available. Disabling')\n",
            "73it [00:33,  2.20it/s]\n"
          ]
        },
        {
          "name": "stdout",
          "output_type": "stream",
          "text": [
            "train_loss: 0.0182\n"
          ]
        },
        {
          "name": "stderr",
          "output_type": "stream",
          "text": [
            "<ipython-input-25-dfe4ccc45710>:78: RuntimeWarning: invalid value encountered in long_scalars\n",
            "  csi = hit / (hit + falsealarm + miss)\n",
            "<ipython-input-25-dfe4ccc45710>:79: RuntimeWarning: invalid value encountered in long_scalars\n",
            "  pod = hit / (hit + miss)\n",
            "<ipython-input-25-dfe4ccc45710>:80: RuntimeWarning: invalid value encountered in long_scalars\n",
            "  far = falsealarm / (hit + falsealarm)\n",
            "04/26 09:08:01 PM | Epoch: 48/0.018---Train,0.001----Test,RMSE1.017,NRMSE0.0621,MAE0.921,R2-0.132,CSInan,PODnan,FARnan\n",
            "\n",
            "04/26 09:08:01 PM | Epoch: 48/0.018---Train,0.001----Test,RMSE1.017,NRMSE0.0621,MAE0.921,R2-0.132,CSInan,PODnan,FARnan\n",
            "\n",
            "04/26 09:08:01 PM | Epoch: 48/0.018---Train,0.001----Test,RMSE1.017,NRMSE0.0621,MAE0.921,R2-0.132,CSInan,PODnan,FARnan\n",
            "\n",
            "04/26 09:08:01 PM | Epoch: 48/0.018---Train,0.001----Test,RMSE1.017,NRMSE0.0621,MAE0.921,R2-0.132,CSInan,PODnan,FARnan\n",
            "\n",
            "04/26 09:08:01 PM | Epoch: 48/0.018---Train,0.001----Test,RMSE1.017,NRMSE0.0621,MAE0.921,R2-0.132,CSInan,PODnan,FARnan\n",
            "\n",
            "04/26 09:08:01 PM | Epoch: 48/0.018---Train,0.001----Test,RMSE1.017,NRMSE0.0621,MAE0.921,R2-0.132,CSInan,PODnan,FARnan\n",
            "\n",
            "04/26 09:08:01 PM | Epoch: 48/0.018---Train,0.001----Test,RMSE1.017,NRMSE0.0621,MAE0.921,R2-0.132,CSInan,PODnan,FARnan\n",
            "\n",
            "04/26 09:08:01 PM | Epoch: 48/0.018---Train,0.001----Test,RMSE1.017,NRMSE0.0621,MAE0.921,R2-0.132,CSInan,PODnan,FARnan\n",
            "\n",
            "INFO:gal:Epoch: 48/0.018---Train,0.001----Test,RMSE1.017,NRMSE0.0621,MAE0.921,R2-0.132,CSInan,PODnan,FARnan\n",
            "\n"
          ]
        },
        {
          "name": "stdout",
          "output_type": "stream",
          "text": [
            "rmse 1.0166703\n",
            "Save model: /content/drive/MyDrive/Results/16_8/SAGNN/20230426203428/00/48/model.pth\n",
            "Train loss: 0.0182, Test loss: 0.0008, RMSE: 1.02,NRMSE: 0.0621, MAE: 0.92,R2: -0.1317, CSI: nan, POD: nan, FAR: nan\n",
            "\n",
            "Train epoch 49:\n"
          ]
        },
        {
          "name": "stderr",
          "output_type": "stream",
          "text": [
            "\r0it [00:00, ?it/s]/usr/local/lib/python3.9/dist-packages/torch/amp/autocast_mode.py:204: UserWarning: User provided device_type of 'cuda', but CUDA is not available. Disabling\n",
            "  warnings.warn('User provided device_type of \\'cuda\\', but CUDA is not available. Disabling')\n",
            "73it [00:32,  2.23it/s]\n"
          ]
        },
        {
          "name": "stdout",
          "output_type": "stream",
          "text": [
            "train_loss: 0.0260\n"
          ]
        },
        {
          "name": "stderr",
          "output_type": "stream",
          "text": [
            "<ipython-input-25-dfe4ccc45710>:78: RuntimeWarning: invalid value encountered in long_scalars\n",
            "  csi = hit / (hit + falsealarm + miss)\n",
            "<ipython-input-25-dfe4ccc45710>:79: RuntimeWarning: invalid value encountered in long_scalars\n",
            "  pod = hit / (hit + miss)\n",
            "<ipython-input-25-dfe4ccc45710>:80: RuntimeWarning: invalid value encountered in long_scalars\n",
            "  far = falsealarm / (hit + falsealarm)\n",
            "04/26 09:08:37 PM | Epoch: 49/0.026---Train,0.001----Test,RMSE1.017,NRMSE0.0621,MAE0.921,R2-0.132,CSInan,PODnan,FARnan\n",
            "\n",
            "04/26 09:08:37 PM | Epoch: 49/0.026---Train,0.001----Test,RMSE1.017,NRMSE0.0621,MAE0.921,R2-0.132,CSInan,PODnan,FARnan\n",
            "\n",
            "04/26 09:08:37 PM | Epoch: 49/0.026---Train,0.001----Test,RMSE1.017,NRMSE0.0621,MAE0.921,R2-0.132,CSInan,PODnan,FARnan\n",
            "\n",
            "04/26 09:08:37 PM | Epoch: 49/0.026---Train,0.001----Test,RMSE1.017,NRMSE0.0621,MAE0.921,R2-0.132,CSInan,PODnan,FARnan\n",
            "\n",
            "04/26 09:08:37 PM | Epoch: 49/0.026---Train,0.001----Test,RMSE1.017,NRMSE0.0621,MAE0.921,R2-0.132,CSInan,PODnan,FARnan\n",
            "\n",
            "04/26 09:08:37 PM | Epoch: 49/0.026---Train,0.001----Test,RMSE1.017,NRMSE0.0621,MAE0.921,R2-0.132,CSInan,PODnan,FARnan\n",
            "\n",
            "04/26 09:08:37 PM | Epoch: 49/0.026---Train,0.001----Test,RMSE1.017,NRMSE0.0621,MAE0.921,R2-0.132,CSInan,PODnan,FARnan\n",
            "\n",
            "04/26 09:08:37 PM | Epoch: 49/0.026---Train,0.001----Test,RMSE1.017,NRMSE0.0621,MAE0.921,R2-0.132,CSInan,PODnan,FARnan\n",
            "\n",
            "INFO:gal:Epoch: 49/0.026---Train,0.001----Test,RMSE1.017,NRMSE0.0621,MAE0.921,R2-0.132,CSInan,PODnan,FARnan\n",
            "\n"
          ]
        },
        {
          "name": "stdout",
          "output_type": "stream",
          "text": [
            "rmse 1.0166703\n",
            "Save model: /content/drive/MyDrive/Results/16_8/SAGNN/20230426203428/00/49/model.pth\n",
            "Train loss: 0.0260, Test loss: 0.0008, RMSE: 1.02,NRMSE: 0.0621, MAE: 0.92,R2: -0.1317, CSI: nan, POD: nan, FAR: nan\n",
            "\n",
            "No. 0 experiment results:\n",
            "Train loss: 0.0260, Test loss: 0.0008, RMSE: 1.02, NRMSE:0.06 ,MAE: 0.92, R2: -0.13, CSI: nan, POD: nan, FAR: nan\n",
            "=========================\n",
            "\n",
            "---------------------------------------\n",
            "train_loss | mean: 0.0260 std: 0.0000\n",
            "test_loss  | mean: 0.0008 std: 0.0000\n",
            "RMSE       | mean: 1.0167 std: 0.0000\n",
            "MAE        | mean: 0.9214 std: 0.0000\n",
            "CSI        | mean: nan std: nan\n",
            "POD        | mean: nan std: nan\n",
            "FAR        | mean: nan std: nan\n",
            "learningRate... 0.0015weight_decay 0.0001\n",
            "GRU(\n",
            "  (fc_in): Linear(in_features=9, out_features=32, bias=True)\n",
            "  (fc_out): Linear(in_features=32, out_features=1, bias=True)\n",
            "  (gru_cell): GRUCell(\n",
            "    (x2h): Linear(in_features=32, out_features=96, bias=True)\n",
            "    (h2h): Linear(in_features=32, out_features=96, bias=True)\n",
            "  )\n",
            ")\n",
            "/content/drive/MyDrive/Results/16_8/SAGNN/20230426203428/metric.txt\n"
          ]
        }
      ],
      "source": [
        "#@title Training_module\n",
        "import logging\n",
        "lr = 0.0015 #@param {type:\"number\"}\n",
        "#in_dim_lstm = 9\n",
        "#in_dim_temp_gru = 32 #@param {type:\"number\"}\n",
        "#in_dim_gnn_gru = 25 #@param {type:\"number\"}\n",
        "weight_decay = 0.0001 #@param {type:\"number\"}\n",
        "exp_repeat = 1 #@param {type:\"number\"}\n",
        "epochs = 50 #@param {type:\"number\"}\n",
        "in_dim = 9 #@param {type:\"number\"}\n",
        "#save_numpy = True #@param {type:\"raw\"}\n",
        "def get_logger(file_path):\n",
        "\n",
        "        logger = logging.getLogger('gal')\n",
        "        log_format = '%(asctime)s | %(message)s'\n",
        "        formatter = logging.Formatter(log_format, datefmt='%m/%d %I:%M:%S %p')\n",
        "        file_handler = logging.FileHandler(file_path)\n",
        "        file_handler.setFormatter(formatter)\n",
        "        stream_handler = logging.StreamHandler()\n",
        "        stream_handler.setFormatter(formatter)\n",
        "\n",
        "        logger.addHandler(file_handler)\n",
        "        logger.addHandler(stream_handler)\n",
        "        logger.setLevel(logging.INFO)\n",
        "        return logger\n",
        "torch.set_num_threads(1)\n",
        "use_cuda = torch.cuda.is_available()\n",
        "device = torch.device('cuda' if use_cuda else 'cpu')\n",
        " \n",
        "# graph = Graph()\n",
        "#city_num = graph.node_num\n",
        "# s=np.concatenate((Cluster0,Cluster1,Cluster2),axis=1)\n",
        "# s=np.squeeze(s)\n",
        "# ss=np.argsort(s)\n",
        "batch_size = 32\n",
        "#epochs = 50\n",
        "\n",
        "gradient_accumulations = 4\n",
        "scaler = GradScaler()\n",
        "hist_len = 16\n",
        "pred_len = 8\n",
        "#weight_decay = 0.0001\n",
        "early_stop = 5\n",
        "#lr = 0.0015\n",
        "#in_dim_temp_gru=32\n",
        "#in_dim_gnn_gru=25\n",
        "results_dir = \"/content/drive/MyDrive/Results\"\n",
        "dataset_num = 1\n",
        "# exp_model = 'PM25_GNN'\n",
        "# model= PM25_GNN\n",
        "#exp_repeat = 5\n",
        "save_npy = True\n",
        "criterion = nn.MSELoss()\n",
        " \n",
        "# print(config['dataset'][3]['train_start'])\n",
        "# print('**************************')\n",
        "# train_data = HazeData(graph, hist_len, pred_len, dataset_num, flag='Train')\n",
        "# # val_data = HazeData(graph, hist_len, pred_len, dataset_num, flag='Val')\n",
        "# test_data = HazeData(graph, hist_len, pred_len, dataset_num, flag='Test')\n",
        "#in_dim = 14\n",
        "#wind_mean, wind_std = train_data.wind_mean, train_data.wind_std\n",
        "pm25_mean, pm25_std = train_data.pm25_mean, train_data.pm25_std\n",
        "# print(\"wndmn\",wind_mean.shape)\n",
        " \n",
        "def get_metric(predict_epoch, label_epoch):\n",
        "    haze_threshold = 60\n",
        "    predict_epoch=predict_epoch[:,hist_len:]\n",
        "    label_epoch=label_epoch[:,hist_len:]\n",
        "    # print(\"pred\",predict_epoch.shape)\n",
        "    # print(\"lab\",label_epoch.shape)\n",
        "    predict_haze = predict_epoch >= haze_threshold\n",
        "    predict_clear = predict_epoch < haze_threshold\n",
        "    label_haze = label_epoch >= haze_threshold\n",
        "    label_clear = label_epoch < haze_threshold\n",
        "    hit = np.sum(np.logical_and(predict_haze, label_haze))\n",
        "    miss = np.sum(np.logical_and(label_haze, predict_clear))\n",
        "    falsealarm = np.sum(np.logical_and(predict_haze, label_clear))\n",
        "    csi = hit / (hit + falsealarm + miss)\n",
        "    \n",
        "    pod = hit / (hit + miss)\n",
        "    far = falsealarm / (hit + falsealarm)\n",
        "    # predict = predict_epoch[:,:,:,0].transpose((0,2,1))\n",
        "    # label = label_epoch[:,:,:,0].transpose((0,2,1))\n",
        "    # predict = predict.reshape((-1, predict.shape[-1]))\n",
        "    # label = label.reshape((-1, label.shape[-1]))\n",
        "    #print(\"pred\",predict_epoch.shape)\n",
        "    #print(\"lab\",label_epoch.shape)\n",
        "    #print(\"pred\",predict_epoch)\n",
        "    mae = np.mean(np.mean(np.abs(predict_epoch - label_epoch), axis=1))\n",
        "    rmse = np.mean(np.sqrt(np.mean(np.square(predict_epoch - label_epoch), axis=1)))\n",
        "    predict_epoch=np.ndarray.flatten(predict_epoch)\n",
        "    label_epoch=np.ndarray.flatten(label_epoch)\n",
        "    max=np.ndarray.max(label_epoch)\n",
        "    min=np.ndarray.min(label_epoch)\n",
        "    nrmse=rmse/(max-min)\n",
        "    # print(\"dsff\",predict_epoch.shape)\n",
        "    # mape = np.mean(np.abs((predict_epoch - label_epoch)/label_epoch), axis=1)\n",
        "    r2=r2_score(label_epoch,predict_epoch)\n",
        "    return rmse, nrmse, mae,r2, csi, pod, far\n",
        "\n",
        "def count_parameters(model):\n",
        "    table = PrettyTable([\"Modules\", \"Parameters\"])\n",
        "    total_params = 0\n",
        "    for name, parameter in model.named_parameters():\n",
        "        if not parameter.requires_grad: continue\n",
        "        param = parameter.numel()\n",
        "        table.add_row([name, param])\n",
        "        total_params+=param\n",
        "    print(table)\n",
        "    print(f\"Total Trainable Params: {total_params}\")\n",
        "    return total_params\n",
        "# def get_exp_info():\n",
        "#     exp_info =  '============== Train Info ==============\\n' + \\\n",
        "#                 'Dataset number: %s\\n' % dataset_num + \\\n",
        "#                 'Train: %s --> %s\\n' % (train_data.start_time, train_data.end_time) + \\\n",
        "#                 'Val: %s --> %s\\n' % (val_data.start_time, val_data.end_time) + \\\n",
        "#                 'Test: %s --> %s\\n' % (test_data.start_time, test_data.end_time) + \\\n",
        "#                 'City number: %s\\n' % city_num + \\\n",
        "#                 'Use metero: %s\\n' % config['experiments']['metero_use'] + \\\n",
        "#                 'batch_size: %s\\n' % batch_size + \\\n",
        "#                 'epochs: %s\\n' % epochs + \\\n",
        "#                 'hist_len: %s\\n' % hist_len + \\\n",
        "#                 'pred_len: %s\\n' % pred_len + \\\n",
        "#                 'weight_decay: %s\\n' % weight_decay + \\\n",
        "#                 'early_stop: %s\\n' % early_stop + \\\n",
        "#                 'lr: %s\\n' % lr + \\\n",
        "#                 '========================================\\n'\n",
        "#     return exp_info\n",
        " \n",
        " \n",
        "# def get_model():\n",
        "#     if exp_model == 'MLP':\n",
        "#         return MLP(hist_len, pred_len, in_dim)\n",
        "#     elif exp_model == 'LSTM':\n",
        "#         return LSTM(hist_len, pred_len, in_dim, city_num, batch_size, device)\n",
        "#     elif exp_model == 'GRU':\n",
        "#         return GRU(hist_len, pred_len, in_dim, city_num, batch_size, device)\n",
        "#     elif exp_model == 'nodesFC_GRU':\n",
        "#         return nodesFC_GRU(hist_len, pred_len, in_dim, city_num, batch_size, device)\n",
        "#     elif exp_model == 'GC_LSTM':\n",
        "#         return GC_LSTM(hist_len, pred_len, in_dim, city_num, batch_size, device, graph.edge_index)\n",
        "#     elif exp_model == 'PM25_GNN':\n",
        "#         return PM25_GNN(hist_len, pred_len, in_dim, city_num, batch_size, device, graph.edge_index, graph.edge_attr, wind_mean, wind_std)\n",
        "#     elif exp_model == 'PM25_GNN_nosub':\n",
        "#         return PM25_GNN_nosub(hist_len, pred_len, in_dim, city_num, batch_size, device, graph.edge_index, graph.edge_attr, wind_mean, wind_std)\n",
        "#     else:\n",
        "#         raise Exception('Wrong model name!')\n",
        " \n",
        " \n",
        "def train(train_loader, model, optimizer):\n",
        "    model.train()\n",
        "    train_loss = 0\n",
        "    for batch_idx, data in tqdm(enumerate(train_loader)):\n",
        "        pm25, feature, time_arr = data\n",
        "        # print(\"training\",pm25.shape)\n",
        "        #print(\"featingdtype\",feature.shape)\n",
        "        pm25 = pm25.to(device)\n",
        "        feature = feature.to(device)\n",
        "        pm25_label = pm25[:, hist_len:]\n",
        "        pm25_hist = pm25[:, :hist_len]\n",
        "        with autocast():\n",
        "             pm25_pred = model(pm25_hist, feature)\n",
        "             #print(\"pred\",pm25_pred.shape)\n",
        "             #print(\"label\",pm25_label.shape)\n",
        "             loss = criterion(pm25_pred, pm25_label)\n",
        "            #  loss2 = criterion(pred_gru, pm25_label) \n",
        "            #  loss=loss1+loss2\n",
        "        # l2_lambda = 0.01\n",
        "        # l2_reg = torch.tensor(0.).to(device)\n",
        "        # for param in model.parameters():\n",
        "        #     l2_reg += torch.norm(param)\n",
        "        # loss += l2_lambda * l2_reg\n",
        "        L1_reg = torch.tensor(0., requires_grad=True)\n",
        "        for name, param in model.named_parameters():\n",
        "           if 'weight' in name:\n",
        "              L1_reg = L1_reg + torch.norm(param, 1)\n",
        "\n",
        "        loss = loss + 10e-4 * L1_reg     \n",
        "        scaler.scale(loss / gradient_accumulations).backward()\n",
        "        optimizer.step()\n",
        "        if (batch_idx + 1) % gradient_accumulations == 0:\n",
        "              scaler.step(optimizer)\n",
        "              scaler.update()\n",
        "              optimizer.zero_grad()\n",
        "        train_loss += loss.item()\n",
        "    train_loss /= batch_idx + 1\n",
        "    return train_loss\n",
        " \n",
        " \n",
        " \n",
        " \n",
        "def test(test_loader, model):\n",
        "    model.eval()\n",
        "    predict_list = []\n",
        "    label_list = []\n",
        "    time_list = []\n",
        "    test_loss = 0\n",
        "    for batch_idx, data in enumerate(test_loader):\n",
        "        pm25, feature, time_arr = data\n",
        "        pm25 = pm25.to(device)\n",
        "        feature = feature.to(device)\n",
        "        pm25_label = pm25[:, hist_len:]\n",
        "        pm25_hist = pm25[:, :hist_len]\n",
        "        pm25_pred = model(pm25_hist, feature)\n",
        "        loss = criterion(pm25_pred, pm25_label)\n",
        "        # loss2 = criterion(pred_gru, pm25_label) \n",
        "        # loss=loss1+loss2\n",
        "        test_loss += loss.item()\n",
        " \n",
        "        pm25_pred_val = np.concatenate([pm25_hist.cpu().detach().numpy(), pm25_pred.cpu().detach().numpy()], axis=1) * pm25_std + pm25_mean\n",
        "        pm25_label_val = pm25.cpu().detach().numpy() * pm25_std + pm25_mean\n",
        "        predict_list.append(pm25_pred_val)\n",
        "        label_list.append(pm25_label_val)\n",
        "        time_list.append(time_arr.cpu().detach().numpy())\n",
        " \n",
        "    test_loss /= batch_idx + 1\n",
        " \n",
        "    predict_epoch = np.concatenate(predict_list, axis=0)\n",
        "    label_epoch = np.concatenate(label_list, axis=0)\n",
        "    time_epoch = np.concatenate(time_list, axis=0)\n",
        "    predict_epoch[predict_epoch < 0] = 0\n",
        " \n",
        "    return test_loss, predict_epoch, label_epoch, time_epoch\n",
        " \n",
        " \n",
        "def get_mean_std(data_list):\n",
        "    data = np.asarray(data_list)\n",
        "    return data.mean(), data.std()\n",
        " \n",
        " \n",
        "def main():\n",
        "    # exp_info = get_exp_info()\n",
        "    # print(exp_info)\n",
        " \n",
        "    exp_time = arrow.now().format('YYYYMMDDHHmmss')\n",
        " \n",
        "    train_loss_list, val_loss_list, test_loss_list, rmse_list, mae_list, csi_list, pod_list, far_list = [], [], [], [], [], [], [], []\n",
        " \n",
        "    for exp_idx in range(exp_repeat):\n",
        "        print('\\nNo.%2d experiment ~~~' % exp_idx)\n",
        " \n",
        "        train_loader = torch.utils.data.DataLoader(train_data, batch_size=batch_size, shuffle=True, drop_last=True)\n",
        "        #val_loader = torch.utils.data.DataLoader(val_data, batch_size=batch_size, shuffle=False, drop_last=True)\n",
        "        test_loader = torch.utils.data.DataLoader(test_data, batch_size=batch_size, shuffle=False, drop_last=True)\n",
        " \n",
        "        model= GRU(hist_len, pred_len, in_dim, 266, batch_size, device)\n",
        "        # model.load_state_dict(torch.load('/content/drive/MyDrive/Delhi_Model_Results/16_8/1/PM25GNN/20220103040118/00/13/model.pth'))\n",
        "        # model.eval()\n",
        "        model=model.to(device)\n",
        "        print(str(model))\n",
        "        count_parameters(model)\n",
        "        #optimizer = torch.optim.Adam(model.parameters(), lr=0.0015)\n",
        "        optimizer = torch.optim.RMSprop(model.parameters(), lr=lr, weight_decay=weight_decay)\n",
        " \n",
        "        #exp_model_dir = os.path.join(results_dir, '%s_%s' % (hist_len, pred_len), str(dataset_num), 'PM25GNN', str(exp_time), '%02d' % exp_idx)\n",
        "        exp_model_dir = os.path.join(results_dir, '%s_%s' % (hist_len, pred_len), 'SAGNN', str(exp_time), '%02d' % exp_idx)\n",
        "\n",
        "        # if not os.path.exists(exp_model_dir):\n",
        "        #     os.makedirs(exp_model_dir)\n",
        "        # model_fp = os.path.join(exp_model_dir, 'model.pth')\n",
        "        logger=get_logger(results_dir+'%02d'% exp_idx +'logger_SAGNN.log')\n",
        " \n",
        "        val_loss_min = 100000\n",
        "        best_epoch = 0\n",
        " \n",
        "        # train_loss_, val_loss_ = 0, 0\n",
        "        train_loss_=0\n",
        "        epoch_rmse=[]\n",
        "        epoch_mae=[]\n",
        "        epoch_nrmse=[]\n",
        "        epoch_r2=[]\n",
        "        epoch_csi=[]\n",
        "        epoch_pod=[]\n",
        "        epoch_far=[]\n",
        "        TrainLoss=[]\n",
        "        TestLoss=[]\n",
        " \n",
        "        for epoch in range(epochs):\n",
        "            print('\\nTrain epoch %s:' % (epoch))\n",
        " \n",
        "            train_loss = train(train_loader, model, optimizer)\n",
        "            # val_loss = val(val_loader, model)\n",
        " \n",
        "            print('train_loss: %.4f' % train_loss)\n",
        "            # print('val_loss: %.4f' % val_loss)\n",
        "             \n",
        "            test_loss, predict_epoch, label_epoch, time_epoch = test(test_loader, model)\n",
        "                # print(test_loss,'#######################################')\n",
        "            # train_loss_, val_loss_ = train_loss, val_loss\n",
        "            train_loss_=  train_loss\n",
        "            rmse, nrmse,mae,r2,csi, pod, far = get_metric(predict_epoch, label_epoch)\n",
        "            \n",
        "            print(\"rmse\",rmse)\n",
        "            epoch_rmse.append(rmse)\n",
        "            epoch_mae.append(mae)\n",
        "            epoch_nrmse.append(nrmse)\n",
        "            epoch_r2.append(r2)\n",
        "            epoch_csi.append(csi)\n",
        "            epoch_pod.append(pod)\n",
        "            epoch_far.append(far)\n",
        "            TrainLoss.append(train_loss)\n",
        "            TestLoss.append(test_loss)\n",
        "            # if epoch - best_epoch > early_stop:\n",
        "            #     break\n",
        " \n",
        "            # if rmse < val_loss_min:\n",
        "            # val_loss_min = rmse\n",
        "            best_epoch = epoch\n",
        "            exp_model_dir1= os.path.join(exp_model_dir,str(epoch))\n",
        "            if not os.path.exists(exp_model_dir1):\n",
        "                os.makedirs(exp_model_dir1)\n",
        "            model_fp = os.path.join(exp_model_dir1, 'model.pth')\n",
        "            # print('Minimum val loss!!!')\n",
        "            torch.save(model.state_dict(), model_fp)\n",
        "                # print('!!!!!!!!!!!!!!!!!!!!!!!!!!!!!!!!!!!!!!!!!!!!!!')\n",
        "            print('Save model: %s' % model_fp)\n",
        "\n",
        "            # print('Train loss: %0.4f, Val loss: %0.4f, Test loss: %0.4f, RMSE: %0.2f, MAE: %0.2f,R2: %0.4f, CSI: %0.4f, POD: %0.4f, FAR: %0.4f' % (train_loss_, val_loss_, test_loss, rmse, mae,r2, csi, pod, far))\n",
        "            print('Train loss: %0.4f, Test loss: %0.4f, RMSE: %0.2f,NRMSE: %0.4f, MAE: %0.2f,R2: %0.4f, CSI: %0.4f, POD: %0.4f, FAR: %0.4f' % (train_loss_, test_loss, rmse,nrmse, mae,r2, csi, pod, far))\n",
        "            logger.info('Epoch: {}/{:.3f}---Train,{:.3f}----Test,RMSE{:.3f},NRMSE{:.4f},MAE{:.3f},R2{:.3f},CSI{:.3f},POD{:.3f},FAR{:.3f}\\n'.format(epoch,train_loss_,test_loss,rmse,nrmse,mae,r2,csi,pod,far))\n",
        "\n",
        "            if save_npy:\n",
        "                np.save(os.path.join(exp_model_dir1, 'predict.npy'), predict_epoch)\n",
        "                np.save(os.path.join(exp_model_dir1, 'label.npy'), label_epoch)\n",
        "                np.save(os.path.join(exp_model_dir1, 'time.npy'), time_epoch)\n",
        "        #if save_npy:\n",
        "        np.save(os.path.join(exp_model_dir, 'epoch_rmse.npy'), np.array(epoch_rmse))\n",
        "        np.save(os.path.join(exp_model_dir, 'epoch_mae.npy'), np.array(epoch_mae))\n",
        "        np.save(os.path.join(exp_model_dir, 'epoch_nrmse.npy'), np.array(epoch_nrmse))\n",
        "        np.save(os.path.join(exp_model_dir, 'epoch_r2.npy'), np.array(epoch_r2))\n",
        "        np.save(os.path.join(exp_model_dir, 'epoch_csi.npy'), np.array(epoch_csi))\n",
        "        np.save(os.path.join(exp_model_dir, 'epoch_pod.npy'), np.array(epoch_pod))\n",
        "        np.save(os.path.join(exp_model_dir, 'epoch_far.npy'), np.array(epoch_far))\n",
        "        np.save(os.path.join(exp_model_dir, 'epoch_trainloss.npy'), np.array(TrainLoss))\n",
        "        np.save(os.path.join(exp_model_dir, 'epoch_testloss.npy'), np.array(TestLoss))\n",
        "      #test_loss=val_loss_\n",
        "        train_loss_list.append(train_loss_)\n",
        "        # val_loss_list.append(val_loss_)\n",
        "        test_loss_list.append(test_loss)\n",
        "        rmse_list.append(rmse)\n",
        "        mae_list.append(mae)\n",
        "        csi_list.append(csi)\n",
        "        pod_list.append(pod)\n",
        "        far_list.append(far)\n",
        "        #if save_npy: \n",
        "        np.save(os.path.join(exp_model_dir, 'trainlosslist.npy'), np.array(train_loss_list))\n",
        "        np.save(os.path.join(exp_model_dir, 'test_loss_list.npy'), np.array(test_loss_list))\n",
        "        np.save(os.path.join(exp_model_dir, 'rmse_list.npy'), np.array(rmse_list))\n",
        "        np.save(os.path.join(exp_model_dir, 'mae_list.npy'), np.array(mae_list))\n",
        "        np.save(os.path.join(exp_model_dir, 'csi_list.npy'), np.array(csi_list))\n",
        "        np.save(os.path.join(exp_model_dir, 'pod_list.npy'), np.array(pod_list))\n",
        "        np.save(os.path.join(exp_model_dir, 'far_list.npy'), np.array(far_list))\n",
        "        # plot1=plt.figure(1)\n",
        "        # plt.plot(epoch_rmse, label='RMSE')\n",
        "        # plt.xlabel('Epochs')\n",
        "        # plt.ylabel('RMSE(in μg/m3)')\n",
        "        # file='RMSE.pdf'\n",
        "        # plt.savefig(os.path.join(exp_model_dir1,file))\n",
        "        # plt.clf()\n",
        "        # plot2=plt.figure(2)\n",
        "        # plt.plot(epoch_mae, label='MAE')\n",
        "        # plt.xlabel('Epochs')\n",
        "        # plt.ylabel('MAE(in μg/m3)')\n",
        "        # file='MAE.pdf'\n",
        "        # plt.savefig(os.path.join(exp_model_dir1,file))\n",
        "        # plt.clf()\n",
        "        # plot3=plt.figure(3)\n",
        "        # plt.plot(epoch_rmse, label='RMSE')\n",
        "        # plt.plot(epoch_mae, label='MAE')\n",
        "        # plt.xlabel('Epochs')\n",
        "        # plt.ylabel('(in μg/m3)')\n",
        "        # file='RMSE-MAE.pdf'\n",
        "        # plt.savefig(os.path.join(exp_model_dir1,file))\n",
        "        # plt.clf()\n",
        "        # plot4=plt.figure(4)\n",
        "        # plt.plot(TrainLoss, label='Train_loss')\n",
        "        # plt.plot(TestLoss, label='Test_loss')\n",
        "        # plt.xlabel('Epochs')\n",
        "        # plt.ylabel('Loss')\n",
        "        # file='Train_TestLoss.pdf'\n",
        "        # plt.savefig(os.path.join(exp_model_dir1,file))\n",
        "        # plt.clf()\n",
        "        print('\\nNo.%2d experiment results:' % exp_idx)\n",
        "        print(\n",
        "            'Train loss: %0.4f, Test loss: %0.4f, RMSE: %0.2f, NRMSE:%0.2f ,MAE: %0.2f, R2: %0.2f, CSI: %0.4f, POD: %0.4f, FAR: %0.4f' % (\n",
        "            train_loss_, test_loss, rmse,nrmse, mae,r2, csi, pod, far))\n",
        " \n",
        "    exp_metric_str = '---------------------------------------\\n' + \\\n",
        "                     'train_loss | mean: %0.4f std: %0.4f\\n' % (get_mean_std(train_loss_list)) + \\\n",
        "                     'test_loss  | mean: %0.4f std: %0.4f\\n' % (get_mean_std(test_loss_list)) + \\\n",
        "                     'RMSE       | mean: %0.4f std: %0.4f\\n' % (get_mean_std(rmse_list)) + \\\n",
        "                     'MAE        | mean: %0.4f std: %0.4f\\n' % (get_mean_std(mae_list)) + \\\n",
        "                     'CSI        | mean: %0.4f std: %0.4f\\n' % (get_mean_std(csi_list)) + \\\n",
        "                     'POD        | mean: %0.4f std: %0.4f\\n' % (get_mean_std(pod_list)) + \\\n",
        "                     'FAR        | mean: %0.4f std: %0.4f\\n' % (get_mean_std(far_list))+\\\n",
        "                     'learningRate... %0.4f' % (lr) +\\\n",
        "                     'weight_decay %0.4f' % (weight_decay)\n",
        " \n",
        "    metric_fp = os.path.join(os.path.dirname(exp_model_dir), 'metric.txt')\n",
        "    with open(metric_fp, 'w') as f:\n",
        "        f.write(str(model))\n",
        "        f.write(exp_metric_str)\n",
        " \n",
        "    print('=========================\\n')\n",
        "    print(exp_metric_str)\n",
        "    print(str(model))\n",
        "    print(metric_fp)\n",
        " \n",
        " \n",
        "if __name__ == '__main__':\n",
        "    main()"
      ]
    },
    {
      "cell_type": "code",
      "execution_count": null,
      "metadata": {
        "colab": {
          "base_uri": "https://localhost:8080/",
          "height": 166
        },
        "id": "Rf6nW7XeceMW",
        "outputId": "8a3e6eb5-a436-40ea-bf15-a3d83a27d09b"
      },
      "outputs": [
        {
          "ename": "NameError",
          "evalue": "ignored",
          "output_type": "error",
          "traceback": [
            "\u001b[0;31m---------------------------------------------------------------------------\u001b[0m",
            "\u001b[0;31mNameError\u001b[0m                                 Traceback (most recent call last)",
            "\u001b[0;32m<ipython-input-26-808664182bbe>\u001b[0m in \u001b[0;36m<cell line: 1>\u001b[0;34m()\u001b[0m\n\u001b[0;32m----> 1\u001b[0;31m \u001b[0mpm25_pred\u001b[0m\u001b[0;34m\u001b[0m\u001b[0;34m\u001b[0m\u001b[0m\n\u001b[0m",
            "\u001b[0;31mNameError\u001b[0m: name 'pm25_pred' is not defined"
          ]
        }
      ],
      "source": [
        "pm25_pred"
      ]
    },
    {
      "cell_type": "code",
      "execution_count": null,
      "metadata": {
        "id": "nMUDoJh2cfix"
      },
      "outputs": [],
      "source": [
        "test_loader"
      ]
    }
  ],
  "metadata": {
    "colab": {
      "provenance": []
    },
    "kernelspec": {
      "display_name": "Python 3",
      "name": "python3"
    },
    "language_info": {
      "codemirror_mode": {
        "name": "ipython",
        "version": 3
      },
      "file_extension": ".py",
      "mimetype": "text/x-python",
      "name": "python",
      "nbconvert_exporter": "python",
      "pygments_lexer": "ipython3",
      "version": "3.10.2"
    }
  },
  "nbformat": 4,
  "nbformat_minor": 0
}
