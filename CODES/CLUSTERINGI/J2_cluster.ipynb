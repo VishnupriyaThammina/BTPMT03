{
  "cells": [
    {
      "cell_type": "code",
      "execution_count": 7,
      "metadata": {
        "id": "qw8_Ez6qioAe"
      },
      "outputs": [],
      "source": [
        "import numpy as np\n",
        "# totaldata=np.load(\"/content/drive/MyDrive/J2/hourlytotalarray_withpm10.npy\",allow_pickle=True)\n"
      ]
    },
    {
      "cell_type": "code",
      "execution_count": null,
      "metadata": {
        "id": "3Go6EtG3k3QK"
      },
      "outputs": [],
      "source": [
        "pm25=totaldata[:,:,0]\n",
        "pm10=totaldata[:,:,-1]"
      ]
    },
    {
      "cell_type": "code",
      "execution_count": null,
      "metadata": {
        "colab": {
          "base_uri": "https://localhost:8080/"
        },
        "id": "gGE9Kg_ZobQZ",
        "outputId": "c54fa65d-ef06-4e31-a62c-42bd88ac2a05"
      },
      "outputs": [
        {
          "data": {
            "text/plain": [
              "318.812344234757"
            ]
          },
          "execution_count": 31,
          "metadata": {},
          "output_type": "execute_result"
        }
      ],
      "source": [
        "np.max(pm10)"
      ]
    },
    {
      "cell_type": "code",
      "execution_count": null,
      "metadata": {
        "id": "2Mwn-2TUobK3"
      },
      "outputs": [],
      "source": []
    },
    {
      "cell_type": "code",
      "execution_count": 2,
      "metadata": {
        "id": "9rU9yirHjJo_"
      },
      "outputs": [],
      "source": [
        "import pandas as pd\n",
        "ar=pd.read_csv('C:/Users/vishn/OneDrive/Documents/BTP/FINAL/FINAL_LATITUDE_LONGITUDE.csv')\n",
        "loc_b=pd.DataFrame(ar)"
      ]
    },
    {
      "cell_type": "code",
      "execution_count": null,
      "metadata": {
        "id": "OOnKakRvlehg"
      },
      "outputs": [],
      "source": [
        "meanpm25=np.mean(pm25,0)"
      ]
    },
    {
      "cell_type": "code",
      "execution_count": null,
      "metadata": {
        "id": "GYfLr_kcli5f"
      },
      "outputs": [],
      "source": [
        "meanpm10=np.mean(pm10,0)"
      ]
    },
    {
      "cell_type": "code",
      "execution_count": null,
      "metadata": {
        "colab": {
          "base_uri": "https://localhost:8080/"
        },
        "id": "h6-T2-dHrppw",
        "outputId": "1dc36d64-ef20-4875-99cc-281d0d1a3021"
      },
      "outputs": [
        {
          "data": {
            "text/plain": [
              "array([1.9630863374855159, 2.167943665503659, 1.948233497471488,\n",
              "       2.0309928990252506, 2.026519763224703, 2.0869193005738724,\n",
              "       2.196737806255485, 2.5666259724438008, 1.9414037329269513,\n",
              "       1.9460245467495456, 2.3380544291868013, 2.0328194578557204,\n",
              "       2.1073933695112075, 2.3457839116726356, 1.6642184550416879,\n",
              "       1.917804593494209, 1.9789176024373107, 1.7846574802556787,\n",
              "       2.115338387281252, 1.9664791801942307, 1.8149197309568736,\n",
              "       2.0849800561563883, 2.267607937420634, 1.9546755797289457,\n",
              "       2.0878519370124957, 1.764102512199602, 1.9498450022457734,\n",
              "       2.1628899023195376, 1.7878981268492564, 1.8715347857489733,\n",
              "       2.168735688247559, 2.006555301240389, 1.900383522295853,\n",
              "       1.981601293915619, 2.679396930084914, 2.1444816650367677,\n",
              "       2.007989942373017, 1.7081986895518106, 1.93336644479169,\n",
              "       2.1670008245729147], dtype=object)"
            ]
          },
          "execution_count": 45,
          "metadata": {},
          "output_type": "execute_result"
        }
      ],
      "source": [
        "meanpm10/meanpm25"
      ]
    },
    {
      "cell_type": "code",
      "execution_count": 3,
      "metadata": {
        "id": "MdrCm-OsmHn_"
      },
      "outputs": [],
      "source": [
        "pm25csv=pd.read_csv('C:/Users/vishn/OneDrive/Documents/BTP/FINAL/FINALL/pm25_3hrs.csv')\n",
        "# pm10mean=np.mean(np.asarray(pm10csv),0)"
      ]
    },
    {
      "cell_type": "code",
      "execution_count": 4,
      "metadata": {
        "id": "s8DqfMzzmapm"
      },
      "outputs": [],
      "source": [
        "pm25csv=pm25csv.iloc[:,2:]"
      ]
    },
    {
      "cell_type": "code",
      "execution_count": 5,
      "metadata": {
        "colab": {
          "base_uri": "https://localhost:8080/",
          "height": 488
        },
        "id": "8jft620zm96g",
        "outputId": "6c39ec21-cace-41e1-c014-257fbc09dc72"
      },
      "outputs": [
        {
          "data": {
            "text/html": [
              "<div>\n",
              "<style scoped>\n",
              "    .dataframe tbody tr th:only-of-type {\n",
              "        vertical-align: middle;\n",
              "    }\n",
              "\n",
              "    .dataframe tbody tr th {\n",
              "        vertical-align: top;\n",
              "    }\n",
              "\n",
              "    .dataframe thead th {\n",
              "        text-align: right;\n",
              "    }\n",
              "</style>\n",
              "<table border=\"1\" class=\"dataframe\">\n",
              "  <thead>\n",
              "    <tr style=\"text-align: right;\">\n",
              "      <th></th>\n",
              "      <th>265.3333333</th>\n",
              "      <th>64.66634911</th>\n",
              "      <th>442.3253384</th>\n",
              "      <th>112.1666667</th>\n",
              "      <th>36.00004988</th>\n",
              "      <th>30.00000004</th>\n",
              "      <th>240.0333333</th>\n",
              "      <th>117.5666667</th>\n",
              "      <th>437.8333333</th>\n",
              "      <th>550.3766667</th>\n",
              "      <th>...</th>\n",
              "      <th>33.33333333</th>\n",
              "      <th>480.0833333</th>\n",
              "      <th>112.3333333</th>\n",
              "      <th>435.8333333</th>\n",
              "      <th>42.8</th>\n",
              "      <th>98.76666667</th>\n",
              "      <th>451.9166667</th>\n",
              "      <th>97</th>\n",
              "      <th>304.7460091</th>\n",
              "      <th>53.66666667</th>\n",
              "    </tr>\n",
              "  </thead>\n",
              "  <tbody>\n",
              "    <tr>\n",
              "      <th>0</th>\n",
              "      <td>341.500000</td>\n",
              "      <td>63.000000</td>\n",
              "      <td>366.833333</td>\n",
              "      <td>79.666667</td>\n",
              "      <td>36.000043</td>\n",
              "      <td>30.000000</td>\n",
              "      <td>193.366667</td>\n",
              "      <td>116.783333</td>\n",
              "      <td>327.666667</td>\n",
              "      <td>619.490000</td>\n",
              "      <td>...</td>\n",
              "      <td>45.833333</td>\n",
              "      <td>424.850000</td>\n",
              "      <td>145.333333</td>\n",
              "      <td>343.166667</td>\n",
              "      <td>42.800000</td>\n",
              "      <td>60.516667</td>\n",
              "      <td>372.333333</td>\n",
              "      <td>149.000000</td>\n",
              "      <td>242.666667</td>\n",
              "      <td>46.666667</td>\n",
              "    </tr>\n",
              "    <tr>\n",
              "      <th>1</th>\n",
              "      <td>323.333333</td>\n",
              "      <td>66.749864</td>\n",
              "      <td>421.250000</td>\n",
              "      <td>69.500000</td>\n",
              "      <td>36.000036</td>\n",
              "      <td>30.000000</td>\n",
              "      <td>181.566667</td>\n",
              "      <td>125.700000</td>\n",
              "      <td>427.000000</td>\n",
              "      <td>465.200000</td>\n",
              "      <td>...</td>\n",
              "      <td>62.166667</td>\n",
              "      <td>453.066667</td>\n",
              "      <td>138.000000</td>\n",
              "      <td>422.916667</td>\n",
              "      <td>42.800000</td>\n",
              "      <td>38.550000</td>\n",
              "      <td>528.916667</td>\n",
              "      <td>154.333333</td>\n",
              "      <td>284.333333</td>\n",
              "      <td>53.666667</td>\n",
              "    </tr>\n",
              "    <tr>\n",
              "      <th>2</th>\n",
              "      <td>340.000000</td>\n",
              "      <td>48.500000</td>\n",
              "      <td>335.500000</td>\n",
              "      <td>93.833333</td>\n",
              "      <td>36.000029</td>\n",
              "      <td>30.000000</td>\n",
              "      <td>199.800000</td>\n",
              "      <td>65.483333</td>\n",
              "      <td>376.500000</td>\n",
              "      <td>304.130000</td>\n",
              "      <td>...</td>\n",
              "      <td>29.833333</td>\n",
              "      <td>354.066667</td>\n",
              "      <td>131.083333</td>\n",
              "      <td>387.333333</td>\n",
              "      <td>42.800000</td>\n",
              "      <td>38.466667</td>\n",
              "      <td>505.333333</td>\n",
              "      <td>132.333333</td>\n",
              "      <td>260.333333</td>\n",
              "      <td>54.333333</td>\n",
              "    </tr>\n",
              "    <tr>\n",
              "      <th>3</th>\n",
              "      <td>132.166667</td>\n",
              "      <td>39.166667</td>\n",
              "      <td>154.833333</td>\n",
              "      <td>59.500000</td>\n",
              "      <td>36.000022</td>\n",
              "      <td>30.000000</td>\n",
              "      <td>146.000000</td>\n",
              "      <td>80.850000</td>\n",
              "      <td>169.666667</td>\n",
              "      <td>143.858333</td>\n",
              "      <td>...</td>\n",
              "      <td>18.166667</td>\n",
              "      <td>106.916667</td>\n",
              "      <td>94.333333</td>\n",
              "      <td>159.583333</td>\n",
              "      <td>42.800000</td>\n",
              "      <td>42.233333</td>\n",
              "      <td>199.500000</td>\n",
              "      <td>96.000000</td>\n",
              "      <td>121.833333</td>\n",
              "      <td>54.500000</td>\n",
              "    </tr>\n",
              "    <tr>\n",
              "      <th>4</th>\n",
              "      <td>106.833333</td>\n",
              "      <td>46.166667</td>\n",
              "      <td>106.833333</td>\n",
              "      <td>32.833333</td>\n",
              "      <td>36.000015</td>\n",
              "      <td>30.000000</td>\n",
              "      <td>75.600000</td>\n",
              "      <td>62.766667</td>\n",
              "      <td>157.833333</td>\n",
              "      <td>122.298333</td>\n",
              "      <td>...</td>\n",
              "      <td>11.000000</td>\n",
              "      <td>109.683333</td>\n",
              "      <td>78.666667</td>\n",
              "      <td>122.916667</td>\n",
              "      <td>42.800000</td>\n",
              "      <td>56.983333</td>\n",
              "      <td>188.750000</td>\n",
              "      <td>97.333333</td>\n",
              "      <td>109.333333</td>\n",
              "      <td>69.000000</td>\n",
              "    </tr>\n",
              "    <tr>\n",
              "      <th>...</th>\n",
              "      <td>...</td>\n",
              "      <td>...</td>\n",
              "      <td>...</td>\n",
              "      <td>...</td>\n",
              "      <td>...</td>\n",
              "      <td>...</td>\n",
              "      <td>...</td>\n",
              "      <td>...</td>\n",
              "      <td>...</td>\n",
              "      <td>...</td>\n",
              "      <td>...</td>\n",
              "      <td>...</td>\n",
              "      <td>...</td>\n",
              "      <td>...</td>\n",
              "      <td>...</td>\n",
              "      <td>...</td>\n",
              "      <td>...</td>\n",
              "      <td>...</td>\n",
              "      <td>...</td>\n",
              "      <td>...</td>\n",
              "      <td>...</td>\n",
              "    </tr>\n",
              "    <tr>\n",
              "      <th>8762</th>\n",
              "      <td>570.181093</td>\n",
              "      <td>60.666667</td>\n",
              "      <td>570.181093</td>\n",
              "      <td>100.166667</td>\n",
              "      <td>73.839115</td>\n",
              "      <td>35.833333</td>\n",
              "      <td>53.308333</td>\n",
              "      <td>74.615000</td>\n",
              "      <td>448.888099</td>\n",
              "      <td>570.181093</td>\n",
              "      <td>...</td>\n",
              "      <td>42.003904</td>\n",
              "      <td>92.102500</td>\n",
              "      <td>105.333333</td>\n",
              "      <td>570.181093</td>\n",
              "      <td>57.005538</td>\n",
              "      <td>69.733333</td>\n",
              "      <td>570.181093</td>\n",
              "      <td>52.666667</td>\n",
              "      <td>130.166667</td>\n",
              "      <td>76.005337</td>\n",
              "    </tr>\n",
              "    <tr>\n",
              "      <th>8763</th>\n",
              "      <td>560.056228</td>\n",
              "      <td>38.666667</td>\n",
              "      <td>560.056228</td>\n",
              "      <td>63.333333</td>\n",
              "      <td>73.843433</td>\n",
              "      <td>31.000000</td>\n",
              "      <td>62.525000</td>\n",
              "      <td>30.823333</td>\n",
              "      <td>449.155889</td>\n",
              "      <td>560.056228</td>\n",
              "      <td>...</td>\n",
              "      <td>42.005045</td>\n",
              "      <td>79.440000</td>\n",
              "      <td>64.000000</td>\n",
              "      <td>560.056228</td>\n",
              "      <td>57.007159</td>\n",
              "      <td>28.340667</td>\n",
              "      <td>560.056228</td>\n",
              "      <td>62.666667</td>\n",
              "      <td>118.166667</td>\n",
              "      <td>76.006816</td>\n",
              "    </tr>\n",
              "    <tr>\n",
              "      <th>8764</th>\n",
              "      <td>553.358864</td>\n",
              "      <td>40.500000</td>\n",
              "      <td>553.358864</td>\n",
              "      <td>48.000000</td>\n",
              "      <td>73.847750</td>\n",
              "      <td>28.166667</td>\n",
              "      <td>44.766667</td>\n",
              "      <td>46.228333</td>\n",
              "      <td>449.423678</td>\n",
              "      <td>553.358864</td>\n",
              "      <td>...</td>\n",
              "      <td>42.006187</td>\n",
              "      <td>70.791667</td>\n",
              "      <td>55.000000</td>\n",
              "      <td>553.358864</td>\n",
              "      <td>57.008780</td>\n",
              "      <td>55.821000</td>\n",
              "      <td>553.358864</td>\n",
              "      <td>42.666667</td>\n",
              "      <td>98.166667</td>\n",
              "      <td>76.008296</td>\n",
              "    </tr>\n",
              "    <tr>\n",
              "      <th>8765</th>\n",
              "      <td>568.720781</td>\n",
              "      <td>46.666667</td>\n",
              "      <td>568.720781</td>\n",
              "      <td>33.666667</td>\n",
              "      <td>73.852068</td>\n",
              "      <td>30.833333</td>\n",
              "      <td>43.100000</td>\n",
              "      <td>82.821667</td>\n",
              "      <td>449.691468</td>\n",
              "      <td>568.720781</td>\n",
              "      <td>...</td>\n",
              "      <td>42.007328</td>\n",
              "      <td>61.658333</td>\n",
              "      <td>52.000000</td>\n",
              "      <td>568.720781</td>\n",
              "      <td>57.010401</td>\n",
              "      <td>129.900000</td>\n",
              "      <td>568.720781</td>\n",
              "      <td>39.666667</td>\n",
              "      <td>49.833333</td>\n",
              "      <td>76.009775</td>\n",
              "    </tr>\n",
              "    <tr>\n",
              "      <th>8766</th>\n",
              "      <td>574.388365</td>\n",
              "      <td>32.833333</td>\n",
              "      <td>574.388365</td>\n",
              "      <td>28.833333</td>\n",
              "      <td>73.856385</td>\n",
              "      <td>30.000000</td>\n",
              "      <td>53.183333</td>\n",
              "      <td>105.980833</td>\n",
              "      <td>449.959258</td>\n",
              "      <td>574.388365</td>\n",
              "      <td>...</td>\n",
              "      <td>42.008470</td>\n",
              "      <td>76.471667</td>\n",
              "      <td>50.333333</td>\n",
              "      <td>574.388365</td>\n",
              "      <td>57.012022</td>\n",
              "      <td>169.246667</td>\n",
              "      <td>574.388365</td>\n",
              "      <td>25.000000</td>\n",
              "      <td>30.666667</td>\n",
              "      <td>76.011255</td>\n",
              "    </tr>\n",
              "  </tbody>\n",
              "</table>\n",
              "<p>8767 rows × 264 columns</p>\n",
              "</div>"
            ],
            "text/plain": [
              "      265.3333333  64.66634911  442.3253384  112.1666667  36.00004988  \\\n",
              "0      341.500000    63.000000   366.833333    79.666667    36.000043   \n",
              "1      323.333333    66.749864   421.250000    69.500000    36.000036   \n",
              "2      340.000000    48.500000   335.500000    93.833333    36.000029   \n",
              "3      132.166667    39.166667   154.833333    59.500000    36.000022   \n",
              "4      106.833333    46.166667   106.833333    32.833333    36.000015   \n",
              "...           ...          ...          ...          ...          ...   \n",
              "8762   570.181093    60.666667   570.181093   100.166667    73.839115   \n",
              "8763   560.056228    38.666667   560.056228    63.333333    73.843433   \n",
              "8764   553.358864    40.500000   553.358864    48.000000    73.847750   \n",
              "8765   568.720781    46.666667   568.720781    33.666667    73.852068   \n",
              "8766   574.388365    32.833333   574.388365    28.833333    73.856385   \n",
              "\n",
              "      30.00000004  240.0333333  117.5666667  437.8333333  550.3766667  ...  \\\n",
              "0       30.000000   193.366667   116.783333   327.666667   619.490000  ...   \n",
              "1       30.000000   181.566667   125.700000   427.000000   465.200000  ...   \n",
              "2       30.000000   199.800000    65.483333   376.500000   304.130000  ...   \n",
              "3       30.000000   146.000000    80.850000   169.666667   143.858333  ...   \n",
              "4       30.000000    75.600000    62.766667   157.833333   122.298333  ...   \n",
              "...           ...          ...          ...          ...          ...  ...   \n",
              "8762    35.833333    53.308333    74.615000   448.888099   570.181093  ...   \n",
              "8763    31.000000    62.525000    30.823333   449.155889   560.056228  ...   \n",
              "8764    28.166667    44.766667    46.228333   449.423678   553.358864  ...   \n",
              "8765    30.833333    43.100000    82.821667   449.691468   568.720781  ...   \n",
              "8766    30.000000    53.183333   105.980833   449.959258   574.388365  ...   \n",
              "\n",
              "      33.33333333  480.0833333  112.3333333  435.8333333       42.8  \\\n",
              "0       45.833333   424.850000   145.333333   343.166667  42.800000   \n",
              "1       62.166667   453.066667   138.000000   422.916667  42.800000   \n",
              "2       29.833333   354.066667   131.083333   387.333333  42.800000   \n",
              "3       18.166667   106.916667    94.333333   159.583333  42.800000   \n",
              "4       11.000000   109.683333    78.666667   122.916667  42.800000   \n",
              "...           ...          ...          ...          ...        ...   \n",
              "8762    42.003904    92.102500   105.333333   570.181093  57.005538   \n",
              "8763    42.005045    79.440000    64.000000   560.056228  57.007159   \n",
              "8764    42.006187    70.791667    55.000000   553.358864  57.008780   \n",
              "8765    42.007328    61.658333    52.000000   568.720781  57.010401   \n",
              "8766    42.008470    76.471667    50.333333   574.388365  57.012022   \n",
              "\n",
              "      98.76666667  451.9166667          97  304.7460091  53.66666667  \n",
              "0       60.516667   372.333333  149.000000   242.666667    46.666667  \n",
              "1       38.550000   528.916667  154.333333   284.333333    53.666667  \n",
              "2       38.466667   505.333333  132.333333   260.333333    54.333333  \n",
              "3       42.233333   199.500000   96.000000   121.833333    54.500000  \n",
              "4       56.983333   188.750000   97.333333   109.333333    69.000000  \n",
              "...           ...          ...         ...          ...          ...  \n",
              "8762    69.733333   570.181093   52.666667   130.166667    76.005337  \n",
              "8763    28.340667   560.056228   62.666667   118.166667    76.006816  \n",
              "8764    55.821000   553.358864   42.666667    98.166667    76.008296  \n",
              "8765   129.900000   568.720781   39.666667    49.833333    76.009775  \n",
              "8766   169.246667   574.388365   25.000000    30.666667    76.011255  \n",
              "\n",
              "[8767 rows x 264 columns]"
            ]
          },
          "execution_count": 5,
          "metadata": {},
          "output_type": "execute_result"
        }
      ],
      "source": [
        "pm25csv"
      ]
    },
    {
      "cell_type": "code",
      "execution_count": 8,
      "metadata": {
        "id": "-jfjUzAmmU9S"
      },
      "outputs": [],
      "source": [
        "pm25mean=np.mean(np.asarray(pm25csv),0)"
      ]
    },
    {
      "cell_type": "code",
      "execution_count": 9,
      "metadata": {
        "colab": {
          "base_uri": "https://localhost:8080/"
        },
        "id": "ETsBf3ElnH9n",
        "outputId": "621ea7ab-9b85-4301-f9c3-cd71e75b00eb"
      },
      "outputs": [
        {
          "data": {
            "text/plain": [
              "array([189.45984056,  30.75482199, 206.18189763,  58.48875561,\n",
              "        32.78747686,  30.68610381,  81.88961066,  49.50088811,\n",
              "       130.84361162, 106.85634813,  32.56912515, 106.8877385 ,\n",
              "        31.32856593,  50.47511738,  39.97168195, 175.16170412,\n",
              "        48.31976902,  39.79530595,  39.50120136,  33.73639172,\n",
              "        36.50810099,  31.41363422,  61.89362548,  58.44414512,\n",
              "        30.10766749,  30.99032055,  73.61954101,  36.9907717 ,\n",
              "        97.47566609,  35.83912193,  36.59332174,  43.3150912 ,\n",
              "        29.38353803,  42.69629615,  66.7042304 ,  70.73569916,\n",
              "        27.67759559, 156.6604373 , 103.95949791,  56.35855528,\n",
              "        28.12113313,  14.41456502,  95.58081448, 235.79998667,\n",
              "        73.76512127, 149.22982384, 189.8875906 ,  96.67008785,\n",
              "        52.45821684, 276.28121235,  31.85967957,  37.77644386,\n",
              "        74.97018174,  36.07421499,  43.73832341,  73.43580395,\n",
              "        58.81164972,  48.72083397,  51.47753987,  80.29199314,\n",
              "        56.46130431,  58.88938209,  77.7881615 ,  42.81954811,\n",
              "        35.38310713,  56.36408147,  43.00749716,  27.28549348,\n",
              "        19.01255827,  25.72417615,  67.78849858,  35.22897509,\n",
              "        38.63613672, 135.84113272,  95.81397604, 145.96253426,\n",
              "       114.38796465,  95.90542407,  53.22649057,  93.08703193,\n",
              "        53.81763286, 163.74107914, 386.92939913, 144.6061854 ,\n",
              "        85.83775827, 243.52161318,  31.29719872,  46.48937386,\n",
              "        46.25463775,  24.81101808,  26.28407185,  46.32924204,\n",
              "        21.69487501,  60.85876291,  90.51305112,  29.24634403,\n",
              "        92.98485722,  67.40688184,  53.01843998,  28.58087041,\n",
              "        91.91711905,  87.7321428 ,  34.18533271,  34.93240828,\n",
              "        49.20084176,  48.30712385, 222.47500185,  46.5588153 ,\n",
              "        87.9209611 ,  84.85575344, 132.53505246, 125.18645315,\n",
              "        39.80282515,  47.93902153,  48.77861659, 182.67572241,\n",
              "        47.04595043,  32.72897433,  27.04924151, 153.141627  ,\n",
              "        21.12166657,  49.24119323,  35.63631747,  84.27683043,\n",
              "        86.06380096,  95.09237812,  82.03459322,  43.35736417,\n",
              "        40.25043177,  82.37876148, 145.06764029,  45.48971808,\n",
              "        46.53485911,  34.84426157,  42.01119073,  43.10506463,\n",
              "        59.20157342, 200.07710355,  80.78519012,  66.24757488,\n",
              "        48.30288944,  87.0346041 ,  26.44255943,  53.83296536,\n",
              "        74.63114207, 168.77245004,  76.34517177,  54.52905008,\n",
              "       261.10152492,  78.78091535,  53.6012759 ,  51.49660516,\n",
              "        79.73055237,  96.44156311,  73.60300823, 118.72766316,\n",
              "        40.43885756, 103.810707  ,  98.43286981,  27.85505008,\n",
              "        36.98930005,  50.31459209,  27.63308277,  87.65135242,\n",
              "        71.19100608,  45.95034581, 192.36738933,  63.17353405,\n",
              "        35.1039514 ,  26.05907431,  59.79259914,  57.45939805,\n",
              "        21.36052721,  36.03876135,  61.95651343,  82.28139469,\n",
              "        41.68937753,  53.11611979, 150.54528448, 139.39314217,\n",
              "       113.59804316,  29.11628062, 248.54108434,  59.12296608,\n",
              "        52.21790647,  78.93462751,  35.69565774,  45.91558897,\n",
              "       100.34857487,  67.09359987,  60.1754844 , 149.04283571,\n",
              "        25.15684764,  45.90327261,  44.86316307,  73.89194631,\n",
              "        44.53523928,  94.39356497,  72.08906172,  31.28942923,\n",
              "       135.09433494,  28.55843506,  86.57224532,  92.11705298,\n",
              "        99.23331607,  90.81195768,  32.18907374, 104.94581804,\n",
              "        96.4334464 ,  59.67747885,  38.70377172,  85.87782714,\n",
              "        50.85239715,  38.36322467,  79.85287163,  60.06643008,\n",
              "        99.73926333,  50.94707064,  70.24828225,  35.35317637,\n",
              "       142.86820969,  39.86836998,  50.3796049 ,  58.77947222,\n",
              "        27.61579473,  54.17705112,  34.08413775,  39.90573018,\n",
              "        89.23647041,  42.4106014 ,  94.45744614,  28.77631052,\n",
              "        41.67289434, 151.95312378,  34.01904624, 148.7046831 ,\n",
              "       137.1422425 ,  14.83184809,  50.13445052, 103.80372908,\n",
              "        81.17565928,  34.44129173,  28.64097099,  42.94784422,\n",
              "        51.39823486,  34.55500182,  22.55302762,  21.83046592,\n",
              "        84.13265038,  39.01925641, 102.97990994,  24.97048367,\n",
              "       389.25167398,  26.27587435,  24.71385408,  88.22990835,\n",
              "        53.56386383, 148.42492387,  41.29743041,  51.8395067 ,\n",
              "       106.67507944,  42.7578709 ,  87.84977499,  47.96826575])"
            ]
          },
          "execution_count": 9,
          "metadata": {},
          "output_type": "execute_result"
        }
      ],
      "source": [
        "pm25mean"
      ]
    },
    {
      "cell_type": "code",
      "execution_count": 12,
      "metadata": {
        "id": "T9fqXwqCnV1a"
      },
      "outputs": [],
      "source": [
        "pm25new=[]\n",
        "for i in range(26280):\n",
        "  s=2*i\n",
        "  # print(s)\n",
        "  new=np.expand_dims(np.mean(pm25csv[s:s+2],axis=0),axis=0)\n",
        "  pm25new.append(new)\n",
        "pm25new=np.concatenate(pm25new,0)"
      ]
    },
    {
      "cell_type": "code",
      "execution_count": 13,
      "metadata": {
        "colab": {
          "base_uri": "https://localhost:8080/"
        },
        "id": "Ky9G7dw_n0BA",
        "outputId": "08b77d03-2893-4737-b823-b9715ac22563"
      },
      "outputs": [
        {
          "data": {
            "text/plain": [
              "array([nan, nan, nan, nan, nan, nan, nan, nan, nan, nan, nan, nan, nan,\n",
              "       nan, nan, nan, nan, nan, nan, nan, nan, nan, nan, nan, nan, nan,\n",
              "       nan, nan, nan, nan, nan, nan, nan, nan, nan, nan, nan, nan, nan,\n",
              "       nan, nan, nan, nan, nan, nan, nan, nan, nan, nan, nan, nan, nan,\n",
              "       nan, nan, nan, nan, nan, nan, nan, nan, nan, nan, nan, nan, nan,\n",
              "       nan, nan, nan, nan, nan, nan, nan, nan, nan, nan, nan, nan, nan,\n",
              "       nan, nan, nan, nan, nan, nan, nan, nan, nan, nan, nan, nan, nan,\n",
              "       nan, nan, nan, nan, nan, nan, nan, nan, nan, nan, nan, nan, nan,\n",
              "       nan, nan, nan, nan, nan, nan, nan, nan, nan, nan, nan, nan, nan,\n",
              "       nan, nan, nan, nan, nan, nan, nan, nan, nan, nan, nan, nan, nan,\n",
              "       nan, nan, nan, nan, nan, nan, nan, nan, nan, nan, nan, nan, nan,\n",
              "       nan, nan, nan, nan, nan, nan, nan, nan, nan, nan, nan, nan, nan,\n",
              "       nan, nan, nan, nan, nan, nan, nan, nan, nan, nan, nan, nan, nan,\n",
              "       nan, nan, nan, nan, nan, nan, nan, nan, nan, nan, nan, nan, nan,\n",
              "       nan, nan, nan, nan, nan, nan, nan, nan, nan, nan, nan, nan, nan,\n",
              "       nan, nan, nan, nan, nan, nan, nan, nan, nan, nan, nan, nan, nan,\n",
              "       nan, nan, nan, nan, nan, nan, nan, nan, nan, nan, nan, nan, nan,\n",
              "       nan, nan, nan, nan, nan, nan, nan, nan, nan, nan, nan, nan, nan,\n",
              "       nan, nan, nan, nan, nan, nan, nan, nan, nan, nan, nan, nan, nan,\n",
              "       nan, nan, nan, nan, nan, nan, nan, nan, nan, nan, nan, nan, nan,\n",
              "       nan, nan, nan, nan])"
            ]
          },
          "execution_count": 13,
          "metadata": {},
          "output_type": "execute_result"
        }
      ],
      "source": [
        "pm25mean1=np.mean(pm25new,0)\n",
        "pm25mean1"
      ]
    },
    {
      "cell_type": "markdown",
      "metadata": {
        "id": "BZ7FhntPnD0g"
      },
      "source": []
    },
    {
      "cell_type": "code",
      "execution_count": null,
      "metadata": {
        "id": "VIp8ljcolF2P"
      },
      "outputs": [],
      "source": [
        "def doKmeans(X, nclust=8):\n",
        "    model = KMeans(nclust)\n",
        "    model.fit(X)\n",
        "    clust_labels = model.predict(X)\n",
        "    cent = model.cluster_centers_\n",
        "    return (clust_labels, cent)\n",
        "\n",
        "clust_labels, cent = doKmeans(pm25, 3)\n",
        "# kmeans = pd.DataFrame(clust_labels)\n",
        "# print(kmeans)\n",
        "pm[\"kmeans\"]=clust_labels"
      ]
    },
    {
      "cell_type": "code",
      "execution_count": null,
      "metadata": {
        "id": "ovs6kGwevhM0"
      },
      "outputs": [],
      "source": [
        "latlon=loc_b.iloc[:,1:]"
      ]
    },
    {
      "cell_type": "code",
      "execution_count": null,
      "metadata": {
        "colab": {
          "base_uri": "https://localhost:8080/"
        },
        "id": "Dr8VD_nQANTT",
        "outputId": "a86025c6-8f68-4b15-ad91-4839af63f359"
      },
      "outputs": [
        {
          "data": {
            "text/plain": [
              "(40,)"
            ]
          },
          "execution_count": 55,
          "metadata": {},
          "output_type": "execute_result"
        }
      ],
      "source": [
        "meanpm25.shape"
      ]
    },
    {
      "cell_type": "code",
      "execution_count": null,
      "metadata": {
        "id": "Y__lBj6V_pn_"
      },
      "outputs": [],
      "source": [
        "dataapm25=np.concatenate([np.asarray(latlon),np.expand_dims(meanpm25,-1)],-1)"
      ]
    },
    {
      "cell_type": "code",
      "execution_count": null,
      "metadata": {
        "id": "ZBERSvrhApzj"
      },
      "outputs": [],
      "source": [
        "dataapm10=np.concatenate([np.asarray(latlon),np.expand_dims(meanpm10,-1)],-1)"
      ]
    },
    {
      "cell_type": "code",
      "execution_count": null,
      "metadata": {
        "id": "dH5ArAqGFowm"
      },
      "outputs": [],
      "source": [
        "dataapm25pm10=np.concatenate([dataapm10,np.expand_dims(meanpm25,-1)],-1)"
      ]
    },
    {
      "cell_type": "code",
      "execution_count": null,
      "metadata": {
        "id": "BtWXXeL1Avkk"
      },
      "outputs": [],
      "source": [
        " from sklearn.cluster import KMeans"
      ]
    },
    {
      "cell_type": "code",
      "execution_count": null,
      "metadata": {
        "colab": {
          "base_uri": "https://localhost:8080/"
        },
        "id": "-ABH7xNRA6eK",
        "outputId": "68748432-cffb-442e-d11a-ccbcdbc985a3"
      },
      "outputs": [
        {
          "name": "stderr",
          "output_type": "stream",
          "text": [
            "/usr/local/lib/python3.9/dist-packages/sklearn/cluster/_kmeans.py:870: FutureWarning: The default value of `n_init` will change from 10 to 'auto' in 1.4. Set the value of `n_init` explicitly to suppress the warning\n",
            "  warnings.warn(\n"
          ]
        }
      ],
      "source": [
        "def doKmeans(X, nclust=8):\n",
        "    model = KMeans(nclust)\n",
        "    model.fit(X)\n",
        "    clust_labels = model.predict(X)\n",
        "    cent = model.cluster_centers_\n",
        "    return (clust_labels, cent)\n",
        "\n",
        "clust_labels, cent = doKmeans(dataapm10, 3)\n",
        "# kmeans = pd.DataFrame(clust_labels)\n",
        "# print(kmeans)\n",
        "# pm[\"kmeans\"]=clust_labels"
      ]
    },
    {
      "cell_type": "code",
      "execution_count": null,
      "metadata": {
        "colab": {
          "base_uri": "https://localhost:8080/"
        },
        "id": "N8EK8bG8BCML",
        "outputId": "43a30783-b11d-468a-e808-2c113c12b694"
      },
      "outputs": [
        {
          "name": "stderr",
          "output_type": "stream",
          "text": [
            "/usr/local/lib/python3.9/dist-packages/sklearn/cluster/_kmeans.py:870: FutureWarning: The default value of `n_init` will change from 10 to 'auto' in 1.4. Set the value of `n_init` explicitly to suppress the warning\n",
            "  warnings.warn(\n"
          ]
        },
        {
          "data": {
            "text/plain": [
              "array([2, 1, 1, 0, 1, 2, 2, 2, 1, 2, 2, 2, 0, 0, 1, 1, 2, 0, 0, 2, 2, 1,\n",
              "       2, 0, 1, 1, 2, 2, 1, 1, 2, 0, 2, 1, 0, 2, 1, 0, 1, 1], dtype=int32)"
            ]
          },
          "execution_count": 64,
          "metadata": {},
          "output_type": "execute_result"
        }
      ],
      "source": [
        "clust_labels1, cent = doKmeans(dataapm25, 3)\n",
        "clust_labels1"
      ]
    },
    {
      "cell_type": "code",
      "execution_count": null,
      "metadata": {
        "id": "PoH7uWV4GBKF"
      },
      "outputs": [],
      "source": [
        "Cluster0_25=np.where(clust_labels1==0)\n",
        "Cluster1_25=np.where(clust_labels1==1)\n",
        "Cluster2_25=np.where(clust_labels1==2)\n"
      ]
    },
    {
      "cell_type": "code",
      "execution_count": null,
      "metadata": {
        "id": "gvVfwo7qGVI8"
      },
      "outputs": [],
      "source": [
        "Cluster0_10=np.where(clust_labels==0)\n",
        "Cluster1_10=np.where(clust_labels==1)\n",
        "Cluster2_10=np.where(clust_labels==2)"
      ]
    },
    {
      "cell_type": "code",
      "execution_count": null,
      "metadata": {
        "colab": {
          "base_uri": "https://localhost:8080/"
        },
        "id": "Ru9AUB7wA-pG",
        "outputId": "14830ee0-6746-49fe-83a6-0727d0c9ddb7"
      },
      "outputs": [
        {
          "data": {
            "text/plain": [
              "array([1, 2, 1, 0, 2, 1, 1, 2, 1, 0, 2, 1, 0, 1, 0, 2, 0, 0, 0, 1, 0, 2,\n",
              "       1, 0, 2, 1, 0, 1, 1, 1, 1, 0, 1, 2, 1, 1, 1, 0, 1, 2], dtype=int32)"
            ]
          },
          "execution_count": 63,
          "metadata": {},
          "output_type": "execute_result"
        }
      ],
      "source": [
        "clust_labels"
      ]
    },
    {
      "cell_type": "code",
      "execution_count": null,
      "metadata": {
        "colab": {
          "base_uri": "https://localhost:8080/"
        },
        "id": "mWm7FAEeFz05",
        "outputId": "b47a5688-d4d2-4ede-a609-e4d5bd575db1"
      },
      "outputs": [
        {
          "name": "stderr",
          "output_type": "stream",
          "text": [
            "/usr/local/lib/python3.9/dist-packages/sklearn/cluster/_kmeans.py:870: FutureWarning: The default value of `n_init` will change from 10 to 'auto' in 1.4. Set the value of `n_init` explicitly to suppress the warning\n",
            "  warnings.warn(\n"
          ]
        },
        {
          "data": {
            "text/plain": [
              "array([0, 2, 0, 1, 2, 0, 0, 0, 0, 1, 2, 0, 1, 0, 1, 2, 1, 1, 1, 0, 1, 2,\n",
              "       0, 1, 2, 0, 1, 0, 0, 0, 0, 1, 0, 2, 0, 0, 0, 1, 2, 2], dtype=int32)"
            ]
          },
          "execution_count": 67,
          "metadata": {},
          "output_type": "execute_result"
        }
      ],
      "source": [
        "clust_labels_combine, cent = doKmeans(dataapm25pm10, 3)\n",
        "clust_labels_combine"
      ]
    },
    {
      "cell_type": "code",
      "execution_count": null,
      "metadata": {
        "id": "GmnaD1WZGbEs"
      },
      "outputs": [],
      "source": [
        "Cluster0_2510=np.where(clust_labels_combine==0)\n",
        "Cluster1_2510=np.where(clust_labels_combine==1)\n",
        "Cluster2_2510=np.where(clust_labels_combine==2)"
      ]
    },
    {
      "cell_type": "code",
      "execution_count": null,
      "metadata": {
        "id": "g7cBhFDYGmE0"
      },
      "outputs": [],
      "source": [
        "np.save(\"/content/drive/MyDrive/J2/data/Cluster0_25.npy\", Cluster0_25)\n",
        "np.save(\"/content/drive/MyDrive/J2/data/Cluster1_25.npy\", Cluster1_25)\n",
        "np.save(\"/content/drive/MyDrive/J2/data/Cluster2_25.npy\", Cluster2_25)"
      ]
    },
    {
      "cell_type": "code",
      "execution_count": null,
      "metadata": {
        "id": "VvuuVD--HPBm"
      },
      "outputs": [],
      "source": [
        "np.save(\"/content/drive/MyDrive/J2/data/Cluster0_10.npy\", Cluster0_10)\n",
        "np.save(\"/content/drive/MyDrive/J2/data/Cluster1_10.npy\", Cluster1_10)\n",
        "np.save(\"/content/drive/MyDrive/J2/data/Cluster2_10.npy\", Cluster2_10)"
      ]
    },
    {
      "cell_type": "code",
      "execution_count": null,
      "metadata": {
        "id": "PFW85aQTHUwB"
      },
      "outputs": [],
      "source": [
        "np.save(\"/content/drive/MyDrive/J2/data/Cluster0_2510.npy\", Cluster0_2510)\n",
        "np.save(\"/content/drive/MyDrive/J2/data/Cluster1_2510.npy\", Cluster1_2510)\n",
        "np.save(\"/content/drive/MyDrive/J2/data/Cluster2_2510.npy\", Cluster2_2510)"
      ]
    },
    {
      "cell_type": "code",
      "execution_count": null,
      "metadata": {
        "id": "jrYJVC43Fyr8"
      },
      "outputs": [],
      "source": [
        "dataapm25pm10"
      ]
    }
  ],
  "metadata": {
    "colab": {
      "provenance": []
    },
    "kernelspec": {
      "display_name": "Python 3",
      "name": "python3"
    },
    "language_info": {
      "codemirror_mode": {
        "name": "ipython",
        "version": 3
      },
      "file_extension": ".py",
      "mimetype": "text/x-python",
      "name": "python",
      "nbconvert_exporter": "python",
      "pygments_lexer": "ipython3",
      "version": "3.10.2"
    }
  },
  "nbformat": 4,
  "nbformat_minor": 0
}
