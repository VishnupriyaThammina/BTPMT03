{
  "nbformat": 4,
  "nbformat_minor": 0,
  "metadata": {
    "colab": {
      "provenance": []
    },
    "kernelspec": {
      "name": "python3",
      "display_name": "Python 3"
    },
    "language_info": {
      "name": "python"
    }
  },
  "cells": [
    {
      "cell_type": "code",
      "execution_count": null,
      "metadata": {
        "id": "qw8_Ez6qioAe"
      },
      "outputs": [],
      "source": [
        "import numpy as np\n",
        "totaldata=np.load(\"/content/drive/MyDrive/J2/hourlytotalarray_withpm10.npy\",allow_pickle=True)\n"
      ]
    },
    {
      "cell_type": "code",
      "source": [
        "pm25=totaldata[:,:,0]\n",
        "pm10=totaldata[:,:,-1]"
      ],
      "metadata": {
        "id": "3Go6EtG3k3QK"
      },
      "execution_count": null,
      "outputs": []
    },
    {
      "cell_type": "code",
      "source": [
        "np.max(pm10)"
      ],
      "metadata": {
        "colab": {
          "base_uri": "https://localhost:8080/"
        },
        "id": "gGE9Kg_ZobQZ",
        "outputId": "c54fa65d-ef06-4e31-a62c-42bd88ac2a05"
      },
      "execution_count": null,
      "outputs": [
        {
          "output_type": "execute_result",
          "data": {
            "text/plain": [
              "318.812344234757"
            ]
          },
          "metadata": {},
          "execution_count": 31
        }
      ]
    },
    {
      "cell_type": "code",
      "source": [],
      "metadata": {
        "id": "2Mwn-2TUobK3"
      },
      "execution_count": null,
      "outputs": []
    },
    {
      "cell_type": "code",
      "source": [
        "import pandas as pd\n",
        "ar=pd.read_csv('/content/drive/MyDrive/J2/data/station (copy).csv')\n",
        "loc_b=pd.DataFrame(ar)"
      ],
      "metadata": {
        "id": "9rU9yirHjJo_"
      },
      "execution_count": null,
      "outputs": []
    },
    {
      "cell_type": "code",
      "source": [
        "meanpm25=np.mean(pm25,0)"
      ],
      "metadata": {
        "id": "OOnKakRvlehg"
      },
      "execution_count": null,
      "outputs": []
    },
    {
      "cell_type": "code",
      "source": [
        "meanpm10=np.mean(pm10,0)"
      ],
      "metadata": {
        "id": "GYfLr_kcli5f"
      },
      "execution_count": null,
      "outputs": []
    },
    {
      "cell_type": "code",
      "source": [
        "meanpm10/meanpm25"
      ],
      "metadata": {
        "colab": {
          "base_uri": "https://localhost:8080/"
        },
        "id": "h6-T2-dHrppw",
        "outputId": "1dc36d64-ef20-4875-99cc-281d0d1a3021"
      },
      "execution_count": null,
      "outputs": [
        {
          "output_type": "execute_result",
          "data": {
            "text/plain": [
              "array([1.9630863374855159, 2.167943665503659, 1.948233497471488,\n",
              "       2.0309928990252506, 2.026519763224703, 2.0869193005738724,\n",
              "       2.196737806255485, 2.5666259724438008, 1.9414037329269513,\n",
              "       1.9460245467495456, 2.3380544291868013, 2.0328194578557204,\n",
              "       2.1073933695112075, 2.3457839116726356, 1.6642184550416879,\n",
              "       1.917804593494209, 1.9789176024373107, 1.7846574802556787,\n",
              "       2.115338387281252, 1.9664791801942307, 1.8149197309568736,\n",
              "       2.0849800561563883, 2.267607937420634, 1.9546755797289457,\n",
              "       2.0878519370124957, 1.764102512199602, 1.9498450022457734,\n",
              "       2.1628899023195376, 1.7878981268492564, 1.8715347857489733,\n",
              "       2.168735688247559, 2.006555301240389, 1.900383522295853,\n",
              "       1.981601293915619, 2.679396930084914, 2.1444816650367677,\n",
              "       2.007989942373017, 1.7081986895518106, 1.93336644479169,\n",
              "       2.1670008245729147], dtype=object)"
            ]
          },
          "metadata": {},
          "execution_count": 45
        }
      ]
    },
    {
      "cell_type": "code",
      "source": [
        "pm10csv=pd.read_csv('/content/drive/MyDrive/J2/data/cleanpm10.csv')\n",
        "# pm10mean=np.mean(np.asarray(pm10csv),0)"
      ],
      "metadata": {
        "id": "MdrCm-OsmHn_"
      },
      "execution_count": null,
      "outputs": []
    },
    {
      "cell_type": "code",
      "source": [
        "pm10csv=pm10csv.iloc[:,2:]"
      ],
      "metadata": {
        "id": "s8DqfMzzmapm"
      },
      "execution_count": null,
      "outputs": []
    },
    {
      "cell_type": "code",
      "source": [
        "pm10csv"
      ],
      "metadata": {
        "colab": {
          "base_uri": "https://localhost:8080/",
          "height": 488
        },
        "id": "8jft620zm96g",
        "outputId": "6c39ec21-cace-41e1-c014-257fbc09dc72"
      },
      "execution_count": null,
      "outputs": [
        {
          "output_type": "execute_result",
          "data": {
            "text/plain": [
              "       Alipur..Delhi...DPCC  Anand.Vihar..Delhi...DPCC  \\\n",
              "0                     344.0                 771.874752   \n",
              "1                     312.0                 660.000000   \n",
              "2                     312.0                 660.000000   \n",
              "3                     301.0                 514.000000   \n",
              "4                     301.0                 514.000000   \n",
              "...                     ...                        ...   \n",
              "52603                 189.0                 300.000000   \n",
              "52604                 188.0                 300.000000   \n",
              "52605                 188.0                 244.000000   \n",
              "52606                 186.0                 244.000000   \n",
              "52607                 186.0                 266.000000   \n",
              "\n",
              "       Ashok.Vihar..Delhi...DPCC  Aya.Nagar..Delhi...IMD  \\\n",
              "0                          965.0                  537.24   \n",
              "1                          554.0                  533.12   \n",
              "2                          554.0                  679.15   \n",
              "3                          450.0                  893.24   \n",
              "4                          450.0                  805.27   \n",
              "...                          ...                     ...   \n",
              "52603                      232.0                  145.93   \n",
              "52604                      232.0                  161.49   \n",
              "52605                      271.0                  126.21   \n",
              "52606                      271.0                  129.73   \n",
              "52607                      206.0                  113.21   \n",
              "\n",
              "       Bawana..Delhi...DPCC  Burari.Crossing..Delhi...IMD  \\\n",
              "0                723.111504                    751.240449   \n",
              "1                668.072097                    639.112284   \n",
              "2                951.000000                    590.858425   \n",
              "3                951.000000                    529.433363   \n",
              "4                856.000000                    515.450364   \n",
              "...                     ...                           ...   \n",
              "52603            260.000000                    243.907505   \n",
              "52604            260.000000                    250.306375   \n",
              "52605            373.000000                    262.142807   \n",
              "52606            373.000000                    261.791316   \n",
              "52607            289.000000                    246.945315   \n",
              "\n",
              "       CRRI.Mathura.Road..Delhi...IMD  Chandni.Chowk..Delhi...IITM  \\\n",
              "0                          763.043775                   791.680475   \n",
              "1                          770.620754                   774.176307   \n",
              "2                          753.355056                   738.860914   \n",
              "3                          994.320000                   673.566395   \n",
              "4                          998.870000                   637.364772   \n",
              "...                               ...                          ...   \n",
              "52603                      159.740000                   200.500000   \n",
              "52604                      271.190000                   204.100000   \n",
              "52605                      175.030000                   203.900000   \n",
              "52606                      215.660000                   211.100000   \n",
              "52607                      295.540000                   214.200000   \n",
              "\n",
              "       DTU..Delhi...CPCB  Dr..Karni.Singh.Shooting.Range..Delhi...DPCC  ...  \\\n",
              "0                  756.0                                    926.000000  ...   \n",
              "1                  756.0                                    926.000000  ...   \n",
              "2                  570.0                                    730.416657  ...   \n",
              "3                  570.0                                    974.000000  ...   \n",
              "4                  424.0                                    974.000000  ...   \n",
              "...                  ...                                           ...  ...   \n",
              "52603              215.0                                    174.000000  ...   \n",
              "52604              318.0                                    174.000000  ...   \n",
              "52605              318.0                                    188.000000  ...   \n",
              "52606              350.0                                    188.000000  ...   \n",
              "52607              350.0                                    201.000000  ...   \n",
              "\n",
              "       Pusa..Delhi...DPCC  Pusa..Delhi...IMD  R.K.Puram..Delhi...DPCC  \\\n",
              "0                   597.0         697.490000               700.026017   \n",
              "1                   714.0         868.930000               716.522231   \n",
              "2                   714.0         969.630000               690.755996   \n",
              "3                   687.0         642.767274               603.449366   \n",
              "4                   687.0         984.720000               633.436386   \n",
              "...                   ...                ...                      ...   \n",
              "52603               400.0         208.570000               226.000000   \n",
              "52604               400.0         266.050000               226.000000   \n",
              "52605               374.0         272.590000               185.000000   \n",
              "52606               374.0         237.390000               185.000000   \n",
              "52607               332.0         214.440000               246.275961   \n",
              "\n",
              "       Rohini..Delhi...DPCC  Shadipur..Delhi...CPCB  Sirifort..Delhi...CPCB  \\\n",
              "0                     668.0              623.851515                   774.0   \n",
              "1                     569.0              768.373897                   774.0   \n",
              "2                     569.0              761.070216                   790.0   \n",
              "3                     488.0              605.228617                   790.0   \n",
              "4                     488.0              721.949540                   861.0   \n",
              "...                     ...                     ...                     ...   \n",
              "52603                 321.0              231.800000                   200.0   \n",
              "52604                 321.0              278.900000                   292.0   \n",
              "52605                 396.0              278.800000                   292.0   \n",
              "52606                 396.0              265.800000                   247.0   \n",
              "52607                 351.0              265.800000                   247.0   \n",
              "\n",
              "       Sonia.Vihar..Delhi...DPCC  Sri.Aurobindo.Marg..Delhi...DPCC  \\\n",
              "0                          853.0                             539.0   \n",
              "1                          620.0                             580.0   \n",
              "2                          620.0                             580.0   \n",
              "3                          462.0                             627.0   \n",
              "4                          462.0                             627.0   \n",
              "...                          ...                               ...   \n",
              "52603                      200.0                             179.0   \n",
              "52604                      200.0                             179.0   \n",
              "52605                      213.0                             182.0   \n",
              "52606                      213.0                             182.0   \n",
              "52607                      211.0                             182.0   \n",
              "\n",
              "       Vivek.Vihar..Delhi...DPCC  Wazirpur..Delhi...DPCC  \n",
              "0                     772.093042                   807.0  \n",
              "1                     606.000000                   577.0  \n",
              "2                     606.000000                   577.0  \n",
              "3                     480.000000                   500.0  \n",
              "4                     480.000000                   500.0  \n",
              "...                          ...                     ...  \n",
              "52603                 194.000000                   246.0  \n",
              "52604                 206.000000                   246.0  \n",
              "52605                 206.000000                   276.0  \n",
              "52606                 224.000000                   276.0  \n",
              "52607                 224.000000                   237.0  \n",
              "\n",
              "[52608 rows x 40 columns]"
            ],
            "text/html": [
              "\n",
              "  <div id=\"df-976862d1-ad38-4746-9cd2-f5d60821ec2d\">\n",
              "    <div class=\"colab-df-container\">\n",
              "      <div>\n",
              "<style scoped>\n",
              "    .dataframe tbody tr th:only-of-type {\n",
              "        vertical-align: middle;\n",
              "    }\n",
              "\n",
              "    .dataframe tbody tr th {\n",
              "        vertical-align: top;\n",
              "    }\n",
              "\n",
              "    .dataframe thead th {\n",
              "        text-align: right;\n",
              "    }\n",
              "</style>\n",
              "<table border=\"1\" class=\"dataframe\">\n",
              "  <thead>\n",
              "    <tr style=\"text-align: right;\">\n",
              "      <th></th>\n",
              "      <th>Alipur..Delhi...DPCC</th>\n",
              "      <th>Anand.Vihar..Delhi...DPCC</th>\n",
              "      <th>Ashok.Vihar..Delhi...DPCC</th>\n",
              "      <th>Aya.Nagar..Delhi...IMD</th>\n",
              "      <th>Bawana..Delhi...DPCC</th>\n",
              "      <th>Burari.Crossing..Delhi...IMD</th>\n",
              "      <th>CRRI.Mathura.Road..Delhi...IMD</th>\n",
              "      <th>Chandni.Chowk..Delhi...IITM</th>\n",
              "      <th>DTU..Delhi...CPCB</th>\n",
              "      <th>Dr..Karni.Singh.Shooting.Range..Delhi...DPCC</th>\n",
              "      <th>...</th>\n",
              "      <th>Pusa..Delhi...DPCC</th>\n",
              "      <th>Pusa..Delhi...IMD</th>\n",
              "      <th>R.K.Puram..Delhi...DPCC</th>\n",
              "      <th>Rohini..Delhi...DPCC</th>\n",
              "      <th>Shadipur..Delhi...CPCB</th>\n",
              "      <th>Sirifort..Delhi...CPCB</th>\n",
              "      <th>Sonia.Vihar..Delhi...DPCC</th>\n",
              "      <th>Sri.Aurobindo.Marg..Delhi...DPCC</th>\n",
              "      <th>Vivek.Vihar..Delhi...DPCC</th>\n",
              "      <th>Wazirpur..Delhi...DPCC</th>\n",
              "    </tr>\n",
              "  </thead>\n",
              "  <tbody>\n",
              "    <tr>\n",
              "      <th>0</th>\n",
              "      <td>344.0</td>\n",
              "      <td>771.874752</td>\n",
              "      <td>965.0</td>\n",
              "      <td>537.24</td>\n",
              "      <td>723.111504</td>\n",
              "      <td>751.240449</td>\n",
              "      <td>763.043775</td>\n",
              "      <td>791.680475</td>\n",
              "      <td>756.0</td>\n",
              "      <td>926.000000</td>\n",
              "      <td>...</td>\n",
              "      <td>597.0</td>\n",
              "      <td>697.490000</td>\n",
              "      <td>700.026017</td>\n",
              "      <td>668.0</td>\n",
              "      <td>623.851515</td>\n",
              "      <td>774.0</td>\n",
              "      <td>853.0</td>\n",
              "      <td>539.0</td>\n",
              "      <td>772.093042</td>\n",
              "      <td>807.0</td>\n",
              "    </tr>\n",
              "    <tr>\n",
              "      <th>1</th>\n",
              "      <td>312.0</td>\n",
              "      <td>660.000000</td>\n",
              "      <td>554.0</td>\n",
              "      <td>533.12</td>\n",
              "      <td>668.072097</td>\n",
              "      <td>639.112284</td>\n",
              "      <td>770.620754</td>\n",
              "      <td>774.176307</td>\n",
              "      <td>756.0</td>\n",
              "      <td>926.000000</td>\n",
              "      <td>...</td>\n",
              "      <td>714.0</td>\n",
              "      <td>868.930000</td>\n",
              "      <td>716.522231</td>\n",
              "      <td>569.0</td>\n",
              "      <td>768.373897</td>\n",
              "      <td>774.0</td>\n",
              "      <td>620.0</td>\n",
              "      <td>580.0</td>\n",
              "      <td>606.000000</td>\n",
              "      <td>577.0</td>\n",
              "    </tr>\n",
              "    <tr>\n",
              "      <th>2</th>\n",
              "      <td>312.0</td>\n",
              "      <td>660.000000</td>\n",
              "      <td>554.0</td>\n",
              "      <td>679.15</td>\n",
              "      <td>951.000000</td>\n",
              "      <td>590.858425</td>\n",
              "      <td>753.355056</td>\n",
              "      <td>738.860914</td>\n",
              "      <td>570.0</td>\n",
              "      <td>730.416657</td>\n",
              "      <td>...</td>\n",
              "      <td>714.0</td>\n",
              "      <td>969.630000</td>\n",
              "      <td>690.755996</td>\n",
              "      <td>569.0</td>\n",
              "      <td>761.070216</td>\n",
              "      <td>790.0</td>\n",
              "      <td>620.0</td>\n",
              "      <td>580.0</td>\n",
              "      <td>606.000000</td>\n",
              "      <td>577.0</td>\n",
              "    </tr>\n",
              "    <tr>\n",
              "      <th>3</th>\n",
              "      <td>301.0</td>\n",
              "      <td>514.000000</td>\n",
              "      <td>450.0</td>\n",
              "      <td>893.24</td>\n",
              "      <td>951.000000</td>\n",
              "      <td>529.433363</td>\n",
              "      <td>994.320000</td>\n",
              "      <td>673.566395</td>\n",
              "      <td>570.0</td>\n",
              "      <td>974.000000</td>\n",
              "      <td>...</td>\n",
              "      <td>687.0</td>\n",
              "      <td>642.767274</td>\n",
              "      <td>603.449366</td>\n",
              "      <td>488.0</td>\n",
              "      <td>605.228617</td>\n",
              "      <td>790.0</td>\n",
              "      <td>462.0</td>\n",
              "      <td>627.0</td>\n",
              "      <td>480.000000</td>\n",
              "      <td>500.0</td>\n",
              "    </tr>\n",
              "    <tr>\n",
              "      <th>4</th>\n",
              "      <td>301.0</td>\n",
              "      <td>514.000000</td>\n",
              "      <td>450.0</td>\n",
              "      <td>805.27</td>\n",
              "      <td>856.000000</td>\n",
              "      <td>515.450364</td>\n",
              "      <td>998.870000</td>\n",
              "      <td>637.364772</td>\n",
              "      <td>424.0</td>\n",
              "      <td>974.000000</td>\n",
              "      <td>...</td>\n",
              "      <td>687.0</td>\n",
              "      <td>984.720000</td>\n",
              "      <td>633.436386</td>\n",
              "      <td>488.0</td>\n",
              "      <td>721.949540</td>\n",
              "      <td>861.0</td>\n",
              "      <td>462.0</td>\n",
              "      <td>627.0</td>\n",
              "      <td>480.000000</td>\n",
              "      <td>500.0</td>\n",
              "    </tr>\n",
              "    <tr>\n",
              "      <th>...</th>\n",
              "      <td>...</td>\n",
              "      <td>...</td>\n",
              "      <td>...</td>\n",
              "      <td>...</td>\n",
              "      <td>...</td>\n",
              "      <td>...</td>\n",
              "      <td>...</td>\n",
              "      <td>...</td>\n",
              "      <td>...</td>\n",
              "      <td>...</td>\n",
              "      <td>...</td>\n",
              "      <td>...</td>\n",
              "      <td>...</td>\n",
              "      <td>...</td>\n",
              "      <td>...</td>\n",
              "      <td>...</td>\n",
              "      <td>...</td>\n",
              "      <td>...</td>\n",
              "      <td>...</td>\n",
              "      <td>...</td>\n",
              "      <td>...</td>\n",
              "    </tr>\n",
              "    <tr>\n",
              "      <th>52603</th>\n",
              "      <td>189.0</td>\n",
              "      <td>300.000000</td>\n",
              "      <td>232.0</td>\n",
              "      <td>145.93</td>\n",
              "      <td>260.000000</td>\n",
              "      <td>243.907505</td>\n",
              "      <td>159.740000</td>\n",
              "      <td>200.500000</td>\n",
              "      <td>215.0</td>\n",
              "      <td>174.000000</td>\n",
              "      <td>...</td>\n",
              "      <td>400.0</td>\n",
              "      <td>208.570000</td>\n",
              "      <td>226.000000</td>\n",
              "      <td>321.0</td>\n",
              "      <td>231.800000</td>\n",
              "      <td>200.0</td>\n",
              "      <td>200.0</td>\n",
              "      <td>179.0</td>\n",
              "      <td>194.000000</td>\n",
              "      <td>246.0</td>\n",
              "    </tr>\n",
              "    <tr>\n",
              "      <th>52604</th>\n",
              "      <td>188.0</td>\n",
              "      <td>300.000000</td>\n",
              "      <td>232.0</td>\n",
              "      <td>161.49</td>\n",
              "      <td>260.000000</td>\n",
              "      <td>250.306375</td>\n",
              "      <td>271.190000</td>\n",
              "      <td>204.100000</td>\n",
              "      <td>318.0</td>\n",
              "      <td>174.000000</td>\n",
              "      <td>...</td>\n",
              "      <td>400.0</td>\n",
              "      <td>266.050000</td>\n",
              "      <td>226.000000</td>\n",
              "      <td>321.0</td>\n",
              "      <td>278.900000</td>\n",
              "      <td>292.0</td>\n",
              "      <td>200.0</td>\n",
              "      <td>179.0</td>\n",
              "      <td>206.000000</td>\n",
              "      <td>246.0</td>\n",
              "    </tr>\n",
              "    <tr>\n",
              "      <th>52605</th>\n",
              "      <td>188.0</td>\n",
              "      <td>244.000000</td>\n",
              "      <td>271.0</td>\n",
              "      <td>126.21</td>\n",
              "      <td>373.000000</td>\n",
              "      <td>262.142807</td>\n",
              "      <td>175.030000</td>\n",
              "      <td>203.900000</td>\n",
              "      <td>318.0</td>\n",
              "      <td>188.000000</td>\n",
              "      <td>...</td>\n",
              "      <td>374.0</td>\n",
              "      <td>272.590000</td>\n",
              "      <td>185.000000</td>\n",
              "      <td>396.0</td>\n",
              "      <td>278.800000</td>\n",
              "      <td>292.0</td>\n",
              "      <td>213.0</td>\n",
              "      <td>182.0</td>\n",
              "      <td>206.000000</td>\n",
              "      <td>276.0</td>\n",
              "    </tr>\n",
              "    <tr>\n",
              "      <th>52606</th>\n",
              "      <td>186.0</td>\n",
              "      <td>244.000000</td>\n",
              "      <td>271.0</td>\n",
              "      <td>129.73</td>\n",
              "      <td>373.000000</td>\n",
              "      <td>261.791316</td>\n",
              "      <td>215.660000</td>\n",
              "      <td>211.100000</td>\n",
              "      <td>350.0</td>\n",
              "      <td>188.000000</td>\n",
              "      <td>...</td>\n",
              "      <td>374.0</td>\n",
              "      <td>237.390000</td>\n",
              "      <td>185.000000</td>\n",
              "      <td>396.0</td>\n",
              "      <td>265.800000</td>\n",
              "      <td>247.0</td>\n",
              "      <td>213.0</td>\n",
              "      <td>182.0</td>\n",
              "      <td>224.000000</td>\n",
              "      <td>276.0</td>\n",
              "    </tr>\n",
              "    <tr>\n",
              "      <th>52607</th>\n",
              "      <td>186.0</td>\n",
              "      <td>266.000000</td>\n",
              "      <td>206.0</td>\n",
              "      <td>113.21</td>\n",
              "      <td>289.000000</td>\n",
              "      <td>246.945315</td>\n",
              "      <td>295.540000</td>\n",
              "      <td>214.200000</td>\n",
              "      <td>350.0</td>\n",
              "      <td>201.000000</td>\n",
              "      <td>...</td>\n",
              "      <td>332.0</td>\n",
              "      <td>214.440000</td>\n",
              "      <td>246.275961</td>\n",
              "      <td>351.0</td>\n",
              "      <td>265.800000</td>\n",
              "      <td>247.0</td>\n",
              "      <td>211.0</td>\n",
              "      <td>182.0</td>\n",
              "      <td>224.000000</td>\n",
              "      <td>237.0</td>\n",
              "    </tr>\n",
              "  </tbody>\n",
              "</table>\n",
              "<p>52608 rows × 40 columns</p>\n",
              "</div>\n",
              "      <button class=\"colab-df-convert\" onclick=\"convertToInteractive('df-976862d1-ad38-4746-9cd2-f5d60821ec2d')\"\n",
              "              title=\"Convert this dataframe to an interactive table.\"\n",
              "              style=\"display:none;\">\n",
              "        \n",
              "  <svg xmlns=\"http://www.w3.org/2000/svg\" height=\"24px\"viewBox=\"0 0 24 24\"\n",
              "       width=\"24px\">\n",
              "    <path d=\"M0 0h24v24H0V0z\" fill=\"none\"/>\n",
              "    <path d=\"M18.56 5.44l.94 2.06.94-2.06 2.06-.94-2.06-.94-.94-2.06-.94 2.06-2.06.94zm-11 1L8.5 8.5l.94-2.06 2.06-.94-2.06-.94L8.5 2.5l-.94 2.06-2.06.94zm10 10l.94 2.06.94-2.06 2.06-.94-2.06-.94-.94-2.06-.94 2.06-2.06.94z\"/><path d=\"M17.41 7.96l-1.37-1.37c-.4-.4-.92-.59-1.43-.59-.52 0-1.04.2-1.43.59L10.3 9.45l-7.72 7.72c-.78.78-.78 2.05 0 2.83L4 21.41c.39.39.9.59 1.41.59.51 0 1.02-.2 1.41-.59l7.78-7.78 2.81-2.81c.8-.78.8-2.07 0-2.86zM5.41 20L4 18.59l7.72-7.72 1.47 1.35L5.41 20z\"/>\n",
              "  </svg>\n",
              "      </button>\n",
              "      \n",
              "  <style>\n",
              "    .colab-df-container {\n",
              "      display:flex;\n",
              "      flex-wrap:wrap;\n",
              "      gap: 12px;\n",
              "    }\n",
              "\n",
              "    .colab-df-convert {\n",
              "      background-color: #E8F0FE;\n",
              "      border: none;\n",
              "      border-radius: 50%;\n",
              "      cursor: pointer;\n",
              "      display: none;\n",
              "      fill: #1967D2;\n",
              "      height: 32px;\n",
              "      padding: 0 0 0 0;\n",
              "      width: 32px;\n",
              "    }\n",
              "\n",
              "    .colab-df-convert:hover {\n",
              "      background-color: #E2EBFA;\n",
              "      box-shadow: 0px 1px 2px rgba(60, 64, 67, 0.3), 0px 1px 3px 1px rgba(60, 64, 67, 0.15);\n",
              "      fill: #174EA6;\n",
              "    }\n",
              "\n",
              "    [theme=dark] .colab-df-convert {\n",
              "      background-color: #3B4455;\n",
              "      fill: #D2E3FC;\n",
              "    }\n",
              "\n",
              "    [theme=dark] .colab-df-convert:hover {\n",
              "      background-color: #434B5C;\n",
              "      box-shadow: 0px 1px 3px 1px rgba(0, 0, 0, 0.15);\n",
              "      filter: drop-shadow(0px 1px 2px rgba(0, 0, 0, 0.3));\n",
              "      fill: #FFFFFF;\n",
              "    }\n",
              "  </style>\n",
              "\n",
              "      <script>\n",
              "        const buttonEl =\n",
              "          document.querySelector('#df-976862d1-ad38-4746-9cd2-f5d60821ec2d button.colab-df-convert');\n",
              "        buttonEl.style.display =\n",
              "          google.colab.kernel.accessAllowed ? 'block' : 'none';\n",
              "\n",
              "        async function convertToInteractive(key) {\n",
              "          const element = document.querySelector('#df-976862d1-ad38-4746-9cd2-f5d60821ec2d');\n",
              "          const dataTable =\n",
              "            await google.colab.kernel.invokeFunction('convertToInteractive',\n",
              "                                                     [key], {});\n",
              "          if (!dataTable) return;\n",
              "\n",
              "          const docLinkHtml = 'Like what you see? Visit the ' +\n",
              "            '<a target=\"_blank\" href=https://colab.research.google.com/notebooks/data_table.ipynb>data table notebook</a>'\n",
              "            + ' to learn more about interactive tables.';\n",
              "          element.innerHTML = '';\n",
              "          dataTable['output_type'] = 'display_data';\n",
              "          await google.colab.output.renderOutput(dataTable, element);\n",
              "          const docLink = document.createElement('div');\n",
              "          docLink.innerHTML = docLinkHtml;\n",
              "          element.appendChild(docLink);\n",
              "        }\n",
              "      </script>\n",
              "    </div>\n",
              "  </div>\n",
              "  "
            ]
          },
          "metadata": {},
          "execution_count": 18
        }
      ]
    },
    {
      "cell_type": "code",
      "source": [
        "pm10mean=np.mean(np.asarray(pm10csv),0)"
      ],
      "metadata": {
        "id": "-jfjUzAmmU9S"
      },
      "execution_count": null,
      "outputs": []
    },
    {
      "cell_type": "code",
      "source": [
        "pm10mean"
      ],
      "metadata": {
        "colab": {
          "base_uri": "https://localhost:8080/"
        },
        "id": "ETsBf3ElnH9n",
        "outputId": "621ea7ab-9b85-4301-f9c3-cd71e75b00eb"
      },
      "execution_count": null,
      "outputs": [
        {
          "output_type": "execute_result",
          "data": {
            "text/plain": [
              "array([202.12049965, 259.47548082, 209.28510176, 152.44801274,\n",
              "       243.09993779, 209.54666114, 206.87541315, 228.94397824,\n",
              "       209.74838965, 176.58715225, 238.73350013, 210.35705146,\n",
              "       176.15404787, 203.58463821, 178.97618303, 246.320984  ,\n",
              "       182.23008533, 153.82304374, 159.83400821, 186.25596269,\n",
              "       164.93632025, 247.07710077, 217.01125158, 159.83728807,\n",
              "       229.97978142, 200.22187477, 178.23991198, 210.39283783,\n",
              "       189.90405156, 204.60975317, 199.2288881 , 162.88707369,\n",
              "       188.27155402, 227.11915048, 215.20010861, 199.24921236,\n",
              "       215.31363508, 143.18602188, 221.57116797, 235.67093179])"
            ]
          },
          "metadata": {},
          "execution_count": 21
        }
      ]
    },
    {
      "cell_type": "code",
      "source": [
        "pm10new=[]\n",
        "for i in range(26280):\n",
        "  s=2*i\n",
        "  # print(s)\n",
        "  new=np.expand_dims(np.mean(pm10csv[s:s+2],axis=0),axis=0)\n",
        "  pm10new.append(new)\n",
        "pm10new=np.concatenate(pm10new,0)"
      ],
      "metadata": {
        "id": "T9fqXwqCnV1a"
      },
      "execution_count": null,
      "outputs": []
    },
    {
      "cell_type": "code",
      "source": [
        "pm10mean1=np.mean(pm10new,0)\n",
        "pm10mean1"
      ],
      "metadata": {
        "colab": {
          "base_uri": "https://localhost:8080/"
        },
        "id": "Ky9G7dw_n0BA",
        "outputId": "08b77d03-2893-4737-b823-b9715ac22563"
      },
      "execution_count": null,
      "outputs": [
        {
          "output_type": "execute_result",
          "data": {
            "text/plain": [
              "array([202.11650011, 259.42743064, 209.2517434 , 152.41573676,\n",
              "       243.10107548, 209.50326376, 206.82950029, 228.9104447 ,\n",
              "       209.70355022, 176.53877294, 238.73662433, 210.31786905,\n",
              "       176.1643752 , 203.58709374, 179.01986372, 246.27633802,\n",
              "       182.16625435, 153.78239348, 159.788525  , 186.21340725,\n",
              "       164.8855239 , 247.01697331, 216.97782007, 159.82549564,\n",
              "       229.98484286, 200.15364132, 178.23111414, 210.34871409,\n",
              "       189.82681401, 204.57447589, 199.13147536, 162.85871334,\n",
              "       188.23191853, 227.10940389, 215.14214258, 199.18353431,\n",
              "       215.29162318, 143.11986756, 221.48439886, 235.63250342])"
            ]
          },
          "metadata": {},
          "execution_count": 26
        }
      ]
    },
    {
      "cell_type": "markdown",
      "source": [],
      "metadata": {
        "id": "BZ7FhntPnD0g"
      }
    },
    {
      "cell_type": "code",
      "source": [
        "def doKmeans(X, nclust=8):\n",
        "    model = KMeans(nclust)\n",
        "    model.fit(X)\n",
        "    clust_labels = model.predict(X)\n",
        "    cent = model.cluster_centers_\n",
        "    return (clust_labels, cent)\n",
        "\n",
        "clust_labels, cent = doKmeans(pm25, 3)\n",
        "# kmeans = pd.DataFrame(clust_labels)\n",
        "# print(kmeans)\n",
        "pm[\"kmeans\"]=clust_labels"
      ],
      "metadata": {
        "id": "VIp8ljcolF2P"
      },
      "execution_count": null,
      "outputs": []
    },
    {
      "cell_type": "code",
      "source": [
        "latlon=loc_b.iloc[:,1:]"
      ],
      "metadata": {
        "id": "ovs6kGwevhM0"
      },
      "execution_count": null,
      "outputs": []
    },
    {
      "cell_type": "code",
      "source": [
        "meanpm25.shape"
      ],
      "metadata": {
        "colab": {
          "base_uri": "https://localhost:8080/"
        },
        "id": "Dr8VD_nQANTT",
        "outputId": "a86025c6-8f68-4b15-ad91-4839af63f359"
      },
      "execution_count": null,
      "outputs": [
        {
          "output_type": "execute_result",
          "data": {
            "text/plain": [
              "(40,)"
            ]
          },
          "metadata": {},
          "execution_count": 55
        }
      ]
    },
    {
      "cell_type": "code",
      "source": [
        "dataapm25=np.concatenate([np.asarray(latlon),np.expand_dims(meanpm25,-1)],-1)"
      ],
      "metadata": {
        "id": "Y__lBj6V_pn_"
      },
      "execution_count": null,
      "outputs": []
    },
    {
      "cell_type": "code",
      "source": [
        "dataapm10=np.concatenate([np.asarray(latlon),np.expand_dims(meanpm10,-1)],-1)"
      ],
      "metadata": {
        "id": "ZBERSvrhApzj"
      },
      "execution_count": null,
      "outputs": []
    },
    {
      "cell_type": "code",
      "source": [
        "dataapm25pm10=np.concatenate([dataapm10,np.expand_dims(meanpm25,-1)],-1)"
      ],
      "metadata": {
        "id": "dH5ArAqGFowm"
      },
      "execution_count": null,
      "outputs": []
    },
    {
      "cell_type": "code",
      "source": [
        " from sklearn.cluster import KMeans"
      ],
      "metadata": {
        "id": "BtWXXeL1Avkk"
      },
      "execution_count": null,
      "outputs": []
    },
    {
      "cell_type": "code",
      "source": [
        "def doKmeans(X, nclust=8):\n",
        "    model = KMeans(nclust)\n",
        "    model.fit(X)\n",
        "    clust_labels = model.predict(X)\n",
        "    cent = model.cluster_centers_\n",
        "    return (clust_labels, cent)\n",
        "\n",
        "clust_labels, cent = doKmeans(dataapm10, 3)\n",
        "# kmeans = pd.DataFrame(clust_labels)\n",
        "# print(kmeans)\n",
        "# pm[\"kmeans\"]=clust_labels"
      ],
      "metadata": {
        "colab": {
          "base_uri": "https://localhost:8080/"
        },
        "id": "-ABH7xNRA6eK",
        "outputId": "68748432-cffb-442e-d11a-ccbcdbc985a3"
      },
      "execution_count": null,
      "outputs": [
        {
          "output_type": "stream",
          "name": "stderr",
          "text": [
            "/usr/local/lib/python3.9/dist-packages/sklearn/cluster/_kmeans.py:870: FutureWarning: The default value of `n_init` will change from 10 to 'auto' in 1.4. Set the value of `n_init` explicitly to suppress the warning\n",
            "  warnings.warn(\n"
          ]
        }
      ]
    },
    {
      "cell_type": "code",
      "source": [
        "clust_labels1, cent = doKmeans(dataapm25, 3)\n",
        "clust_labels1"
      ],
      "metadata": {
        "colab": {
          "base_uri": "https://localhost:8080/"
        },
        "id": "N8EK8bG8BCML",
        "outputId": "43a30783-b11d-468a-e808-2c113c12b694"
      },
      "execution_count": null,
      "outputs": [
        {
          "output_type": "stream",
          "name": "stderr",
          "text": [
            "/usr/local/lib/python3.9/dist-packages/sklearn/cluster/_kmeans.py:870: FutureWarning: The default value of `n_init` will change from 10 to 'auto' in 1.4. Set the value of `n_init` explicitly to suppress the warning\n",
            "  warnings.warn(\n"
          ]
        },
        {
          "output_type": "execute_result",
          "data": {
            "text/plain": [
              "array([2, 1, 1, 0, 1, 2, 2, 2, 1, 2, 2, 2, 0, 0, 1, 1, 2, 0, 0, 2, 2, 1,\n",
              "       2, 0, 1, 1, 2, 2, 1, 1, 2, 0, 2, 1, 0, 2, 1, 0, 1, 1], dtype=int32)"
            ]
          },
          "metadata": {},
          "execution_count": 64
        }
      ]
    },
    {
      "cell_type": "code",
      "source": [
        "Cluster0_25=np.where(clust_labels1==0)\n",
        "Cluster1_25=np.where(clust_labels1==1)\n",
        "Cluster2_25=np.where(clust_labels1==2)\n"
      ],
      "metadata": {
        "id": "PoH7uWV4GBKF"
      },
      "execution_count": null,
      "outputs": []
    },
    {
      "cell_type": "code",
      "source": [
        "Cluster0_10=np.where(clust_labels==0)\n",
        "Cluster1_10=np.where(clust_labels==1)\n",
        "Cluster2_10=np.where(clust_labels==2)"
      ],
      "metadata": {
        "id": "gvVfwo7qGVI8"
      },
      "execution_count": null,
      "outputs": []
    },
    {
      "cell_type": "code",
      "source": [
        "clust_labels"
      ],
      "metadata": {
        "colab": {
          "base_uri": "https://localhost:8080/"
        },
        "id": "Ru9AUB7wA-pG",
        "outputId": "14830ee0-6746-49fe-83a6-0727d0c9ddb7"
      },
      "execution_count": null,
      "outputs": [
        {
          "output_type": "execute_result",
          "data": {
            "text/plain": [
              "array([1, 2, 1, 0, 2, 1, 1, 2, 1, 0, 2, 1, 0, 1, 0, 2, 0, 0, 0, 1, 0, 2,\n",
              "       1, 0, 2, 1, 0, 1, 1, 1, 1, 0, 1, 2, 1, 1, 1, 0, 1, 2], dtype=int32)"
            ]
          },
          "metadata": {},
          "execution_count": 63
        }
      ]
    },
    {
      "cell_type": "code",
      "source": [
        "clust_labels_combine, cent = doKmeans(dataapm25pm10, 3)\n",
        "clust_labels_combine"
      ],
      "metadata": {
        "colab": {
          "base_uri": "https://localhost:8080/"
        },
        "id": "mWm7FAEeFz05",
        "outputId": "b47a5688-d4d2-4ede-a609-e4d5bd575db1"
      },
      "execution_count": null,
      "outputs": [
        {
          "output_type": "stream",
          "name": "stderr",
          "text": [
            "/usr/local/lib/python3.9/dist-packages/sklearn/cluster/_kmeans.py:870: FutureWarning: The default value of `n_init` will change from 10 to 'auto' in 1.4. Set the value of `n_init` explicitly to suppress the warning\n",
            "  warnings.warn(\n"
          ]
        },
        {
          "output_type": "execute_result",
          "data": {
            "text/plain": [
              "array([0, 2, 0, 1, 2, 0, 0, 0, 0, 1, 2, 0, 1, 0, 1, 2, 1, 1, 1, 0, 1, 2,\n",
              "       0, 1, 2, 0, 1, 0, 0, 0, 0, 1, 0, 2, 0, 0, 0, 1, 2, 2], dtype=int32)"
            ]
          },
          "metadata": {},
          "execution_count": 67
        }
      ]
    },
    {
      "cell_type": "code",
      "source": [
        "Cluster0_2510=np.where(clust_labels_combine==0)\n",
        "Cluster1_2510=np.where(clust_labels_combine==1)\n",
        "Cluster2_2510=np.where(clust_labels_combine==2)"
      ],
      "metadata": {
        "id": "GmnaD1WZGbEs"
      },
      "execution_count": null,
      "outputs": []
    },
    {
      "cell_type": "code",
      "source": [
        "np.save(\"/content/drive/MyDrive/J2/data/Cluster0_25.npy\", Cluster0_25)\n",
        "np.save(\"/content/drive/MyDrive/J2/data/Cluster1_25.npy\", Cluster1_25)\n",
        "np.save(\"/content/drive/MyDrive/J2/data/Cluster2_25.npy\", Cluster2_25)"
      ],
      "metadata": {
        "id": "g7cBhFDYGmE0"
      },
      "execution_count": null,
      "outputs": []
    },
    {
      "cell_type": "code",
      "source": [
        "np.save(\"/content/drive/MyDrive/J2/data/Cluster0_10.npy\", Cluster0_10)\n",
        "np.save(\"/content/drive/MyDrive/J2/data/Cluster1_10.npy\", Cluster1_10)\n",
        "np.save(\"/content/drive/MyDrive/J2/data/Cluster2_10.npy\", Cluster2_10)"
      ],
      "metadata": {
        "id": "VvuuVD--HPBm"
      },
      "execution_count": null,
      "outputs": []
    },
    {
      "cell_type": "code",
      "source": [
        "np.save(\"/content/drive/MyDrive/J2/data/Cluster0_2510.npy\", Cluster0_2510)\n",
        "np.save(\"/content/drive/MyDrive/J2/data/Cluster1_2510.npy\", Cluster1_2510)\n",
        "np.save(\"/content/drive/MyDrive/J2/data/Cluster2_2510.npy\", Cluster2_2510)"
      ],
      "metadata": {
        "id": "PFW85aQTHUwB"
      },
      "execution_count": null,
      "outputs": []
    },
    {
      "cell_type": "code",
      "source": [
        "dataapm25pm10"
      ],
      "metadata": {
        "id": "jrYJVC43Fyr8"
      },
      "execution_count": null,
      "outputs": []
    }
  ]
}